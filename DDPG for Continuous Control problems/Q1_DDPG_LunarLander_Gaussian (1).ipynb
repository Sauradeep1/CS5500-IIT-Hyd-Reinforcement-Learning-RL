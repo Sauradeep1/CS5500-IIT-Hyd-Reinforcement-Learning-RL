{
  "nbformat": 4,
  "nbformat_minor": 0,
  "metadata": {
    "colab": {
      "provenance": [],
      "collapsed_sections": []
    },
    "kernelspec": {
      "name": "python3",
      "display_name": "Python 3"
    },
    "language_info": {
      "name": "python"
    },
    "accelerator": "GPU",
    "gpuClass": "standard"
  },
  "cells": [
    {
      "cell_type": "code",
      "source": [
        "!pip install gym[box2d]"
      ],
      "metadata": {
        "colab": {
          "base_uri": "https://localhost:8080/"
        },
        "id": "y7r5C3VZLyI3",
        "outputId": "855c9c76-6617-4dbe-fbb3-b7d3813e3708"
      },
      "execution_count": 1,
      "outputs": [
        {
          "output_type": "stream",
          "name": "stdout",
          "text": [
            "Looking in indexes: https://pypi.org/simple, https://us-python.pkg.dev/colab-wheels/public/simple/\n",
            "Requirement already satisfied: gym[box2d] in /usr/local/lib/python3.7/dist-packages (0.25.2)\n",
            "Requirement already satisfied: gym-notices>=0.0.4 in /usr/local/lib/python3.7/dist-packages (from gym[box2d]) (0.0.8)\n",
            "Requirement already satisfied: importlib-metadata>=4.8.0 in /usr/local/lib/python3.7/dist-packages (from gym[box2d]) (4.13.0)\n",
            "Requirement already satisfied: numpy>=1.18.0 in /usr/local/lib/python3.7/dist-packages (from gym[box2d]) (1.21.6)\n",
            "Requirement already satisfied: cloudpickle>=1.2.0 in /usr/local/lib/python3.7/dist-packages (from gym[box2d]) (1.5.0)\n",
            "Collecting pygame==2.1.0\n",
            "  Downloading pygame-2.1.0-cp37-cp37m-manylinux_2_17_x86_64.manylinux2014_x86_64.whl (18.3 MB)\n",
            "\u001b[K     |████████████████████████████████| 18.3 MB 102 kB/s \n",
            "\u001b[?25hCollecting swig==4.*\n",
            "  Downloading swig-4.1.0-py2.py3-none-manylinux_2_5_x86_64.manylinux1_x86_64.whl (1.8 MB)\n",
            "\u001b[K     |████████████████████████████████| 1.8 MB 47.5 MB/s \n",
            "\u001b[?25hCollecting box2d-py==2.3.5\n",
            "  Downloading box2d_py-2.3.5-cp37-cp37m-manylinux1_x86_64.whl (2.1 MB)\n",
            "\u001b[K     |████████████████████████████████| 2.1 MB 53.1 MB/s \n",
            "\u001b[?25hRequirement already satisfied: typing-extensions>=3.6.4 in /usr/local/lib/python3.7/dist-packages (from importlib-metadata>=4.8.0->gym[box2d]) (4.1.1)\n",
            "Requirement already satisfied: zipp>=0.5 in /usr/local/lib/python3.7/dist-packages (from importlib-metadata>=4.8.0->gym[box2d]) (3.10.0)\n",
            "Installing collected packages: swig, pygame, box2d-py\n",
            "Successfully installed box2d-py-2.3.5 pygame-2.1.0 swig-4.1.0\n"
          ]
        }
      ]
    },
    {
      "cell_type": "code",
      "execution_count": 2,
      "metadata": {
        "id": "fA8Be_fnLZXT"
      },
      "outputs": [],
      "source": [
        "import torch\n",
        "import torch.optim as optim\n",
        "import torch.nn as nn\n",
        "import torch.nn.functional as F\n",
        "import matplotlib.pyplot as plt\n",
        "import gym\n",
        "import numpy as np"
      ]
    },
    {
      "cell_type": "code",
      "source": [
        "# check and use GPU if available if not use CPU\n",
        "device = torch.device(\"cuda\" if torch.cuda.is_available() else \"cpu\")"
      ],
      "metadata": {
        "id": "eR55CGvHLmD2"
      },
      "execution_count": 3,
      "outputs": []
    },
    {
      "cell_type": "code",
      "source": [
        "env = gym.make('LunarLanderContinuous-v2')\n",
        "env.reset()\n",
        "\n",
        "prev_screen = env.render(mode='rgb_array')\n",
        "plt.imshow(prev_screen)\n",
        "\n",
        "for i in range(200):\n",
        "    env.render(mode='rgb_array')\n",
        "    action = env.action_space.sample()\n",
        "    obs, reward, done, info = env.step(action)\n",
        "    if done:\n",
        "        env.reset()\n",
        "        \n",
        "env.close()"
      ],
      "metadata": {
        "colab": {
          "base_uri": "https://localhost:8080/",
          "height": 410
        },
        "id": "VFMX6rrxLmGW",
        "outputId": "d3591680-2b54-4e37-887a-a97dee511f32"
      },
      "execution_count": 4,
      "outputs": [
        {
          "output_type": "stream",
          "name": "stderr",
          "text": [
            "/usr/local/lib/python3.7/dist-packages/gym/core.py:318: DeprecationWarning: \u001b[33mWARN: Initializing wrapper in old step API which returns one bool instead of two. It is recommended to set `new_step_api=True` to use new step API. This will be the default behaviour in future.\u001b[0m\n",
            "  \"Initializing wrapper in old step API which returns one bool instead of two. It is recommended to set `new_step_api=True` to use new step API. This will be the default behaviour in future.\"\n",
            "/usr/local/lib/python3.7/dist-packages/gym/wrappers/step_api_compatibility.py:40: DeprecationWarning: \u001b[33mWARN: Initializing environment in old step API which returns one bool instead of two. It is recommended to set `new_step_api=True` to use new step API. This will be the default behaviour in future.\u001b[0m\n",
            "  \"Initializing environment in old step API which returns one bool instead of two. It is recommended to set `new_step_api=True` to use new step API. This will be the default behaviour in future.\"\n",
            "/usr/local/lib/python3.7/dist-packages/gym/core.py:44: DeprecationWarning: \u001b[33mWARN: The argument mode in render method is deprecated; use render_mode during environment initialization instead.\n",
            "See here for more information: https://www.gymlibrary.ml/content/api/\u001b[0m\n",
            "  \"The argument mode in render method is deprecated; \"\n"
          ]
        },
        {
          "output_type": "display_data",
          "data": {
            "text/plain": [
              "<Figure size 432x288 with 1 Axes>"
            ],
            "image/png": "[encoded data removed]"
          },
          "metadata": {
            "needs_background": "light"
          }
        }
      ]
    },
    {
      "cell_type": "code",
      "source": [
        "\n",
        "#Experience Replay Buffer\n",
        "# replay buffer from and some code based on https://github.com/sfujim/TD3\n",
        "\n",
        "# create replay buffer of tuples of (state, next_state, action, reward, done)\n",
        "class ReplayBuffer():\n",
        "    def __init__(self, max_size=1e6):\n",
        "        self.storage = []\n",
        "        self.max_size = max_size\n",
        "        self.ptr = 0\n",
        "\n",
        "    def add(self, data):\n",
        "        if len(self.storage) == self.max_size:\n",
        "            self.storage[int(self.ptr)] = data\n",
        "            self.ptr = (self.ptr + 1) % self.max_size\n",
        "        else:\n",
        "            self.storage.append(data)\n",
        "\n",
        "    def sample(self, batch_size):\n",
        "        ind = np.random.randint(0, len(self.storage), size=batch_size)\n",
        "        x, y, u, r, d = [], [], [], [], []\n",
        "\n",
        "        for i in ind: \n",
        "            X, Y, U, R, D = self.storage[i]\n",
        "            x.append(np.array(X, copy=False))\n",
        "            y.append(np.array(Y, copy=False))\n",
        "            u.append(np.array(U, copy=False))\n",
        "            r.append(np.array(R, copy=False))\n",
        "            d.append(np.array(D, copy=False))\n",
        "\n",
        "        return np.array(x), np.array(y), np.array(u), np.array(r).reshape(-1,1), np.array(d).reshape(-1,1)"
      ],
      "metadata": {
        "id": "5_mBsxnvLmJA"
      },
      "execution_count": 5,
      "outputs": []
    },
    {
      "cell_type": "code",
      "source": [
        "class ActorNet(nn.Module):\n",
        "    def __init__(self, state_size, action_size, hidden_size, action_max):\n",
        "        super(ActorNet, self).__init__()\n",
        "        self.dense_layer_1 = nn.Linear(state_size, hidden_size)\n",
        "        self.dense_layer_2 = nn.Linear(hidden_size, hidden_size)\n",
        "        self.output = nn.Linear(hidden_size, action_size)\n",
        "        self.action_max = action_max\n",
        "    \n",
        "    def forward(self, x):\n",
        "        x = torch.clamp(x,-1.1,1.1)\n",
        "        x = F.relu(self.dense_layer_1(x))\n",
        "        x = F.relu(self.dense_layer_2(x))\n",
        "        return torch.tanh(self.output(x)) * self.action_max\n",
        "    \n",
        "class CriticNet(nn.Module):\n",
        "    def __init__(self, state_size, action_size, hidden_size):\n",
        "        super(CriticNet, self).__init__()\n",
        "        self.dense_layer_1 = nn.Linear(state_size+action_size, hidden_size)\n",
        "        self.dense_layer_2 = nn.Linear(hidden_size, hidden_size)\n",
        "        self.output = nn.Linear(hidden_size, 1)\n",
        "    \n",
        "    def forward(self, x, a):\n",
        "        x = torch.clamp(x,-1.1,1.1)\n",
        "        x = F.relu(self.dense_layer_1(torch.cat((x,a),dim=1)))\n",
        "        x = F.relu(self.dense_layer_2(x))\n",
        "        return self.output(x)"
      ],
      "metadata": {
        "id": "3YloH-gwMQah"
      },
      "execution_count": 6,
      "outputs": []
    },
    {
      "cell_type": "code",
      "source": [
        "class DDPGAgent():\n",
        "    def __init__(self, state_size, action_size, hidden_size, actor_lr, critic_lr, discount,\n",
        "                 min_action, max_action, exploration_noise):\n",
        "        self.action_size = action_size\n",
        "        self.actor = ActorNet(state_size, action_size, hidden_size, max_action).to(device)\n",
        "        self.actor_target = ActorNet(state_size, action_size, hidden_size, max_action).to(device)\n",
        "        self.critic = CriticNet(state_size, action_size, hidden_size).to(device)\n",
        "        self.critic_target = CriticNet(state_size, action_size, hidden_size).to(device)\n",
        "        self.actor_target.load_state_dict(self.actor.state_dict())\n",
        "        self.critic_target.load_state_dict(self.critic.state_dict())\n",
        "        \n",
        "        self.actor_optimizer = optim.Adam(self.actor.parameters(), lr=actor_lr)\n",
        "        self.critic_optimizer = optim.Adam(self.critic.parameters(), lr=critic_lr)\n",
        "        self.discount = discount\n",
        "        self.min_action = min_action\n",
        "        self.max_action = max_action\n",
        "        self.exploration_noise = exploration_noise\n",
        "        \n",
        "    def select_action(self, state):\n",
        "        #get action probs then randomly sample from the probabilities\n",
        "        with torch.no_grad():\n",
        "            input_state = torch.FloatTensor(state).to(device)\n",
        "            action = self.actor(input_state)\n",
        "            #detach and turn to numpy to use with np.random.choice()\n",
        "            action = action.detach().cpu().numpy()\n",
        "            #in DDPG add noise for exploration\n",
        "            action = (action + np.random.normal(0., self.exploration_noise, \n",
        "                       size=self.action_size)).clip(self.min_action, self.max_action)   \n",
        "        return action\n",
        "\n",
        "    \n",
        "    def train(self, replay_buffer, batch_size):\n",
        "        # sample a batch from the replay buffer\n",
        "        x0, x1, a, r, d = replay_buffer.sample(batch_size)\n",
        "        # turn batches into tensors and use GPU if available\n",
        "        state_batch = torch.FloatTensor(x0).to(device)\n",
        "        next_state_batch = torch.FloatTensor(x1).to(device)\n",
        "        action_batch = torch.FloatTensor(a).to(device)\n",
        "        reward_batch = torch.FloatTensor(r).to(device)\n",
        "        flipped_done_batch = torch.FloatTensor(d).to(device) #already flipped done when adding to replay buffer\n",
        "\n",
        "        # get target net target values\n",
        "        with torch.no_grad():\n",
        "            target_action = self.actor_target(next_state_batch).view(batch_size,-1)\n",
        "            target_v = reward_batch + flipped_done_batch*self.discount*self.critic_target(next_state_batch, \n",
        "                                                                           target_action).view(batch_size,-1)\n",
        "        # get train net values for updating the critic network    \n",
        "        critic_v = self.critic(state_batch, action_batch).view(batch_size,-1)\n",
        "        \n",
        "        # train critic\n",
        "        critic_loss = F.smooth_l1_loss(critic_v, target_v)\n",
        "        self.critic_optimizer.zero_grad()\n",
        "        critic_loss.backward()\n",
        "        self.critic_optimizer.step() \n",
        "        \n",
        "        # train actor\n",
        "        train_action = self.actor(state_batch)\n",
        "        actor_loss = -torch.mean(self.critic(state_batch,train_action))\n",
        "        self.actor_optimizer.zero_grad()\n",
        "        actor_loss.backward()\n",
        "        self.actor_optimizer.step() \n",
        "        \n",
        "        return actor_loss.detach().cpu().numpy(), critic_loss.detach().cpu().numpy()\n",
        "        \n",
        "        \n",
        "    def update_target_network_soft(self, num_iter, update_every, update_tau=0.001):\n",
        "        # soft target network update: update target networks with mixture of train and target\n",
        "        if num_iter % update_every == 0:\n",
        "            for target_var, var in zip(self.critic_target.parameters(), self.critic.parameters()):\n",
        "                target_var.data.copy_((1.-update_tau) * target_var.data + (update_tau) * var.data)\n",
        "            for target_var, var in zip(self.actor_target.parameters(), self.actor.parameters()):\n",
        "                target_var.data.copy_((1.-update_tau) * target_var.data + (update_tau) * var.data)\n"
      ],
      "metadata": {
        "id": "1svDPVdcLmLf"
      },
      "execution_count": 7,
      "outputs": []
    },
    {
      "cell_type": "markdown",
      "source": [
        "# Hyperparameter"
      ],
      "metadata": {
        "id": "iRDGURSeNEt9"
      }
    },
    {
      "cell_type": "code",
      "source": [
        "# set seed\n",
        "seed = 31\n",
        "env.seed(seed)\n",
        "np.random.seed(seed)\n",
        "torch.manual_seed(seed)\n",
        "if torch.cuda.is_available():\n",
        "    torch.cuda.manual_seed(seed)\n",
        "    torch.cuda.manual_seed_all(seed)\n",
        "    \n",
        "# create replay buffer\n",
        "replay_size = 50000 # size of replay buffer\n",
        "replay_buffer = ReplayBuffer(max_size=replay_size)    \n",
        "\n",
        "# target update hyperparameters\n",
        "start_training_after = 10001 # start training NN after this many timesteps\n",
        "update_target_every = 5 # update target network every this steps\n",
        "tau = 0.001\n",
        "\n",
        "episodes = 5000    \n",
        "discount = 0.99\n",
        "batch_size = 32\n",
        "exploration_noise = 0.1\n",
        "hidden_size = 64\n",
        "actor_lr = 0.0005\n",
        "critic_lr = 0.0005\n",
        "reward_scale = 0.01"
      ],
      "metadata": {
        "colab": {
          "base_uri": "https://localhost:8080/"
        },
        "id": "fBWf0XVlLmN3",
        "outputId": "8f93eda2-4d7a-430c-a282-6f3366b89c2b"
      },
      "execution_count": 8,
      "outputs": [
        {
          "output_type": "stream",
          "name": "stderr",
          "text": [
            "/usr/local/lib/python3.7/dist-packages/gym/core.py:257: DeprecationWarning: \u001b[33mWARN: Function `env.seed(seed)` is marked as deprecated and will be removed in the future. Please use `env.reset(seed=seed)` instead.\u001b[0m\n",
            "  \"Function `env.seed(seed)` is marked as deprecated and will be removed in the future. \"\n"
          ]
        }
      ]
    },
    {
      "cell_type": "code",
      "source": [
        "env = gym.make('LunarLanderContinuous-v2')\n",
        "action_size = env.action_space.shape[0]\n",
        "state_size = env.observation_space.shape[0]\n",
        "min_action = env.action_space.low[0]\n",
        "max_action = env.action_space.high[0]"
      ],
      "metadata": {
        "id": "8gstbK2gLmRO"
      },
      "execution_count": 9,
      "outputs": []
    },
    {
      "cell_type": "code",
      "source": [
        "agent = DDPGAgent(state_size=state_size, action_size=action_size, hidden_size=hidden_size, \n",
        "                  actor_lr=actor_lr, critic_lr=critic_lr, discount=discount, min_action=min_action,\n",
        "                  max_action=max_action, exploration_noise=exploration_noise)"
      ],
      "metadata": {
        "id": "DDJcq8xXNU8L"
      },
      "execution_count": 10,
      "outputs": []
    },
    {
      "cell_type": "code",
      "source": [
        "stats_rewards_list = [] # store stats for plotting in this\n",
        "stats_every = 10 # print stats every this many episodes\n",
        "total_reward = 0\n",
        "timesteps = 0\n",
        "episode_length = 0\n",
        "stats_actor_loss, stats_critic_loss = [], []\n",
        "\n",
        "for ep in range(episodes):\n",
        "    state = env.reset()\n",
        "\n",
        "    # stopping condition for training if agent reaches the amount of reward\n",
        "    if len(stats_rewards_list) > stats_every and np.mean(stats_rewards_list[-stats_every:],axis=0)[1] > 190:\n",
        "        print(\"Stopping at episode {} with average rewards of {} in last {} episodes\".\n",
        "            format(ep, np.mean(stats_rewards_list[-stats_every:],axis=0)[1], stats_every))\n",
        "        break  \n",
        "\n",
        "    # train in each episode until episode is done\n",
        "    while True:\n",
        "        timesteps += 1\n",
        "        #env.render()\n",
        "        # select an action from the agent's policy\n",
        "        action = agent.select_action(state)\n",
        "        \n",
        "        # enter action into the env\n",
        "        next_state, reward, done, _ = env.step(action)\n",
        "        total_reward += reward\n",
        "        episode_length += 1\n",
        "        # end episode early\n",
        "        if total_reward < -250:\n",
        "            done = 1\n",
        "        \n",
        "        # add experience to replay buffer\n",
        "        replay_buffer.add((state, next_state, action, reward*reward_scale, 1-float(done)))\n",
        "        \n",
        "        # train the agent\n",
        "        if timesteps >= start_training_after:\n",
        "            actor_loss, critic_loss = agent.train(replay_buffer, batch_size)\n",
        "            stats_actor_loss.append(actor_loss) \n",
        "            stats_critic_loss.append(critic_loss) \n",
        "            agent.update_target_network_soft(timesteps, update_target_every)\n",
        "            \n",
        "        if done:\n",
        "            stats_rewards_list.append((ep, total_reward, episode_length))\n",
        "            total_reward = 0\n",
        "            episode_length = 0  \n",
        "            if timesteps >= start_training_after and ep % stats_every == 0:\n",
        "                print('Episode: {}'.format(ep),\n",
        "                    'Timestep: {}'.format(timesteps),\n",
        "                    'Total reward: {:.1f}'.format(np.mean(stats_rewards_list[-stats_every:],axis=0)[1]),\n",
        "                    'Episode length: {:.1f}'.format(np.mean(stats_rewards_list[-stats_every:],axis=0)[2]),\n",
        "                    'Actor Loss: {:.4f}'.format(np.mean(stats_actor_loss)), \n",
        "                    'Critic Loss: {:.4f}'.format(np.mean(stats_critic_loss)))\n",
        "                stats_actor_loss, stats_critic_loss = [], []\n",
        "            break\n",
        "        \n",
        "        state = next_state"
      ],
      "metadata": {
        "colab": {
          "base_uri": "https://localhost:8080/"
        },
        "id": "YWoiwEPqNeQ3",
        "outputId": "c99df327-c25a-4acd-96bf-d2003298595c"
      },
      "execution_count": 11,
      "outputs": [
        {
          "output_type": "stream",
          "name": "stdout",
          "text": [
            "Episode: 90 Timestep: 10535 Total reward: -239.1 Episode length: 72.7 Actor Loss: -0.0638 Critic Loss: 0.0041\n",
            "Episode: 100 Timestep: 12067 Total reward: -230.5 Episode length: 153.2 Actor Loss: -0.0601 Critic Loss: 0.0036\n",
            "Episode: 110 Timestep: 13609 Total reward: -238.4 Episode length: 154.2 Actor Loss: -0.0586 Critic Loss: 0.0030\n",
            "Episode: 120 Timestep: 15473 Total reward: -222.3 Episode length: 186.4 Actor Loss: -0.0632 Critic Loss: 0.0024\n",
            "Episode: 130 Timestep: 16771 Total reward: -258.2 Episode length: 129.8 Actor Loss: -0.0656 Critic Loss: 0.0025\n",
            "Episode: 140 Timestep: 17632 Total reward: -223.2 Episode length: 86.1 Actor Loss: -0.0626 Critic Loss: 0.0023\n",
            "Episode: 150 Timestep: 19356 Total reward: -211.0 Episode length: 172.4 Actor Loss: -0.0564 Critic Loss: 0.0021\n",
            "Episode: 160 Timestep: 21162 Total reward: -249.1 Episode length: 180.6 Actor Loss: -0.0561 Critic Loss: 0.0020\n",
            "Episode: 170 Timestep: 22955 Total reward: -231.1 Episode length: 179.3 Actor Loss: -0.0595 Critic Loss: 0.0018\n",
            "Episode: 180 Timestep: 24785 Total reward: -229.7 Episode length: 183.0 Actor Loss: -0.0588 Critic Loss: 0.0019\n",
            "Episode: 190 Timestep: 26693 Total reward: -215.1 Episode length: 190.8 Actor Loss: -0.0585 Critic Loss: 0.0016\n",
            "Episode: 200 Timestep: 28502 Total reward: -196.5 Episode length: 180.9 Actor Loss: -0.0562 Critic Loss: 0.0017\n",
            "Episode: 210 Timestep: 30301 Total reward: -207.9 Episode length: 179.9 Actor Loss: -0.0562 Critic Loss: 0.0016\n",
            "Episode: 220 Timestep: 32222 Total reward: -217.7 Episode length: 192.1 Actor Loss: -0.0531 Critic Loss: 0.0015\n",
            "Episode: 230 Timestep: 33710 Total reward: -259.7 Episode length: 148.8 Actor Loss: -0.0501 Critic Loss: 0.0016\n",
            "Episode: 240 Timestep: 35268 Total reward: -267.9 Episode length: 155.8 Actor Loss: -0.0511 Critic Loss: 0.0016\n",
            "Episode: 250 Timestep: 36666 Total reward: -265.4 Episode length: 139.8 Actor Loss: -0.0512 Critic Loss: 0.0014\n",
            "Episode: 260 Timestep: 38524 Total reward: -260.3 Episode length: 185.8 Actor Loss: -0.0482 Critic Loss: 0.0013\n",
            "Episode: 270 Timestep: 40535 Total reward: -253.3 Episode length: 201.1 Actor Loss: -0.0450 Critic Loss: 0.0013\n",
            "Episode: 280 Timestep: 42974 Total reward: -265.0 Episode length: 243.9 Actor Loss: -0.0445 Critic Loss: 0.0012\n",
            "Episode: 290 Timestep: 45214 Total reward: -239.8 Episode length: 224.0 Actor Loss: -0.0431 Critic Loss: 0.0013\n",
            "Episode: 300 Timestep: 48427 Total reward: -259.5 Episode length: 321.3 Actor Loss: -0.0429 Critic Loss: 0.0011\n",
            "Episode: 310 Timestep: 52879 Total reward: -264.0 Episode length: 445.2 Actor Loss: -0.0449 Critic Loss: 0.0011\n",
            "Episode: 320 Timestep: 56132 Total reward: -221.9 Episode length: 325.3 Actor Loss: -0.0428 Critic Loss: 0.0010\n",
            "Episode: 330 Timestep: 60673 Total reward: -199.5 Episode length: 454.1 Actor Loss: -0.0397 Critic Loss: 0.0009\n",
            "Episode: 340 Timestep: 64876 Total reward: -228.4 Episode length: 420.3 Actor Loss: -0.0410 Critic Loss: 0.0008\n",
            "Episode: 350 Timestep: 68751 Total reward: -220.4 Episode length: 387.5 Actor Loss: -0.0429 Critic Loss: 0.0008\n",
            "Episode: 360 Timestep: 71786 Total reward: -213.9 Episode length: 303.5 Actor Loss: -0.0443 Critic Loss: 0.0009\n",
            "Episode: 370 Timestep: 76696 Total reward: -238.2 Episode length: 491.0 Actor Loss: -0.0480 Critic Loss: 0.0008\n",
            "Episode: 380 Timestep: 82003 Total reward: -211.0 Episode length: 530.7 Actor Loss: -0.0510 Critic Loss: 0.0008\n",
            "Episode: 390 Timestep: 87861 Total reward: -207.7 Episode length: 585.8 Actor Loss: -0.0598 Critic Loss: 0.0007\n",
            "Episode: 400 Timestep: 95753 Total reward: -174.8 Episode length: 789.2 Actor Loss: -0.0720 Critic Loss: 0.0006\n",
            "Episode: 410 Timestep: 101338 Total reward: -155.6 Episode length: 558.5 Actor Loss: -0.0819 Critic Loss: 0.0005\n",
            "Episode: 420 Timestep: 108900 Total reward: -109.0 Episode length: 756.2 Actor Loss: -0.0871 Critic Loss: 0.0005\n",
            "Episode: 430 Timestep: 117281 Total reward: -97.1 Episode length: 838.1 Actor Loss: -0.0963 Critic Loss: 0.0005\n",
            "Episode: 440 Timestep: 126320 Total reward: -128.5 Episode length: 903.9 Actor Loss: -0.1099 Critic Loss: 0.0004\n",
            "Episode: 450 Timestep: 135020 Total reward: -87.8 Episode length: 870.0 Actor Loss: -0.1163 Critic Loss: 0.0003\n",
            "Episode: 460 Timestep: 141633 Total reward: -70.8 Episode length: 661.3 Actor Loss: -0.1168 Critic Loss: 0.0002\n",
            "Episode: 470 Timestep: 149137 Total reward: -89.5 Episode length: 750.4 Actor Loss: -0.1155 Critic Loss: 0.0002\n",
            "Episode: 480 Timestep: 155201 Total reward: -29.6 Episode length: 606.4 Actor Loss: -0.1179 Critic Loss: 0.0002\n",
            "Episode: 490 Timestep: 162120 Total reward: -22.8 Episode length: 691.9 Actor Loss: -0.1247 Critic Loss: 0.0002\n",
            "Episode: 500 Timestep: 168821 Total reward: -30.7 Episode length: 670.1 Actor Loss: -0.1328 Critic Loss: 0.0002\n",
            "Episode: 510 Timestep: 176191 Total reward: -71.3 Episode length: 737.0 Actor Loss: -0.1475 Critic Loss: 0.0002\n",
            "Episode: 520 Timestep: 183547 Total reward: -74.3 Episode length: 735.6 Actor Loss: -0.1673 Critic Loss: 0.0002\n",
            "Episode: 530 Timestep: 188553 Total reward: 11.2 Episode length: 500.6 Actor Loss: -0.1766 Critic Loss: 0.0003\n",
            "Episode: 540 Timestep: 192878 Total reward: 145.9 Episode length: 432.5 Actor Loss: -0.1842 Critic Loss: 0.0003\n",
            "Episode: 550 Timestep: 197269 Total reward: 45.8 Episode length: 439.1 Actor Loss: -0.1914 Critic Loss: 0.0004\n",
            "Episode: 560 Timestep: 200779 Total reward: 84.4 Episode length: 351.0 Actor Loss: -0.2019 Critic Loss: 0.0005\n",
            "Episode: 570 Timestep: 204861 Total reward: 32.5 Episode length: 408.2 Actor Loss: -0.2104 Critic Loss: 0.0005\n",
            "Episode: 580 Timestep: 208743 Total reward: 45.4 Episode length: 388.2 Actor Loss: -0.2248 Critic Loss: 0.0006\n",
            "Episode: 590 Timestep: 212640 Total reward: 46.0 Episode length: 389.7 Actor Loss: -0.2351 Critic Loss: 0.0007\n",
            "Episode: 600 Timestep: 218612 Total reward: -21.0 Episode length: 597.2 Actor Loss: -0.2416 Critic Loss: 0.0006\n",
            "Episode: 610 Timestep: 224026 Total reward: 42.4 Episode length: 541.4 Actor Loss: -0.2457 Critic Loss: 0.0006\n",
            "Episode: 620 Timestep: 230802 Total reward: 7.1 Episode length: 677.6 Actor Loss: -0.2427 Critic Loss: 0.0006\n",
            "Episode: 630 Timestep: 236118 Total reward: 101.0 Episode length: 531.6 Actor Loss: -0.2434 Critic Loss: 0.0007\n",
            "Episode: 640 Timestep: 242923 Total reward: 37.6 Episode length: 680.5 Actor Loss: -0.2450 Critic Loss: 0.0007\n",
            "Episode: 650 Timestep: 250074 Total reward: -32.4 Episode length: 715.1 Actor Loss: -0.2455 Critic Loss: 0.0006\n",
            "Episode: 660 Timestep: 256915 Total reward: 69.7 Episode length: 684.1 Actor Loss: -0.2437 Critic Loss: 0.0006\n",
            "Episode: 670 Timestep: 265205 Total reward: -28.6 Episode length: 829.0 Actor Loss: -0.2462 Critic Loss: 0.0005\n",
            "Episode: 680 Timestep: 272692 Total reward: 7.2 Episode length: 748.7 Actor Loss: -0.2538 Critic Loss: 0.0004\n",
            "Episode: 690 Timestep: 279434 Total reward: 102.8 Episode length: 674.2 Actor Loss: -0.2638 Critic Loss: 0.0004\n",
            "Episode: 700 Timestep: 285452 Total reward: 114.4 Episode length: 601.8 Actor Loss: -0.2775 Critic Loss: 0.0004\n",
            "Episode: 710 Timestep: 292371 Total reward: -1.2 Episode length: 691.9 Actor Loss: -0.2844 Critic Loss: 0.0004\n",
            "Episode: 720 Timestep: 296462 Total reward: -146.2 Episode length: 409.1 Actor Loss: -0.3024 Critic Loss: 0.0004\n",
            "Episode: 730 Timestep: 300213 Total reward: 25.4 Episode length: 375.1 Actor Loss: -0.3161 Critic Loss: 0.0005\n",
            "Episode: 740 Timestep: 304003 Total reward: -136.1 Episode length: 379.0 Actor Loss: -0.3239 Critic Loss: 0.0006\n",
            "Episode: 750 Timestep: 310571 Total reward: 35.1 Episode length: 656.8 Actor Loss: -0.3314 Critic Loss: 0.0005\n",
            "Episode: 760 Timestep: 317048 Total reward: 26.1 Episode length: 647.7 Actor Loss: -0.3367 Critic Loss: 0.0005\n",
            "Episode: 770 Timestep: 322579 Total reward: 142.8 Episode length: 553.1 Actor Loss: -0.3466 Critic Loss: 0.0004\n",
            "Episode: 780 Timestep: 327386 Total reward: 184.1 Episode length: 480.7 Actor Loss: -0.3601 Critic Loss: 0.0005\n",
            "Stopping at episode 783 with average rewards of 207.60731504765062 in last 10 episodes\n"
          ]
        }
      ]
    },
    {
      "cell_type": "code",
      "source": [
        "# plot stats\n",
        "def get_running_stat(stat, stat_len):\n",
        "    cum_sum = np.cumsum(np.insert(stat, 0, 0)) \n",
        "    return (cum_sum[stat_len:] - cum_sum[:-stat_len]) / stat_len\n",
        "\n",
        "episode, r, l = np.array(stats_rewards_list).T\n",
        "cum_r = get_running_stat(r, 10)\n",
        "cum_l = get_running_stat(l, 10)\n",
        "\n",
        "# plot rewards\n",
        "plt.plot(episode[-len(cum_r):], cum_r)\n",
        "plt.plot(episode, r, alpha=0.5)\n",
        "plt.xlabel('Episode')\n",
        "plt.ylabel('Episode Reward')"
      ],
      "metadata": {
        "colab": {
          "base_uri": "https://localhost:8080/",
          "height": 296
        },
        "id": "DiLU41N0NlBt",
        "outputId": "0f6abc2d-ba9a-4241-bfa2-91f111a225bd"
      },
      "execution_count": 12,
      "outputs": [
        {
          "output_type": "execute_result",
          "data": {
            "text/plain": [
              "Text(0, 0.5, 'Episode Reward')"
            ]
          },
          "metadata": {},
          "execution_count": 12
        },
        {
          "output_type": "display_data",
          "data": {
            "text/plain": [
              "<Figure size 432x288 with 1 Axes>"
            ],
            "image/png": "[encoded data removed]"
          },
          "metadata": {
            "needs_background": "light"
          }
        }
      ]
    }
  ]
}