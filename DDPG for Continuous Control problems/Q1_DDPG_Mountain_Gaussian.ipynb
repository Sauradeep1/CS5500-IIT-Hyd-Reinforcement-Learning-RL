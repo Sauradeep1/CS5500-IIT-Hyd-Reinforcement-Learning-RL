{
  "nbformat": 4,
  "nbformat_minor": 0,
  "metadata": {
    "colab": {
      "provenance": []
    },
    "kernelspec": {
      "name": "python3",
      "display_name": "Python 3"
    },
    "language_info": {
      "name": "python"
    },
    "accelerator": "GPU",
    "gpuClass": "standard"
  },
  "cells": [
    {
      "cell_type": "code",
      "source": [
        "!pip install gym[box2d]"
      ],
      "metadata": {
        "colab": {
          "base_uri": "https://localhost:8080/"
        },
        "id": "y7r5C3VZLyI3",
        "outputId": "e1a79ec8-c4c7-4bf1-ceba-851bd7848f4b"
      },
      "execution_count": null,
      "outputs": [
        {
          "output_type": "stream",
          "name": "stdout",
          "text": [
            "Looking in indexes: https://pypi.org/simple, https://us-python.pkg.dev/colab-wheels/public/simple/\n",
            "Requirement already satisfied: gym[box2d] in /usr/local/lib/python3.7/dist-packages (0.25.2)\n",
            "Requirement already satisfied: gym-notices>=0.0.4 in /usr/local/lib/python3.7/dist-packages (from gym[box2d]) (0.0.8)\n",
            "Requirement already satisfied: numpy>=1.18.0 in /usr/local/lib/python3.7/dist-packages (from gym[box2d]) (1.21.6)\n",
            "Requirement already satisfied: importlib-metadata>=4.8.0 in /usr/local/lib/python3.7/dist-packages (from gym[box2d]) (4.13.0)\n",
            "Requirement already satisfied: cloudpickle>=1.2.0 in /usr/local/lib/python3.7/dist-packages (from gym[box2d]) (1.5.0)\n",
            "Requirement already satisfied: box2d-py==2.3.5 in /usr/local/lib/python3.7/dist-packages (from gym[box2d]) (2.3.5)\n",
            "Requirement already satisfied: pygame==2.1.0 in /usr/local/lib/python3.7/dist-packages (from gym[box2d]) (2.1.0)\n",
            "Requirement already satisfied: swig==4.* in /usr/local/lib/python3.7/dist-packages (from gym[box2d]) (4.1.0)\n",
            "Requirement already satisfied: zipp>=0.5 in /usr/local/lib/python3.7/dist-packages (from importlib-metadata>=4.8.0->gym[box2d]) (3.10.0)\n",
            "Requirement already satisfied: typing-extensions>=3.6.4 in /usr/local/lib/python3.7/dist-packages (from importlib-metadata>=4.8.0->gym[box2d]) (4.1.1)\n"
          ]
        }
      ]
    },
    {
      "cell_type": "code",
      "execution_count": null,
      "metadata": {
        "id": "fA8Be_fnLZXT"
      },
      "outputs": [],
      "source": [
        "import torch\n",
        "import torch.optim as optim\n",
        "import torch.nn as nn\n",
        "import torch.nn.functional as F\n",
        "import matplotlib.pyplot as plt\n",
        "import gym\n",
        "import numpy as np"
      ]
    },
    {
      "cell_type": "code",
      "source": [
        "# check and use GPU if available if not use CPU\n",
        "device = torch.device(\"cuda\" if torch.cuda.is_available() else \"cpu\")"
      ],
      "metadata": {
        "id": "eR55CGvHLmD2"
      },
      "execution_count": null,
      "outputs": []
    },
    {
      "cell_type": "code",
      "source": [
        "env = gym.make('MountainCarContinuous-v0') #('LunarLanderContinuous-v2')\n",
        "env.reset()\n",
        "\n",
        "prev_screen = env.render(mode='rgb_array')\n",
        "plt.imshow(prev_screen)\n",
        "\n",
        "for i in range(200):\n",
        "    env.render(mode='rgb_array')\n",
        "    action = env.action_space.sample()\n",
        "    obs, reward, done, info = env.step(action)\n",
        "    if done:\n",
        "        env.reset()\n",
        "        \n",
        "env.close()"
      ],
      "metadata": {
        "colab": {
          "base_uri": "https://localhost:8080/",
          "height": 410
        },
        "id": "VFMX6rrxLmGW",
        "outputId": "33b93778-6c21-48bf-952f-90f58753a285"
      },
      "execution_count": null,
      "outputs": [
        {
          "output_type": "stream",
          "name": "stderr",
          "text": [
            "/usr/local/lib/python3.7/dist-packages/gym/core.py:318: DeprecationWarning: \u001b[33mWARN: Initializing wrapper in old step API which returns one bool instead of two. It is recommended to set `new_step_api=True` to use new step API. This will be the default behaviour in future.\u001b[0m\n",
            "  \"Initializing wrapper in old step API which returns one bool instead of two. It is recommended to set `new_step_api=True` to use new step API. This will be the default behaviour in future.\"\n",
            "/usr/local/lib/python3.7/dist-packages/gym/wrappers/step_api_compatibility.py:40: DeprecationWarning: \u001b[33mWARN: Initializing environment in old step API which returns one bool instead of two. It is recommended to set `new_step_api=True` to use new step API. This will be the default behaviour in future.\u001b[0m\n",
            "  \"Initializing environment in old step API which returns one bool instead of two. It is recommended to set `new_step_api=True` to use new step API. This will be the default behaviour in future.\"\n",
            "/usr/local/lib/python3.7/dist-packages/gym/core.py:44: DeprecationWarning: \u001b[33mWARN: The argument mode in render method is deprecated; use render_mode during environment initialization instead.\n",
            "See here for more information: https://www.gymlibrary.ml/content/api/\u001b[0m\n",
            "  \"The argument mode in render method is deprecated; \"\n"
          ]
        },
        {
          "output_type": "display_data",
          "data": {
            "text/plain": [
              "<Figure size 432x288 with 1 Axes>"
            ],
            "image/png": "[encoded data removed]"
          },
          "metadata": {
            "needs_background": "light"
          }
        }
      ]
    },
    {
      "cell_type": "code",
      "source": [
        "\n",
        "#Experience Replay Buffer\n",
        "# replay buffer from and some code based on https://github.com/sfujim/TD3\n",
        "\n",
        "# create replay buffer of tuples of (state, next_state, action, reward, done)\n",
        "class ReplayBuffer():\n",
        "    def __init__(self, max_size=1e6):\n",
        "        self.storage = []\n",
        "        self.max_size = max_size\n",
        "        self.ptr = 0\n",
        "\n",
        "    def add(self, data):\n",
        "        if len(self.storage) == self.max_size:\n",
        "            self.storage[int(self.ptr)] = data\n",
        "            self.ptr = (self.ptr + 1) % self.max_size\n",
        "        else:\n",
        "            self.storage.append(data)\n",
        "\n",
        "    def sample(self, batch_size):\n",
        "        ind = np.random.randint(0, len(self.storage), size=batch_size)\n",
        "        x, y, u, r, d = [], [], [], [], []\n",
        "\n",
        "        for i in ind: \n",
        "            X, Y, U, R, D = self.storage[i]\n",
        "            x.append(np.array(X, copy=False))\n",
        "            y.append(np.array(Y, copy=False))\n",
        "            u.append(np.array(U, copy=False))\n",
        "            r.append(np.array(R, copy=False))\n",
        "            d.append(np.array(D, copy=False))\n",
        "\n",
        "        return np.array(x), np.array(y), np.array(u), np.array(r).reshape(-1,1), np.array(d).reshape(-1,1)"
      ],
      "metadata": {
        "id": "5_mBsxnvLmJA"
      },
      "execution_count": null,
      "outputs": []
    },
    {
      "cell_type": "code",
      "source": [
        "class ActorNet(nn.Module):\n",
        "    def __init__(self, state_size, action_size, hidden_size, action_max):\n",
        "        super(ActorNet, self).__init__()\n",
        "        self.dense_layer_1 = nn.Linear(state_size, hidden_size)\n",
        "        self.dense_layer_2 = nn.Linear(hidden_size, hidden_size)\n",
        "        self.output = nn.Linear(hidden_size, action_size)\n",
        "        self.action_max = action_max\n",
        "    \n",
        "    def forward(self, x):\n",
        "        x = torch.clamp(x,-1.1,1.1)\n",
        "        x = F.relu(self.dense_layer_1(x))\n",
        "        x = F.relu(self.dense_layer_2(x))\n",
        "        return torch.tanh(self.output(x)) * self.action_max\n",
        "    \n",
        "class CriticNet(nn.Module):\n",
        "    def __init__(self, state_size, action_size, hidden_size):\n",
        "        super(CriticNet, self).__init__()\n",
        "        self.dense_layer_1 = nn.Linear(state_size+action_size, hidden_size)\n",
        "        self.dense_layer_2 = nn.Linear(hidden_size, hidden_size)\n",
        "        self.output = nn.Linear(hidden_size, 1)\n",
        "    \n",
        "    def forward(self, x, a):\n",
        "        x = torch.clamp(x,-1.1,1.1)\n",
        "        x = F.relu(self.dense_layer_1(torch.cat((x,a),dim=1)))\n",
        "        x = F.relu(self.dense_layer_2(x))\n",
        "        return self.output(x)"
      ],
      "metadata": {
        "id": "3YloH-gwMQah"
      },
      "execution_count": null,
      "outputs": []
    },
    {
      "cell_type": "code",
      "source": [
        "class DDPGAgent():\n",
        "    def __init__(self, state_size, action_size, hidden_size, actor_lr, critic_lr, discount,\n",
        "                 min_action, max_action, exploration_noise):\n",
        "        self.action_size = action_size\n",
        "        self.actor = ActorNet(state_size, action_size, hidden_size, max_action).to(device)\n",
        "        self.actor_target = ActorNet(state_size, action_size, hidden_size, max_action).to(device)\n",
        "        self.critic = CriticNet(state_size, action_size, hidden_size).to(device)\n",
        "        self.critic_target = CriticNet(state_size, action_size, hidden_size).to(device)\n",
        "        self.actor_target.load_state_dict(self.actor.state_dict())\n",
        "        self.critic_target.load_state_dict(self.critic.state_dict())\n",
        "        \n",
        "        self.actor_optimizer = optim.Adam(self.actor.parameters(), lr=actor_lr)\n",
        "        self.critic_optimizer = optim.Adam(self.critic.parameters(), lr=critic_lr)\n",
        "        self.discount = discount\n",
        "        self.min_action = min_action\n",
        "        self.max_action = max_action\n",
        "        self.exploration_noise = exploration_noise\n",
        "        \n",
        "    def select_action(self, state):\n",
        "        #get action probs then randomly sample from the probabilities\n",
        "        with torch.no_grad():\n",
        "            input_state = torch.FloatTensor(state).to(device)\n",
        "            action = self.actor(input_state)\n",
        "            #detach and turn to numpy to use with np.random.choice()\n",
        "            action = action.detach().cpu().numpy()\n",
        "            #in DDPG add noise for exploration\n",
        "            action = (action + np.random.normal(0., self.exploration_noise, \n",
        "                       size=self.action_size)).clip(self.min_action, self.max_action)   \n",
        "        return action\n",
        "\n",
        "    \n",
        "    def train(self, replay_buffer, batch_size):\n",
        "        # sample a batch from the replay buffer\n",
        "        x0, x1, a, r, d = replay_buffer.sample(batch_size)\n",
        "        # turn batches into tensors and use GPU if available\n",
        "        state_batch = torch.FloatTensor(x0).to(device)\n",
        "        next_state_batch = torch.FloatTensor(x1).to(device)\n",
        "        action_batch = torch.FloatTensor(a).to(device)\n",
        "        reward_batch = torch.FloatTensor(r).to(device)\n",
        "        flipped_done_batch = torch.FloatTensor(d).to(device) #already flipped done when adding to replay buffer\n",
        "\n",
        "        # get target net target values\n",
        "        with torch.no_grad():\n",
        "            target_action = self.actor_target(next_state_batch).view(batch_size,-1)\n",
        "            target_v = reward_batch + flipped_done_batch*self.discount*self.critic_target(next_state_batch, \n",
        "                                                                           target_action).view(batch_size,-1)\n",
        "        # get train net values for updating the critic network    \n",
        "        critic_v = self.critic(state_batch, action_batch).view(batch_size,-1)\n",
        "        \n",
        "        # train critic\n",
        "        critic_loss = F.smooth_l1_loss(critic_v, target_v)\n",
        "        self.critic_optimizer.zero_grad()\n",
        "        critic_loss.backward()\n",
        "        self.critic_optimizer.step() \n",
        "        \n",
        "        # train actor\n",
        "        train_action = self.actor(state_batch)\n",
        "        actor_loss = -torch.mean(self.critic(state_batch,train_action))\n",
        "        self.actor_optimizer.zero_grad()\n",
        "        actor_loss.backward()\n",
        "        self.actor_optimizer.step() \n",
        "        \n",
        "        return actor_loss.detach().cpu().numpy(), critic_loss.detach().cpu().numpy()\n",
        "        \n",
        "        \n",
        "    def update_target_network_soft(self, num_iter, update_every, update_tau=0.001):\n",
        "        # soft target network update: update target networks with mixture of train and target\n",
        "        if num_iter % update_every == 0:\n",
        "            for target_var, var in zip(self.critic_target.parameters(), self.critic.parameters()):\n",
        "                target_var.data.copy_((1.-update_tau) * target_var.data + (update_tau) * var.data)\n",
        "            for target_var, var in zip(self.actor_target.parameters(), self.actor.parameters()):\n",
        "                target_var.data.copy_((1.-update_tau) * target_var.data + (update_tau) * var.data)\n"
      ],
      "metadata": {
        "id": "1svDPVdcLmLf"
      },
      "execution_count": null,
      "outputs": []
    },
    {
      "cell_type": "markdown",
      "source": [
        "# Hyperparameter"
      ],
      "metadata": {
        "id": "iRDGURSeNEt9"
      }
    },
    {
      "cell_type": "code",
      "source": [
        "# set seed\n",
        "seed = 30\n",
        "env.reset(seed=seed)# new \n",
        "np.random.seed(seed)\n",
        "torch.manual_seed(seed)\n",
        "if torch.cuda.is_available():\n",
        "    torch.cuda.manual_seed(seed)\n",
        "    torch.cuda.manual_seed_all(seed)\n",
        "    \n",
        "# create replay buffer\n",
        "replay_size = 50000 # size of replay buffer\n",
        "replay_buffer = ReplayBuffer(max_size=replay_size)    \n",
        "\n",
        "# target update hyperparameters\n",
        "start_training_after = 10001 # start training NN after this many timesteps\n",
        "update_target_every = 5 # update target network every this steps\n",
        "tau = 0.001\n",
        "\n",
        "episodes = 1000    \n",
        "discount = 0.99\n",
        "batch_size = 32\n",
        "exploration_noise = 0.1 #NOISE\n",
        "hidden_size = 64\n",
        "actor_lr = 0.0005\n",
        "critic_lr = 0.0005\n",
        "reward_scale = 0.01"
      ],
      "metadata": {
        "id": "fBWf0XVlLmN3"
      },
      "execution_count": null,
      "outputs": []
    },
    {
      "cell_type": "code",
      "source": [
        "env = gym.make('MountainCarContinuous-v0') #('LunarLanderContinuous-v2')\n",
        "action_size = env.action_space.shape[0]\n",
        "state_size = env.observation_space.shape[0]\n",
        "min_action = env.action_space.low[0]\n",
        "max_action = env.action_space.high[0]"
      ],
      "metadata": {
        "id": "8gstbK2gLmRO"
      },
      "execution_count": null,
      "outputs": []
    },
    {
      "cell_type": "code",
      "source": [
        "agent = DDPGAgent(state_size=state_size, action_size=action_size, hidden_size=hidden_size, \n",
        "                  actor_lr=actor_lr, critic_lr=critic_lr, discount=discount, min_action=min_action,\n",
        "                  max_action=max_action, exploration_noise=exploration_noise)"
      ],
      "metadata": {
        "id": "DDJcq8xXNU8L"
      },
      "execution_count": null,
      "outputs": []
    },
    {
      "cell_type": "code",
      "source": [
        "stats_rewards_list = [] # store stats for plotting in this\n",
        "stats_every = 10 # print stats every this many episodes\n",
        "total_reward = 0\n",
        "timesteps = 0\n",
        "episode_length = 0\n",
        "stats_actor_loss, stats_critic_loss = [], []\n",
        "\n",
        "for ep in range(episodes):\n",
        "    state = env.reset()\n",
        "\n",
        "    # stopping condition for training if agent reaches the amount of reward\n",
        "    if len(stats_rewards_list) > stats_every and np.mean(stats_rewards_list[-stats_every:],axis=0)[1] > 190:\n",
        "        print(\"Stopping at episode {} with average rewards of {} in last {} episodes\".\n",
        "            format(ep, np.mean(stats_rewards_list[-stats_every:],axis=0)[1], stats_every))\n",
        "        break  \n",
        "\n",
        "    # train in each episode until episode is done\n",
        "    while True:\n",
        "        timesteps += 1\n",
        "        #env.render()\n",
        "        # select an action from the agent's policy\n",
        "        action = agent.select_action(state)\n",
        "        \n",
        "        # enter action into the env\n",
        "        next_state, reward, done, _ = env.step(action)\n",
        "        total_reward += reward\n",
        "        episode_length += 1\n",
        "        # end episode early\n",
        "        if total_reward < -250:\n",
        "            done = 1\n",
        "        \n",
        "        # add experience to replay buffer\n",
        "        replay_buffer.add((state, next_state, action, reward*reward_scale, 1-float(done)))\n",
        "        \n",
        "        # train the agent\n",
        "        if timesteps >= start_training_after:\n",
        "            actor_loss, critic_loss = agent.train(replay_buffer, batch_size)\n",
        "            stats_actor_loss.append(actor_loss) \n",
        "            stats_critic_loss.append(critic_loss) \n",
        "            agent.update_target_network_soft(timesteps, update_target_every)\n",
        "            \n",
        "        if done:\n",
        "            stats_rewards_list.append((ep, total_reward, episode_length))\n",
        "            total_reward = 0\n",
        "            episode_length = 0  \n",
        "            if timesteps >= start_training_after and ep % stats_every == 0:\n",
        "                print('Episode: {}'.format(ep),\n",
        "                    'Timestep: {}'.format(timesteps),\n",
        "                    'Total reward: {:.1f}'.format(np.mean(stats_rewards_list[-stats_every:],axis=0)[1]),\n",
        "                    'Episode length: {:.1f}'.format(np.mean(stats_rewards_list[-stats_every:],axis=0)[2]),\n",
        "                    'Actor Loss: {:.4f}'.format(np.mean(stats_actor_loss)), \n",
        "                    'Critic Loss: {:.4f}'.format(np.mean(stats_critic_loss)))\n",
        "                stats_actor_loss, stats_critic_loss = [], []\n",
        "            break\n",
        "        \n",
        "        state = next_state"
      ],
      "metadata": {
        "colab": {
          "base_uri": "https://localhost:8080/"
        },
        "id": "YWoiwEPqNeQ3",
        "outputId": "ce2f5191-56cd-4ab5-cda0-720ad8bdabf2"
      },
      "execution_count": null,
      "outputs": [
        {
          "output_type": "stream",
          "name": "stdout",
          "text": [
            "Episode: 10 Timestep: 10989 Total reward: -1.1 Episode length: 999.0 Actor Loss: 0.0523 Critic Loss: 0.0000\n",
            "Episode: 20 Timestep: 20979 Total reward: -2.9 Episode length: 999.0 Actor Loss: 0.0534 Critic Loss: 0.0000\n",
            "Episode: 30 Timestep: 30969 Total reward: -58.8 Episode length: 999.0 Actor Loss: 0.0462 Critic Loss: 0.0000\n",
            "Episode: 40 Timestep: 40959 Total reward: -46.7 Episode length: 999.0 Actor Loss: 0.0386 Critic Loss: 0.0000\n",
            "Episode: 50 Timestep: 50949 Total reward: -14.2 Episode length: 999.0 Actor Loss: 0.0341 Critic Loss: 0.0000\n",
            "Episode: 60 Timestep: 60939 Total reward: -16.3 Episode length: 999.0 Actor Loss: 0.0301 Critic Loss: 0.0000\n",
            "Episode: 70 Timestep: 70929 Total reward: -23.3 Episode length: 999.0 Actor Loss: 0.0285 Critic Loss: 0.0000\n",
            "Episode: 80 Timestep: 80919 Total reward: -21.6 Episode length: 999.0 Actor Loss: 0.0284 Critic Loss: 0.0000\n",
            "Episode: 90 Timestep: 90909 Total reward: -18.3 Episode length: 999.0 Actor Loss: 0.0287 Critic Loss: 0.0000\n",
            "Episode: 100 Timestep: 100899 Total reward: -24.0 Episode length: 999.0 Actor Loss: 0.0286 Critic Loss: 0.0000\n",
            "Episode: 110 Timestep: 110889 Total reward: -14.1 Episode length: 999.0 Actor Loss: 0.0285 Critic Loss: 0.0000\n",
            "Episode: 120 Timestep: 120879 Total reward: -10.8 Episode length: 999.0 Actor Loss: 0.0285 Critic Loss: 0.0000\n",
            "Episode: 130 Timestep: 130869 Total reward: -8.8 Episode length: 999.0 Actor Loss: 0.0285 Critic Loss: 0.0000\n",
            "Episode: 140 Timestep: 140859 Total reward: -7.7 Episode length: 999.0 Actor Loss: 0.0283 Critic Loss: 0.0000\n",
            "Episode: 150 Timestep: 150849 Total reward: -4.7 Episode length: 999.0 Actor Loss: 0.0276 Critic Loss: 0.0000\n",
            "Episode: 160 Timestep: 160839 Total reward: -7.4 Episode length: 999.0 Actor Loss: 0.0269 Critic Loss: 0.0000\n",
            "Episode: 170 Timestep: 170410 Total reward: 3.8 Episode length: 957.1 Actor Loss: 0.0260 Critic Loss: 0.0000\n",
            "Episode: 180 Timestep: 180400 Total reward: -36.2 Episode length: 999.0 Actor Loss: 0.0255 Critic Loss: 0.0000\n",
            "Episode: 190 Timestep: 190390 Total reward: -64.0 Episode length: 999.0 Actor Loss: 0.0255 Critic Loss: 0.0000\n",
            "Episode: 200 Timestep: 200380 Total reward: -7.9 Episode length: 999.0 Actor Loss: 0.0234 Critic Loss: 0.0000\n",
            "Episode: 210 Timestep: 210370 Total reward: -29.1 Episode length: 999.0 Actor Loss: 0.0209 Critic Loss: 0.0000\n",
            "Episode: 220 Timestep: 220360 Total reward: -38.3 Episode length: 999.0 Actor Loss: 0.0195 Critic Loss: 0.0000\n",
            "Episode: 230 Timestep: 230350 Total reward: -5.3 Episode length: 999.0 Actor Loss: 0.0193 Critic Loss: 0.0000\n",
            "Episode: 240 Timestep: 238872 Total reward: 19.1 Episode length: 852.2 Actor Loss: 0.0175 Critic Loss: 0.0000\n",
            "Episode: 250 Timestep: 248862 Total reward: -7.0 Episode length: 999.0 Actor Loss: 0.0177 Critic Loss: 0.0000\n",
            "Episode: 260 Timestep: 258852 Total reward: -8.4 Episode length: 999.0 Actor Loss: 0.0178 Critic Loss: 0.0000\n",
            "Episode: 270 Timestep: 268842 Total reward: -13.0 Episode length: 999.0 Actor Loss: 0.0175 Critic Loss: 0.0000\n",
            "Episode: 280 Timestep: 278086 Total reward: -2.3 Episode length: 924.4 Actor Loss: 0.0161 Critic Loss: 0.0000\n",
            "Episode: 290 Timestep: 288076 Total reward: -18.0 Episode length: 999.0 Actor Loss: 0.0154 Critic Loss: 0.0000\n",
            "Episode: 300 Timestep: 293794 Total reward: 40.0 Episode length: 571.8 Actor Loss: 0.0159 Critic Loss: 0.0000\n",
            "Episode: 310 Timestep: 297523 Total reward: 85.4 Episode length: 372.9 Actor Loss: 0.0125 Critic Loss: 0.0000\n",
            "Episode: 320 Timestep: 304059 Total reward: 63.5 Episode length: 653.6 Actor Loss: 0.0076 Critic Loss: 0.0000\n",
            "Episode: 330 Timestep: 314049 Total reward: -18.3 Episode length: 999.0 Actor Loss: 0.0015 Critic Loss: 0.0000\n",
            "Episode: 340 Timestep: 320372 Total reward: 23.5 Episode length: 632.3 Actor Loss: -0.0047 Critic Loss: 0.0000\n",
            "Episode: 350 Timestep: 322327 Total reward: 91.9 Episode length: 195.5 Actor Loss: -0.0112 Critic Loss: 0.0000\n",
            "Episode: 360 Timestep: 326325 Total reward: 82.3 Episode length: 399.8 Actor Loss: -0.0140 Critic Loss: 0.0000\n",
            "Episode: 370 Timestep: 329071 Total reward: 91.8 Episode length: 274.6 Actor Loss: -0.0194 Critic Loss: 0.0000\n",
            "Episode: 380 Timestep: 331544 Total reward: 91.6 Episode length: 247.3 Actor Loss: -0.0252 Critic Loss: 0.0000\n",
            "Episode: 390 Timestep: 333102 Total reward: 91.8 Episode length: 155.8 Actor Loss: -0.0310 Critic Loss: 0.0000\n",
            "Episode: 400 Timestep: 334512 Total reward: 92.4 Episode length: 141.0 Actor Loss: -0.0374 Critic Loss: 0.0000\n",
            "Episode: 410 Timestep: 336118 Total reward: 92.3 Episode length: 160.6 Actor Loss: -0.0401 Critic Loss: 0.0000\n",
            "Episode: 420 Timestep: 337667 Total reward: 91.9 Episode length: 154.9 Actor Loss: -0.0470 Critic Loss: 0.0000\n",
            "Episode: 430 Timestep: 339435 Total reward: 92.7 Episode length: 176.8 Actor Loss: -0.0506 Critic Loss: 0.0000\n",
            "Episode: 440 Timestep: 341401 Total reward: 92.0 Episode length: 196.6 Actor Loss: -0.0559 Critic Loss: 0.0000\n",
            "Episode: 450 Timestep: 343445 Total reward: 90.9 Episode length: 204.4 Actor Loss: -0.0614 Critic Loss: 0.0000\n",
            "Episode: 460 Timestep: 345221 Total reward: 90.8 Episode length: 177.6 Actor Loss: -0.0649 Critic Loss: 0.0000\n",
            "Episode: 470 Timestep: 347268 Total reward: 92.1 Episode length: 204.7 Actor Loss: -0.0682 Critic Loss: 0.0000\n",
            "Episode: 480 Timestep: 348867 Total reward: 91.5 Episode length: 159.9 Actor Loss: -0.0701 Critic Loss: 0.0000\n",
            "Episode: 490 Timestep: 350600 Total reward: 91.1 Episode length: 173.3 Actor Loss: -0.0758 Critic Loss: 0.0000\n",
            "Episode: 500 Timestep: 352217 Total reward: 91.5 Episode length: 161.7 Actor Loss: -0.0776 Critic Loss: 0.0000\n",
            "Episode: 510 Timestep: 353867 Total reward: 91.6 Episode length: 165.0 Actor Loss: -0.0837 Critic Loss: 0.0000\n",
            "Episode: 520 Timestep: 355557 Total reward: 91.6 Episode length: 169.0 Actor Loss: -0.0891 Critic Loss: 0.0000\n",
            "Episode: 530 Timestep: 357552 Total reward: 90.9 Episode length: 199.5 Actor Loss: -0.0956 Critic Loss: 0.0000\n",
            "Episode: 540 Timestep: 359321 Total reward: 91.4 Episode length: 176.9 Actor Loss: -0.1018 Critic Loss: 0.0000\n",
            "Episode: 550 Timestep: 361077 Total reward: 90.5 Episode length: 175.6 Actor Loss: -0.1066 Critic Loss: 0.0000\n",
            "Episode: 560 Timestep: 362974 Total reward: 91.1 Episode length: 189.7 Actor Loss: -0.1129 Critic Loss: 0.0000\n",
            "Episode: 570 Timestep: 365071 Total reward: 89.2 Episode length: 209.7 Actor Loss: -0.1198 Critic Loss: 0.0000\n",
            "Episode: 580 Timestep: 367127 Total reward: 89.2 Episode length: 205.6 Actor Loss: -0.1256 Critic Loss: 0.0000\n",
            "Episode: 590 Timestep: 368989 Total reward: 90.5 Episode length: 186.2 Actor Loss: -0.1349 Critic Loss: 0.0000\n",
            "Episode: 600 Timestep: 370747 Total reward: 91.5 Episode length: 175.8 Actor Loss: -0.1379 Critic Loss: 0.0000\n",
            "Episode: 610 Timestep: 372340 Total reward: 92.3 Episode length: 159.3 Actor Loss: -0.1375 Critic Loss: 0.0000\n",
            "Episode: 620 Timestep: 373996 Total reward: 92.1 Episode length: 165.6 Actor Loss: -0.1430 Critic Loss: 0.0000\n",
            "Episode: 630 Timestep: 376013 Total reward: 89.5 Episode length: 201.7 Actor Loss: -0.1504 Critic Loss: 0.0000\n",
            "Episode: 640 Timestep: 378204 Total reward: 90.9 Episode length: 219.1 Actor Loss: -0.1524 Critic Loss: 0.0000\n",
            "Episode: 650 Timestep: 380048 Total reward: 90.5 Episode length: 184.4 Actor Loss: -0.1543 Critic Loss: 0.0000\n",
            "Episode: 660 Timestep: 381960 Total reward: 90.1 Episode length: 191.2 Actor Loss: -0.1577 Critic Loss: 0.0000\n",
            "Episode: 670 Timestep: 385516 Total reward: 84.7 Episode length: 355.6 Actor Loss: -0.1563 Critic Loss: 0.0000\n",
            "Episode: 680 Timestep: 388650 Total reward: 87.5 Episode length: 313.4 Actor Loss: -0.1527 Critic Loss: 0.0000\n",
            "Episode: 690 Timestep: 392544 Total reward: 86.1 Episode length: 389.4 Actor Loss: -0.1496 Critic Loss: 0.0000\n",
            "Episode: 700 Timestep: 395840 Total reward: 88.0 Episode length: 329.6 Actor Loss: -0.1490 Critic Loss: 0.0000\n",
            "Episode: 710 Timestep: 402137 Total reward: 30.3 Episode length: 629.7 Actor Loss: -0.1381 Critic Loss: 0.0000\n",
            "Episode: 720 Timestep: 404417 Total reward: 89.4 Episode length: 228.0 Actor Loss: -0.1325 Critic Loss: 0.0000\n",
            "Episode: 730 Timestep: 413887 Total reward: 1.5 Episode length: 947.0 Actor Loss: -0.1188 Critic Loss: 0.0000\n",
            "Episode: 740 Timestep: 423877 Total reward: -6.1 Episode length: 999.0 Actor Loss: -0.0876 Critic Loss: 0.0000\n",
            "Episode: 750 Timestep: 428932 Total reward: 59.4 Episode length: 505.5 Actor Loss: -0.0625 Critic Loss: 0.0000\n",
            "Episode: 760 Timestep: 437765 Total reward: 15.3 Episode length: 883.3 Actor Loss: -0.0468 Critic Loss: 0.0000\n",
            "Episode: 770 Timestep: 441275 Total reward: 80.0 Episode length: 351.0 Actor Loss: -0.0377 Critic Loss: 0.0000\n",
            "Episode: 780 Timestep: 443414 Total reward: 92.2 Episode length: 213.9 Actor Loss: -0.0401 Critic Loss: 0.0000\n",
            "Episode: 790 Timestep: 446586 Total reward: 92.5 Episode length: 317.2 Actor Loss: -0.0412 Critic Loss: 0.0000\n",
            "Episode: 800 Timestep: 449834 Total reward: 83.6 Episode length: 324.8 Actor Loss: -0.0460 Critic Loss: 0.0000\n",
            "Episode: 810 Timestep: 451030 Total reward: 93.5 Episode length: 119.6 Actor Loss: -0.0551 Critic Loss: 0.0000\n",
            "Episode: 820 Timestep: 452799 Total reward: 91.8 Episode length: 176.9 Actor Loss: -0.0621 Critic Loss: 0.0000\n",
            "Episode: 830 Timestep: 454124 Total reward: 92.7 Episode length: 132.5 Actor Loss: -0.0646 Critic Loss: 0.0000\n",
            "Episode: 840 Timestep: 455384 Total reward: 93.5 Episode length: 126.0 Actor Loss: -0.0674 Critic Loss: 0.0000\n",
            "Episode: 850 Timestep: 456547 Total reward: 92.7 Episode length: 116.3 Actor Loss: -0.0793 Critic Loss: 0.0000\n",
            "Episode: 860 Timestep: 457689 Total reward: 92.6 Episode length: 114.2 Actor Loss: -0.0852 Critic Loss: 0.0000\n",
            "Episode: 870 Timestep: 458906 Total reward: 92.3 Episode length: 121.7 Actor Loss: -0.0927 Critic Loss: 0.0000\n",
            "Episode: 880 Timestep: 460122 Total reward: 92.2 Episode length: 121.6 Actor Loss: -0.1036 Critic Loss: 0.0000\n",
            "Episode: 890 Timestep: 461084 Total reward: 93.3 Episode length: 96.2 Actor Loss: -0.1130 Critic Loss: 0.0000\n",
            "Episode: 900 Timestep: 462002 Total reward: 94.2 Episode length: 91.8 Actor Loss: -0.1196 Critic Loss: 0.0000\n",
            "Episode: 910 Timestep: 462955 Total reward: 94.1 Episode length: 95.3 Actor Loss: -0.1292 Critic Loss: 0.0000\n",
            "Episode: 920 Timestep: 463784 Total reward: 94.7 Episode length: 82.9 Actor Loss: -0.1340 Critic Loss: 0.0000\n",
            "Episode: 930 Timestep: 464640 Total reward: 94.2 Episode length: 85.6 Actor Loss: -0.1451 Critic Loss: 0.0000\n",
            "Episode: 940 Timestep: 465503 Total reward: 94.5 Episode length: 86.3 Actor Loss: -0.1514 Critic Loss: 0.0000\n",
            "Episode: 950 Timestep: 466273 Total reward: 94.5 Episode length: 77.0 Actor Loss: -0.1613 Critic Loss: 0.0000\n",
            "Episode: 960 Timestep: 467171 Total reward: 93.6 Episode length: 89.8 Actor Loss: -0.1706 Critic Loss: 0.0000\n",
            "Episode: 970 Timestep: 467910 Total reward: 94.5 Episode length: 73.9 Actor Loss: -0.1802 Critic Loss: 0.0000\n",
            "Episode: 980 Timestep: 468641 Total reward: 94.3 Episode length: 73.1 Actor Loss: -0.1867 Critic Loss: 0.0000\n",
            "Episode: 990 Timestep: 469383 Total reward: 94.2 Episode length: 74.2 Actor Loss: -0.1953 Critic Loss: 0.0000\n"
          ]
        }
      ]
    },
    {
      "cell_type": "code",
      "source": [
        "# plot stats\n",
        "def get_running_stat(stat, stat_len):\n",
        "    cum_sum = np.cumsum(np.insert(stat, 0, 0)) \n",
        "    return (cum_sum[stat_len:] - cum_sum[:-stat_len]) / stat_len\n",
        "\n",
        "episode, r, l = np.array(stats_rewards_list).T\n",
        "cum_r = get_running_stat(r, 10)\n",
        "cum_l = get_running_stat(l, 10)\n",
        "\n",
        "# plot rewards\n",
        "plt.plot(episode[-len(cum_r):], cum_r)\n",
        "plt.plot(episode, r, alpha=0.5)\n",
        "plt.xlabel('Episode')\n",
        "plt.ylabel('Episode Reward')"
      ],
      "metadata": {
        "colab": {
          "base_uri": "https://localhost:8080/",
          "height": 296
        },
        "id": "DiLU41N0NlBt",
        "outputId": "ccd3b7d2-36d9-4d6a-f0a4-3cd7ea1786b9"
      },
      "execution_count": null,
      "outputs": [
        {
          "output_type": "execute_result",
          "data": {
            "text/plain": [
              "Text(0, 0.5, 'Episode Reward')"
            ]
          },
          "metadata": {},
          "execution_count": 24
        },
        {
          "output_type": "display_data",
          "data": {
            "text/plain": [
              "<Figure size 432x288 with 1 Axes>"
            ],
            "image/png": "[encoded data removed]"
          },
          "metadata": {
            "needs_background": "light"
          }
        }
      ]
    }
  ]
}