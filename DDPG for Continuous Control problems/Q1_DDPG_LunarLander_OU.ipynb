{
  "nbformat": 4,
  "nbformat_minor": 0,
  "metadata": {
    "colab": {
      "provenance": []
    },
    "kernelspec": {
      "name": "python3",
      "display_name": "Python 3"
    },
    "language_info": {
      "name": "python"
    },
    "accelerator": "GPU",
    "gpuClass": "standard"
  },
  "cells": [
    {
      "cell_type": "code",
      "source": [
        "!pip install gym[box2d]"
      ],
      "metadata": {
        "colab": {
          "base_uri": "https://localhost:8080/"
        },
        "id": "y7r5C3VZLyI3",
        "outputId": "45eb650b-3ab5-4414-bf3e-2df30f59ed75"
      },
      "execution_count": 1,
      "outputs": [
        {
          "output_type": "stream",
          "name": "stdout",
          "text": [
            "Looking in indexes: https://pypi.org/simple, https://us-python.pkg.dev/colab-wheels/public/simple/\n",
            "Requirement already satisfied: gym[box2d] in /usr/local/lib/python3.7/dist-packages (0.25.2)\n",
            "Requirement already satisfied: numpy>=1.18.0 in /usr/local/lib/python3.7/dist-packages (from gym[box2d]) (1.21.6)\n",
            "Requirement already satisfied: gym-notices>=0.0.4 in /usr/local/lib/python3.7/dist-packages (from gym[box2d]) (0.0.8)\n",
            "Requirement already satisfied: cloudpickle>=1.2.0 in /usr/local/lib/python3.7/dist-packages (from gym[box2d]) (1.5.0)\n",
            "Requirement already satisfied: importlib-metadata>=4.8.0 in /usr/local/lib/python3.7/dist-packages (from gym[box2d]) (4.13.0)\n",
            "Collecting box2d-py==2.3.5\n",
            "  Downloading box2d_py-2.3.5-cp37-cp37m-manylinux1_x86_64.whl (2.1 MB)\n",
            "\u001b[K     |████████████████████████████████| 2.1 MB 15.3 MB/s \n",
            "\u001b[?25hCollecting pygame==2.1.0\n",
            "  Downloading pygame-2.1.0-cp37-cp37m-manylinux_2_17_x86_64.manylinux2014_x86_64.whl (18.3 MB)\n",
            "\u001b[K     |████████████████████████████████| 18.3 MB 56.8 MB/s \n",
            "\u001b[?25hCollecting swig==4.*\n",
            "  Downloading swig-4.1.0-py2.py3-none-manylinux_2_5_x86_64.manylinux1_x86_64.whl (1.8 MB)\n",
            "\u001b[K     |████████████████████████████████| 1.8 MB 55.5 MB/s \n",
            "\u001b[?25hRequirement already satisfied: zipp>=0.5 in /usr/local/lib/python3.7/dist-packages (from importlib-metadata>=4.8.0->gym[box2d]) (3.10.0)\n",
            "Requirement already satisfied: typing-extensions>=3.6.4 in /usr/local/lib/python3.7/dist-packages (from importlib-metadata>=4.8.0->gym[box2d]) (4.1.1)\n",
            "Installing collected packages: swig, pygame, box2d-py\n",
            "Successfully installed box2d-py-2.3.5 pygame-2.1.0 swig-4.1.0\n"
          ]
        }
      ]
    },
    {
      "cell_type": "code",
      "execution_count": 2,
      "metadata": {
        "id": "fA8Be_fnLZXT"
      },
      "outputs": [],
      "source": [
        "import torch\n",
        "import torch.optim as optim\n",
        "import torch.nn as nn\n",
        "import torch.nn.functional as F\n",
        "import matplotlib.pyplot as plt\n",
        "import gym\n",
        "import numpy as np\n",
        "import copy"
      ]
    },
    {
      "cell_type": "code",
      "source": [
        "# check and use GPU if available if not use CPU\n",
        "device = torch.device(\"cuda\" if torch.cuda.is_available() else \"cpu\")"
      ],
      "metadata": {
        "id": "eR55CGvHLmD2"
      },
      "execution_count": 3,
      "outputs": []
    },
    {
      "cell_type": "markdown",
      "source": [
        "# Print Gym Environment Specs"
      ],
      "metadata": {
        "id": "UKHClzLLR-Pa"
      }
    },
    {
      "cell_type": "code",
      "source": [
        "env = gym.make('LunarLanderContinuous-v2')\n",
        "print('Action Space-->',env.action_space)\n",
        "print('Observation Space-->',env.observation_space)\n",
        "print('reward range-->',env.reward_range)\n",
        "print('Meta data --> ',env.metadata)\n",
        "print('Specifications -->',env.spec)\n",
        "env.reset()\n",
        "\n",
        "prev_screen = env.render(mode='rgb_array')\n",
        "plt.imshow(prev_screen)\n",
        "\n",
        "for i in range(200):\n",
        "    env.render(mode='rgb_array')\n",
        "    action = env.action_space.sample()\n",
        "    obs, reward, done, info = env.step(action)\n",
        "    if done:\n",
        "        env.reset()\n",
        "        \n",
        "env.close()"
      ],
      "metadata": {
        "colab": {
          "base_uri": "https://localhost:8080/",
          "height": 532
        },
        "id": "VFMX6rrxLmGW",
        "outputId": "b5481e33-a1d5-404c-edc0-1c8c2eb5b458"
      },
      "execution_count": 4,
      "outputs": [
        {
          "output_type": "stream",
          "name": "stderr",
          "text": [
            "/usr/local/lib/python3.7/dist-packages/gym/core.py:318: DeprecationWarning: \u001b[33mWARN: Initializing wrapper in old step API which returns one bool instead of two. It is recommended to set `new_step_api=True` to use new step API. This will be the default behaviour in future.\u001b[0m\n",
            "  \"Initializing wrapper in old step API which returns one bool instead of two. It is recommended to set `new_step_api=True` to use new step API. This will be the default behaviour in future.\"\n",
            "/usr/local/lib/python3.7/dist-packages/gym/wrappers/step_api_compatibility.py:40: DeprecationWarning: \u001b[33mWARN: Initializing environment in old step API which returns one bool instead of two. It is recommended to set `new_step_api=True` to use new step API. This will be the default behaviour in future.\u001b[0m\n",
            "  \"Initializing environment in old step API which returns one bool instead of two. It is recommended to set `new_step_api=True` to use new step API. This will be the default behaviour in future.\"\n",
            "/usr/local/lib/python3.7/dist-packages/gym/core.py:44: DeprecationWarning: \u001b[33mWARN: The argument mode in render method is deprecated; use render_mode during environment initialization instead.\n",
            "See here for more information: https://www.gymlibrary.ml/content/api/\u001b[0m\n",
            "  \"The argument mode in render method is deprecated; \"\n"
          ]
        },
        {
          "output_type": "stream",
          "name": "stdout",
          "text": [
            "Action Space--> Box(-1.0, 1.0, (2,), float32)\n",
            "Observation Space--> Box([-1.5       -1.5       -5.        -5.        -3.1415927 -5.\n",
            " -0.        -0.       ], [1.5       1.5       5.        5.        3.1415927 5.        1.\n",
            " 1.       ], (8,), float32)\n",
            "reward range--> (-inf, inf)\n",
            "Meta data -->  {'render_modes': ['human', 'rgb_array', 'single_rgb_array'], 'render_fps': 50}\n",
            "Specifications --> EnvSpec(id='LunarLanderContinuous-v2', entry_point='gym.envs.box2d.lunar_lander:LunarLander', reward_threshold=200, nondeterministic=False, max_episode_steps=1000, order_enforce=True, autoreset=False, disable_env_checker=False, new_step_api=False, kwargs={'continuous': True}, namespace=None, name='LunarLanderContinuous', version=2)\n"
          ]
        },
        {
          "output_type": "display_data",
          "data": {
            "text/plain": [
              "<Figure size 432x288 with 1 Axes>"
            ],
            "image/png": "[encoded data removed]"
          },
          "metadata": {
            "needs_background": "light"
          }
        }
      ]
    },
    {
      "cell_type": "markdown",
      "source": [
        "# Replay Buffer"
      ],
      "metadata": {
        "id": "Q5Q9KTnVSeu-"
      }
    },
    {
      "cell_type": "code",
      "source": [
        "\n",
        "#Experience Replay Buffer\n",
        "# replay buffer from and some code based on https://github.com/sfujim/TD3\n",
        "\n",
        "# create replay buffer of tuples of (state, next_state, action, reward, done)\n",
        "class ReplayBuffer():\n",
        "    def __init__(self, max_size=1e6):\n",
        "        self.storage = []\n",
        "        self.max_size = max_size\n",
        "        self.ptr = 0\n",
        "\n",
        "    def add(self, data):\n",
        "        if len(self.storage) == self.max_size:\n",
        "            self.storage[int(self.ptr)] = data\n",
        "            self.ptr = (self.ptr + 1) % self.max_size\n",
        "        else:\n",
        "            self.storage.append(data)\n",
        "\n",
        "    def sample(self, batch_size):\n",
        "        ind = np.random.randint(0, len(self.storage), size=batch_size)\n",
        "        x, y, u, r, d = [], [], [], [], []\n",
        "\n",
        "        for i in ind: \n",
        "            X, Y, U, R, D = self.storage[i]\n",
        "            x.append(np.array(X, copy=False))\n",
        "            y.append(np.array(Y, copy=False))\n",
        "            u.append(np.array(U, copy=False))\n",
        "            r.append(np.array(R, copy=False))\n",
        "            d.append(np.array(D, copy=False))\n",
        "\n",
        "        return np.array(x), np.array(y), np.array(u), np.array(r).reshape(-1,1), np.array(d).reshape(-1,1)"
      ],
      "metadata": {
        "id": "5_mBsxnvLmJA"
      },
      "execution_count": 5,
      "outputs": []
    },
    {
      "cell_type": "markdown",
      "source": [
        "# Ornstein Ulhenbeck (OU) noise"
      ],
      "metadata": {
        "id": "3_ZAwaPHS_HT"
      }
    },
    {
      "cell_type": "code",
      "source": [
        "class OUNoise:\n",
        "    \"\"\"Ornstein-Uhlenbeck process.\"\"\"\n",
        "\n",
        "    def __init__(self, size, mu=0., theta=0.15, sigma=0.2):\n",
        "        \"\"\"Initialize parameters and noise process.\"\"\"\n",
        "        self.mu = mu * np.ones(size)\n",
        "        self.theta = theta\n",
        "        self.sigma = sigma\n",
        "        self.reset()\n",
        "\n",
        "    def reset(self):\n",
        "        \"\"\"Reset the internal state (= noise) to mean (mu).\"\"\"\n",
        "        self.state = copy.copy(self.mu)\n",
        "\n",
        "    def sample(self):\n",
        "        \"\"\"Update internal state and return it as a noise sample.\"\"\"\n",
        "        x = self.state\n",
        "        dx = self.theta * (self.mu - x) + self.sigma * np.array([np.random.randn() for i in range(len(x))])\n",
        "        self.state = x + dx\n",
        "        return self.state"
      ],
      "metadata": {
        "id": "Rq2ZDKaPpwhz"
      },
      "execution_count": 6,
      "outputs": []
    },
    {
      "cell_type": "markdown",
      "source": [
        "# Actor Critic Networks"
      ],
      "metadata": {
        "id": "zORBv4BdTQsN"
      }
    },
    {
      "cell_type": "code",
      "source": [
        "class ActorNet(nn.Module):\n",
        "    def __init__(self, state_size, action_size, hidden_size, action_max):\n",
        "        super(ActorNet, self).__init__()\n",
        "        self.dense_layer_1 = nn.Linear(state_size, hidden_size)\n",
        "        self.dense_layer_2 = nn.Linear(hidden_size, hidden_size)\n",
        "        self.output = nn.Linear(hidden_size, action_size)\n",
        "        self.action_max = action_max\n",
        "    \n",
        "    def forward(self, x):\n",
        "        x = torch.clamp(x,-1.1,1.1)\n",
        "        x = F.relu(self.dense_layer_1(x))\n",
        "        x = F.relu(self.dense_layer_2(x))\n",
        "        return torch.tanh(self.output(x)) * self.action_max\n",
        "    \n",
        "class CriticNet(nn.Module):\n",
        "    def __init__(self, state_size, action_size, hidden_size):\n",
        "        super(CriticNet, self).__init__()\n",
        "        self.dense_layer_1 = nn.Linear(state_size+action_size, hidden_size)\n",
        "        self.dense_layer_2 = nn.Linear(hidden_size, hidden_size)\n",
        "        self.output = nn.Linear(hidden_size, 1)\n",
        "    \n",
        "    def forward(self, x, a):\n",
        "        x = torch.clamp(x,-1.1,1.1)\n",
        "        x = F.relu(self.dense_layer_1(torch.cat((x,a),dim=1)))\n",
        "        x = F.relu(self.dense_layer_2(x))\n",
        "        return self.output(x)"
      ],
      "metadata": {
        "id": "3YloH-gwMQah"
      },
      "execution_count": 7,
      "outputs": []
    },
    {
      "cell_type": "markdown",
      "source": [
        "# Agent"
      ],
      "metadata": {
        "id": "9K7ELeN9TKa8"
      }
    },
    {
      "cell_type": "code",
      "source": [
        "class DDPGAgent():\n",
        "    def __init__(self, state_size, action_size, hidden_size, actor_lr, critic_lr, discount,\n",
        "                 min_action, max_action, exploration_noise):\n",
        "        self.action_size = action_size\n",
        "        self.actor = ActorNet(state_size, action_size, hidden_size, max_action).to(device)\n",
        "        self.actor_target = ActorNet(state_size, action_size, hidden_size, max_action).to(device)\n",
        "        self.critic = CriticNet(state_size, action_size, hidden_size).to(device)\n",
        "        self.critic_target = CriticNet(state_size, action_size, hidden_size).to(device)\n",
        "        self.actor_target.load_state_dict(self.actor.state_dict())\n",
        "        self.critic_target.load_state_dict(self.critic.state_dict())\n",
        "        \n",
        "        self.actor_optimizer = optim.Adam(self.actor.parameters(), lr=actor_lr)\n",
        "        self.critic_optimizer = optim.Adam(self.critic.parameters(), lr=critic_lr)\n",
        "        self.discount = discount\n",
        "        self.min_action = min_action\n",
        "        self.max_action = max_action\n",
        "        self.exploration_noise = exploration_noise\n",
        "        \n",
        "    def select_action(self, state):\n",
        "        #get action probs then randomly sample from the probabilities\n",
        "        with torch.no_grad():\n",
        "            input_state = torch.FloatTensor(state).to(device)\n",
        "            action = self.actor(input_state)\n",
        "            #detach and turn to numpy to use with np.random.choice()\n",
        "            action = action.detach().cpu().numpy()\n",
        "            #in DDPG add noise for exploration\n",
        "            #action = (action + np.random.normal(0., self.exploration_noise, size=self.action_size)).clip(self.min_action, self.max_action)   \n",
        "            self.ou_noise = OUNoise(action_size)\n",
        "            action += self.ou_noise.sample()\n",
        "            action.clip(self.min_action, self.max_action)  \n",
        "        return action\n",
        "\n",
        "    \n",
        "    def train(self, replay_buffer, batch_size):\n",
        "        # sample a batch from the replay buffer\n",
        "        x0, x1, a, r, d = replay_buffer.sample(batch_size)\n",
        "        # turn batches into tensors and use GPU if available\n",
        "        state_batch = torch.FloatTensor(x0).to(device)\n",
        "        next_state_batch = torch.FloatTensor(x1).to(device)\n",
        "        action_batch = torch.FloatTensor(a).to(device)\n",
        "        reward_batch = torch.FloatTensor(r).to(device)\n",
        "        flipped_done_batch = torch.FloatTensor(d).to(device) #already flipped done when adding to replay buffer\n",
        "\n",
        "        # get target net target values\n",
        "        with torch.no_grad():\n",
        "            target_action = self.actor_target(next_state_batch).view(batch_size,-1)\n",
        "            target_v = reward_batch + flipped_done_batch*self.discount*self.critic_target(next_state_batch, \n",
        "                                                                           target_action).view(batch_size,-1)\n",
        "        # get train net values for updating the critic network    \n",
        "        critic_v = self.critic(state_batch, action_batch).view(batch_size,-1)\n",
        "        \n",
        "        # train critic\n",
        "        critic_loss = F.smooth_l1_loss(critic_v, target_v)\n",
        "        self.critic_optimizer.zero_grad()\n",
        "        critic_loss.backward()\n",
        "        self.critic_optimizer.step() \n",
        "        \n",
        "        # train actor\n",
        "        train_action = self.actor(state_batch)\n",
        "        actor_loss = -torch.mean(self.critic(state_batch,train_action))\n",
        "        self.actor_optimizer.zero_grad()\n",
        "        actor_loss.backward()\n",
        "        self.actor_optimizer.step() \n",
        "        \n",
        "        return actor_loss.detach().cpu().numpy(), critic_loss.detach().cpu().numpy()\n",
        "        \n",
        "        \n",
        "    def update_target_network_soft(self, num_iter, update_every, update_tau=0.001):\n",
        "        # soft target network update: update target networks with mixture of train and target\n",
        "        if num_iter % update_every == 0:\n",
        "            for target_var, var in zip(self.critic_target.parameters(), self.critic.parameters()):\n",
        "                target_var.data.copy_((1.-update_tau) * target_var.data + (update_tau) * var.data)\n",
        "            for target_var, var in zip(self.actor_target.parameters(), self.actor.parameters()):\n",
        "                target_var.data.copy_((1.-update_tau) * target_var.data + (update_tau) * var.data)\n"
      ],
      "metadata": {
        "id": "1svDPVdcLmLf"
      },
      "execution_count": 8,
      "outputs": []
    },
    {
      "cell_type": "markdown",
      "source": [
        "# Hyperparameter"
      ],
      "metadata": {
        "id": "iRDGURSeNEt9"
      }
    },
    {
      "cell_type": "code",
      "source": [
        "# set seed\n",
        "seed = 30\n",
        "env.reset(seed=seed)# new \n",
        "np.random.seed(seed)\n",
        "torch.manual_seed(seed)\n",
        "if torch.cuda.is_available():\n",
        "    torch.cuda.manual_seed(seed)\n",
        "    torch.cuda.manual_seed_all(seed)\n",
        "    \n",
        "# create replay buffer\n",
        "replay_size = 50000 # size of replay buffer\n",
        "replay_buffer = ReplayBuffer(max_size=replay_size)    \n",
        "\n",
        "# target update hyperparameters\n",
        "start_training_after = 10001 # start training NN after this many timesteps\n",
        "update_target_every = 5 # update target network every this steps\n",
        "tau = 0.001\n",
        "\n",
        "episodes = 1000    \n",
        "discount = 0.99\n",
        "batch_size = 32\n",
        "exploration_noise = 0.1 #NOISE\n",
        "hidden_size = 64\n",
        "actor_lr = 0.0005\n",
        "critic_lr = 0.0005\n",
        "reward_scale = 0.01"
      ],
      "metadata": {
        "id": "fBWf0XVlLmN3"
      },
      "execution_count": 16,
      "outputs": []
    },
    {
      "cell_type": "code",
      "source": [
        "env = gym.make('LunarLanderContinuous-v2')\n",
        "action_size = env.action_space.shape[0]\n",
        "state_size = env.observation_space.shape[0]\n",
        "min_action = env.action_space.low[0]\n",
        "max_action = env.action_space.high[0]"
      ],
      "metadata": {
        "id": "8gstbK2gLmRO",
        "colab": {
          "base_uri": "https://localhost:8080/"
        },
        "outputId": "864c493f-c7e3-4049-df14-128bf165506b"
      },
      "execution_count": 12,
      "outputs": [
        {
          "output_type": "stream",
          "name": "stderr",
          "text": [
            "/usr/local/lib/python3.7/dist-packages/gym/core.py:318: DeprecationWarning: \u001b[33mWARN: Initializing wrapper in old step API which returns one bool instead of two. It is recommended to set `new_step_api=True` to use new step API. This will be the default behaviour in future.\u001b[0m\n",
            "  \"Initializing wrapper in old step API which returns one bool instead of two. It is recommended to set `new_step_api=True` to use new step API. This will be the default behaviour in future.\"\n",
            "/usr/local/lib/python3.7/dist-packages/gym/wrappers/step_api_compatibility.py:40: DeprecationWarning: \u001b[33mWARN: Initializing environment in old step API which returns one bool instead of two. It is recommended to set `new_step_api=True` to use new step API. This will be the default behaviour in future.\u001b[0m\n",
            "  \"Initializing environment in old step API which returns one bool instead of two. It is recommended to set `new_step_api=True` to use new step API. This will be the default behaviour in future.\"\n"
          ]
        }
      ]
    },
    {
      "cell_type": "code",
      "source": [
        "agent = DDPGAgent(state_size=state_size, action_size=action_size, hidden_size=hidden_size, \n",
        "                  actor_lr=actor_lr, critic_lr=critic_lr, discount=discount, min_action=min_action,\n",
        "                  max_action=max_action, exploration_noise=exploration_noise)"
      ],
      "metadata": {
        "id": "DDJcq8xXNU8L"
      },
      "execution_count": 13,
      "outputs": []
    },
    {
      "cell_type": "markdown",
      "source": [
        "# Training & Outputs"
      ],
      "metadata": {
        "id": "aRRufUtWTYGq"
      }
    },
    {
      "cell_type": "code",
      "source": [
        "stats_rewards_list = [] # store stats for plotting in this\n",
        "stats_every = 10 # print stats every this many episodes\n",
        "total_reward = 0\n",
        "timesteps = 0\n",
        "episode_length = 0\n",
        "stats_actor_loss, stats_critic_loss = [], []\n",
        "\n",
        "for ep in range(episodes):\n",
        "    state = env.reset()\n",
        "\n",
        "    # stopping condition for training if agent reaches the amount of reward\n",
        "    if len(stats_rewards_list) > stats_every and np.mean(stats_rewards_list[-stats_every:],axis=0)[1] > 190:\n",
        "        print(\"Stopping at episode {} with average rewards of {} in last {} episodes\".\n",
        "            format(ep, np.mean(stats_rewards_list[-stats_every:],axis=0)[1], stats_every))\n",
        "        break  \n",
        "\n",
        "    # train in each episode until episode is done\n",
        "    while True:\n",
        "        timesteps += 1\n",
        "        #env.render()\n",
        "        # select an action from the agent's policy\n",
        "        action = agent.select_action(state)\n",
        "        \n",
        "        # enter action into the env\n",
        "        next_state, reward, done, _ = env.step(action)\n",
        "        total_reward += reward\n",
        "        episode_length += 1\n",
        "        # end episode early\n",
        "        if total_reward < -250:\n",
        "            done = 1\n",
        "        \n",
        "        # add experience to replay buffer\n",
        "        replay_buffer.add((state, next_state, action, reward*reward_scale, 1-float(done)))\n",
        "        \n",
        "        # train the agent\n",
        "        if timesteps >= start_training_after:\n",
        "            actor_loss, critic_loss = agent.train(replay_buffer, batch_size)\n",
        "            stats_actor_loss.append(actor_loss) \n",
        "            stats_critic_loss.append(critic_loss) \n",
        "            agent.update_target_network_soft(timesteps, update_target_every)\n",
        "            \n",
        "        if done:\n",
        "            stats_rewards_list.append((ep, total_reward, episode_length))\n",
        "            total_reward = 0\n",
        "            episode_length = 0  \n",
        "            if timesteps >= start_training_after and ep % stats_every == 0:\n",
        "                print('Episode: {}'.format(ep),\n",
        "                    'Timestep: {}'.format(timesteps),\n",
        "                    'Total reward: {:.1f}'.format(np.mean(stats_rewards_list[-stats_every:],axis=0)[1]),\n",
        "                    'Episode length: {:.1f}'.format(np.mean(stats_rewards_list[-stats_every:],axis=0)[2]),\n",
        "                    'Actor Loss: {:.4f}'.format(np.mean(stats_actor_loss)), \n",
        "                    'Critic Loss: {:.4f}'.format(np.mean(stats_critic_loss)))\n",
        "                stats_actor_loss, stats_critic_loss = [], []\n",
        "            break\n",
        "        \n",
        "        state = next_state"
      ],
      "metadata": {
        "colab": {
          "base_uri": "https://localhost:8080/"
        },
        "id": "YWoiwEPqNeQ3",
        "outputId": "7081db90-eb95-4dd2-91b5-8bd5b9e85939"
      },
      "execution_count": 14,
      "outputs": [
        {
          "output_type": "stream",
          "name": "stdout",
          "text": [
            "Episode: 100 Timestep: 10110 Total reward: -190.0 Episode length: 120.8 Actor Loss: 0.1570 Critic Loss: 0.0032\n",
            "Episode: 110 Timestep: 10760 Total reward: -256.2 Episode length: 65.0 Actor Loss: 0.1546 Critic Loss: 0.0026\n",
            "Episode: 120 Timestep: 11757 Total reward: -253.2 Episode length: 99.7 Actor Loss: 0.1456 Critic Loss: 0.0020\n",
            "Episode: 130 Timestep: 13034 Total reward: -211.1 Episode length: 127.7 Actor Loss: 0.1306 Critic Loss: 0.0013\n",
            "Episode: 140 Timestep: 13526 Total reward: -256.0 Episode length: 49.2 Actor Loss: 0.1390 Critic Loss: 0.0013\n",
            "Episode: 150 Timestep: 14237 Total reward: -246.8 Episode length: 71.1 Actor Loss: 0.1292 Critic Loss: 0.0013\n",
            "Episode: 160 Timestep: 14931 Total reward: -267.1 Episode length: 69.4 Actor Loss: 0.1266 Critic Loss: 0.0011\n",
            "Episode: 170 Timestep: 15666 Total reward: -254.2 Episode length: 73.5 Actor Loss: 0.1265 Critic Loss: 0.0010\n",
            "Episode: 180 Timestep: 17068 Total reward: -269.4 Episode length: 140.2 Actor Loss: 0.1333 Critic Loss: 0.0010\n",
            "Episode: 190 Timestep: 19020 Total reward: -195.1 Episode length: 195.2 Actor Loss: 0.1338 Critic Loss: 0.0010\n",
            "Episode: 200 Timestep: 22994 Total reward: -256.1 Episode length: 397.4 Actor Loss: 0.1362 Critic Loss: 0.0012\n",
            "Episode: 210 Timestep: 27654 Total reward: -207.2 Episode length: 466.0 Actor Loss: 0.1334 Critic Loss: 0.0009\n",
            "Episode: 220 Timestep: 34522 Total reward: -176.6 Episode length: 686.8 Actor Loss: 0.1258 Critic Loss: 0.0009\n",
            "Episode: 230 Timestep: 38246 Total reward: -210.6 Episode length: 372.4 Actor Loss: 0.1182 Critic Loss: 0.0008\n",
            "Episode: 240 Timestep: 45146 Total reward: -237.5 Episode length: 690.0 Actor Loss: 0.1142 Critic Loss: 0.0008\n",
            "Episode: 250 Timestep: 53188 Total reward: -158.4 Episode length: 804.2 Actor Loss: 0.1104 Critic Loss: 0.0007\n",
            "Episode: 260 Timestep: 58028 Total reward: -235.5 Episode length: 484.0 Actor Loss: 0.1109 Critic Loss: 0.0006\n",
            "Episode: 270 Timestep: 65962 Total reward: -160.5 Episode length: 793.4 Actor Loss: 0.1103 Critic Loss: 0.0005\n",
            "Episode: 280 Timestep: 72553 Total reward: -182.3 Episode length: 659.1 Actor Loss: 0.0988 Critic Loss: 0.0004\n",
            "Episode: 290 Timestep: 78844 Total reward: -190.5 Episode length: 629.1 Actor Loss: 0.0952 Critic Loss: 0.0003\n",
            "Episode: 300 Timestep: 85189 Total reward: -151.7 Episode length: 634.5 Actor Loss: 0.0913 Critic Loss: 0.0003\n",
            "Episode: 310 Timestep: 90266 Total reward: -121.8 Episode length: 507.7 Actor Loss: 0.0867 Critic Loss: 0.0003\n",
            "Episode: 320 Timestep: 95519 Total reward: -98.9 Episode length: 525.3 Actor Loss: 0.0821 Critic Loss: 0.0002\n",
            "Episode: 330 Timestep: 101639 Total reward: -109.9 Episode length: 612.0 Actor Loss: 0.0769 Critic Loss: 0.0002\n",
            "Episode: 340 Timestep: 108844 Total reward: -129.5 Episode length: 720.5 Actor Loss: 0.0708 Critic Loss: 0.0002\n",
            "Episode: 350 Timestep: 114265 Total reward: -131.6 Episode length: 542.1 Actor Loss: 0.0666 Critic Loss: 0.0002\n",
            "Episode: 360 Timestep: 117269 Total reward: -145.7 Episode length: 300.4 Actor Loss: 0.0640 Critic Loss: 0.0003\n",
            "Episode: 370 Timestep: 122400 Total reward: -150.9 Episode length: 513.1 Actor Loss: 0.0600 Critic Loss: 0.0003\n",
            "Episode: 380 Timestep: 129464 Total reward: -119.5 Episode length: 706.4 Actor Loss: 0.0545 Critic Loss: 0.0002\n",
            "Episode: 390 Timestep: 136288 Total reward: -129.4 Episode length: 682.4 Actor Loss: 0.0510 Critic Loss: 0.0002\n",
            "Episode: 400 Timestep: 142708 Total reward: -141.6 Episode length: 642.0 Actor Loss: 0.0495 Critic Loss: 0.0002\n",
            "Episode: 410 Timestep: 151845 Total reward: -92.2 Episode length: 913.7 Actor Loss: 0.0462 Critic Loss: 0.0002\n",
            "Episode: 420 Timestep: 158503 Total reward: -76.4 Episode length: 665.8 Actor Loss: 0.0437 Critic Loss: 0.0002\n",
            "Episode: 430 Timestep: 166117 Total reward: -84.1 Episode length: 761.4 Actor Loss: 0.0401 Critic Loss: 0.0001\n",
            "Episode: 440 Timestep: 173672 Total reward: -97.8 Episode length: 755.5 Actor Loss: 0.0392 Critic Loss: 0.0001\n",
            "Episode: 450 Timestep: 180690 Total reward: -48.0 Episode length: 701.8 Actor Loss: 0.0376 Critic Loss: 0.0001\n",
            "Episode: 460 Timestep: 187572 Total reward: -8.7 Episode length: 688.2 Actor Loss: 0.0302 Critic Loss: 0.0002\n",
            "Episode: 470 Timestep: 196845 Total reward: -49.4 Episode length: 927.3 Actor Loss: 0.0161 Critic Loss: 0.0002\n",
            "Episode: 480 Timestep: 203810 Total reward: -17.1 Episode length: 696.5 Actor Loss: 0.0004 Critic Loss: 0.0002\n",
            "Episode: 490 Timestep: 211242 Total reward: -80.4 Episode length: 743.2 Actor Loss: -0.0137 Critic Loss: 0.0003\n",
            "Episode: 500 Timestep: 221242 Total reward: -49.4 Episode length: 1000.0 Actor Loss: -0.0282 Critic Loss: 0.0002\n",
            "Episode: 510 Timestep: 230367 Total reward: -37.1 Episode length: 912.5 Actor Loss: -0.0560 Critic Loss: 0.0002\n",
            "Episode: 520 Timestep: 237657 Total reward: -30.3 Episode length: 729.0 Actor Loss: -0.0766 Critic Loss: 0.0002\n",
            "Episode: 530 Timestep: 246320 Total reward: -37.2 Episode length: 866.3 Actor Loss: -0.0841 Critic Loss: 0.0002\n",
            "Episode: 540 Timestep: 254672 Total reward: 61.0 Episode length: 835.2 Actor Loss: -0.1005 Critic Loss: 0.0002\n",
            "Episode: 550 Timestep: 261384 Total reward: 7.0 Episode length: 671.2 Actor Loss: -0.1153 Critic Loss: 0.0003\n",
            "Episode: 560 Timestep: 267921 Total reward: 64.9 Episode length: 653.7 Actor Loss: -0.1360 Critic Loss: 0.0003\n",
            "Episode: 570 Timestep: 274627 Total reward: 49.8 Episode length: 670.6 Actor Loss: -0.1558 Critic Loss: 0.0004\n",
            "Episode: 580 Timestep: 279208 Total reward: 120.6 Episode length: 458.1 Actor Loss: -0.1683 Critic Loss: 0.0005\n",
            "Episode: 590 Timestep: 287230 Total reward: 71.5 Episode length: 802.2 Actor Loss: -0.1753 Critic Loss: 0.0005\n",
            "Episode: 600 Timestep: 291618 Total reward: 128.9 Episode length: 438.8 Actor Loss: -0.1861 Critic Loss: 0.0005\n",
            "Episode: 610 Timestep: 297203 Total reward: 62.3 Episode length: 558.5 Actor Loss: -0.1932 Critic Loss: 0.0006\n",
            "Episode: 620 Timestep: 304140 Total reward: 65.1 Episode length: 693.7 Actor Loss: -0.1940 Critic Loss: 0.0006\n",
            "Episode: 630 Timestep: 308703 Total reward: 60.0 Episode length: 456.3 Actor Loss: -0.2003 Critic Loss: 0.0006\n",
            "Episode: 640 Timestep: 315139 Total reward: 144.6 Episode length: 643.6 Actor Loss: -0.2081 Critic Loss: 0.0006\n",
            "Episode: 650 Timestep: 320464 Total reward: 151.0 Episode length: 532.5 Actor Loss: -0.2167 Critic Loss: 0.0006\n",
            "Stopping at episode 653 with average rewards of 205.2487651253188 in last 10 episodes\n"
          ]
        }
      ]
    },
    {
      "cell_type": "code",
      "source": [
        "# plot stats\n",
        "def get_running_stat(stat, stat_len):\n",
        "    cum_sum = np.cumsum(np.insert(stat, 0, 0)) \n",
        "    return (cum_sum[stat_len:] - cum_sum[:-stat_len]) / stat_len\n",
        "\n",
        "episode, r, l = np.array(stats_rewards_list).T\n",
        "cum_r = get_running_stat(r, 10)\n",
        "cum_l = get_running_stat(l, 10)\n",
        "\n",
        "# plot rewards\n",
        "plt.plot(episode[-len(cum_r):], cum_r)\n",
        "plt.plot(episode, r, alpha=0.5)\n",
        "plt.xlabel('Episode')\n",
        "plt.ylabel('Episode Reward')"
      ],
      "metadata": {
        "colab": {
          "base_uri": "https://localhost:8080/",
          "height": 300
        },
        "id": "DiLU41N0NlBt",
        "outputId": "5858f4fd-e89d-4f45-dd38-c25c3903e2d5"
      },
      "execution_count": 15,
      "outputs": [
        {
          "output_type": "execute_result",
          "data": {
            "text/plain": [
              "Text(0, 0.5, 'Episode Reward')"
            ]
          },
          "metadata": {},
          "execution_count": 15
        },
        {
          "output_type": "display_data",
          "data": {
            "text/plain": [
              "<Figure size 432x288 with 1 Axes>"
            ],
            "image/png": "[encoded data removed]"
          },
          "metadata": {
            "needs_background": "light"
          }
        }
      ]
    }
  ]
}