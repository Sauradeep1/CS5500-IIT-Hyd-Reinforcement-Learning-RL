{
  "nbformat": 4,
  "nbformat_minor": 0,
  "metadata": {
    "colab": {
      "provenance": []
    },
    "kernelspec": {
      "name": "python3",
      "display_name": "Python 3"
    },
    "language_info": {
      "name": "python"
    },
    "accelerator": "GPU",
    "gpuClass": "standard"
  },
  "cells": [
    {
      "cell_type": "code",
      "source": [
        "!pip install gym[box2d]"
      ],
      "metadata": {
        "colab": {
          "base_uri": "https://localhost:8080/"
        },
        "id": "y7r5C3VZLyI3",
        "outputId": "67352b7a-8e2b-493b-c114-e0ad03e81ccb"
      },
      "execution_count": 1,
      "outputs": [
        {
          "output_type": "stream",
          "name": "stdout",
          "text": [
            "Looking in indexes: https://pypi.org/simple, https://us-python.pkg.dev/colab-wheels/public/simple/\n",
            "Requirement already satisfied: gym[box2d] in /usr/local/lib/python3.7/dist-packages (0.25.2)\n",
            "Requirement already satisfied: importlib-metadata>=4.8.0 in /usr/local/lib/python3.7/dist-packages (from gym[box2d]) (4.13.0)\n",
            "Requirement already satisfied: gym-notices>=0.0.4 in /usr/local/lib/python3.7/dist-packages (from gym[box2d]) (0.0.8)\n",
            "Requirement already satisfied: cloudpickle>=1.2.0 in /usr/local/lib/python3.7/dist-packages (from gym[box2d]) (1.5.0)\n",
            "Requirement already satisfied: numpy>=1.18.0 in /usr/local/lib/python3.7/dist-packages (from gym[box2d]) (1.21.6)\n",
            "Collecting pygame==2.1.0\n",
            "  Downloading pygame-2.1.0-cp37-cp37m-manylinux_2_17_x86_64.manylinux2014_x86_64.whl (18.3 MB)\n",
            "\u001b[K     |████████████████████████████████| 18.3 MB 116 kB/s \n",
            "\u001b[?25hCollecting swig==4.*\n",
            "  Downloading swig-4.1.0-py2.py3-none-manylinux_2_5_x86_64.manylinux1_x86_64.whl (1.8 MB)\n",
            "\u001b[K     |████████████████████████████████| 1.8 MB 53.8 MB/s \n",
            "\u001b[?25hCollecting box2d-py==2.3.5\n",
            "  Downloading box2d_py-2.3.5-cp37-cp37m-manylinux1_x86_64.whl (2.1 MB)\n",
            "\u001b[K     |████████████████████████████████| 2.1 MB 53.1 MB/s \n",
            "\u001b[?25hRequirement already satisfied: typing-extensions>=3.6.4 in /usr/local/lib/python3.7/dist-packages (from importlib-metadata>=4.8.0->gym[box2d]) (4.1.1)\n",
            "Requirement already satisfied: zipp>=0.5 in /usr/local/lib/python3.7/dist-packages (from importlib-metadata>=4.8.0->gym[box2d]) (3.10.0)\n",
            "Installing collected packages: swig, pygame, box2d-py\n",
            "Successfully installed box2d-py-2.3.5 pygame-2.1.0 swig-4.1.0\n"
          ]
        }
      ]
    },
    {
      "cell_type": "code",
      "execution_count": 2,
      "metadata": {
        "id": "fA8Be_fnLZXT"
      },
      "outputs": [],
      "source": [
        "import torch\n",
        "import torch.optim as optim\n",
        "import torch.nn as nn\n",
        "import torch.nn.functional as F\n",
        "import matplotlib.pyplot as plt\n",
        "import gym\n",
        "import numpy as np\n",
        "import copy"
      ]
    },
    {
      "cell_type": "code",
      "source": [
        "# check and use GPU if available if not use CPU\n",
        "device = torch.device(\"cuda\" if torch.cuda.is_available() else \"cpu\")"
      ],
      "metadata": {
        "id": "eR55CGvHLmD2"
      },
      "execution_count": 3,
      "outputs": []
    },
    {
      "cell_type": "markdown",
      "source": [
        "# Print Gym Environment Specs"
      ],
      "metadata": {
        "id": "UKHClzLLR-Pa"
      }
    },
    {
      "cell_type": "code",
      "source": [
        "env = gym.make('MountainCarContinuous-v0') #('LunarLanderContinuous-v2')\n",
        "print('Action Space-->',env.action_space)\n",
        "print('Observation Space-->',env.observation_space)\n",
        "print('reward range-->',env.reward_range)\n",
        "print('Meta data --> ',env.metadata)\n",
        "print('Specifications -->',env.spec)\n",
        "env.reset()\n",
        "\n",
        "prev_screen = env.render(mode='rgb_array')\n",
        "plt.imshow(prev_screen)\n",
        "\n",
        "for i in range(200):\n",
        "    env.render(mode='rgb_array')\n",
        "    action = env.action_space.sample()\n",
        "    obs, reward, done, info = env.step(action)\n",
        "    if done:\n",
        "        env.reset()\n",
        "        \n",
        "env.close()"
      ],
      "metadata": {
        "colab": {
          "base_uri": "https://localhost:8080/",
          "height": 497
        },
        "id": "VFMX6rrxLmGW",
        "outputId": "10385b04-91c1-4863-b251-b301ad76b445"
      },
      "execution_count": 4,
      "outputs": [
        {
          "output_type": "stream",
          "name": "stderr",
          "text": [
            "/usr/local/lib/python3.7/dist-packages/gym/core.py:318: DeprecationWarning: \u001b[33mWARN: Initializing wrapper in old step API which returns one bool instead of two. It is recommended to set `new_step_api=True` to use new step API. This will be the default behaviour in future.\u001b[0m\n",
            "  \"Initializing wrapper in old step API which returns one bool instead of two. It is recommended to set `new_step_api=True` to use new step API. This will be the default behaviour in future.\"\n",
            "/usr/local/lib/python3.7/dist-packages/gym/wrappers/step_api_compatibility.py:40: DeprecationWarning: \u001b[33mWARN: Initializing environment in old step API which returns one bool instead of two. It is recommended to set `new_step_api=True` to use new step API. This will be the default behaviour in future.\u001b[0m\n",
            "  \"Initializing environment in old step API which returns one bool instead of two. It is recommended to set `new_step_api=True` to use new step API. This will be the default behaviour in future.\"\n",
            "/usr/local/lib/python3.7/dist-packages/gym/core.py:44: DeprecationWarning: \u001b[33mWARN: The argument mode in render method is deprecated; use render_mode during environment initialization instead.\n",
            "See here for more information: https://www.gymlibrary.ml/content/api/\u001b[0m\n",
            "  \"The argument mode in render method is deprecated; \"\n"
          ]
        },
        {
          "output_type": "stream",
          "name": "stdout",
          "text": [
            "Action Space--> Box(-1.0, 1.0, (1,), float32)\n",
            "Observation Space--> Box([-1.2  -0.07], [0.6  0.07], (2,), float32)\n",
            "reward range--> (-inf, inf)\n",
            "Meta data -->  {'render_modes': ['human', 'rgb_array', 'single_rgb_array'], 'render_fps': 30}\n",
            "Specifications --> EnvSpec(id='MountainCarContinuous-v0', entry_point='gym.envs.classic_control.continuous_mountain_car:Continuous_MountainCarEnv', reward_threshold=90.0, nondeterministic=False, max_episode_steps=999, order_enforce=True, autoreset=False, disable_env_checker=False, new_step_api=False, kwargs={}, namespace=None, name='MountainCarContinuous', version=0)\n"
          ]
        },
        {
          "output_type": "display_data",
          "data": {
            "text/plain": [
              "<Figure size 432x288 with 1 Axes>"
            ],
            "image/png": "[encoded data removed]"
          },
          "metadata": {
            "needs_background": "light"
          }
        }
      ]
    },
    {
      "cell_type": "markdown",
      "source": [
        "# Replay Buffer"
      ],
      "metadata": {
        "id": "Q5Q9KTnVSeu-"
      }
    },
    {
      "cell_type": "code",
      "source": [
        "\n",
        "#Experience Replay Buffer\n",
        "# replay buffer from and some code based on https://github.com/sfujim/TD3\n",
        "\n",
        "# create replay buffer of tuples of (state, next_state, action, reward, done)\n",
        "class ReplayBuffer():\n",
        "    def __init__(self, max_size=1e6):\n",
        "        self.storage = []\n",
        "        self.max_size = max_size\n",
        "        self.ptr = 0\n",
        "\n",
        "    def add(self, data):\n",
        "        if len(self.storage) == self.max_size:\n",
        "            self.storage[int(self.ptr)] = data\n",
        "            self.ptr = (self.ptr + 1) % self.max_size\n",
        "        else:\n",
        "            self.storage.append(data)\n",
        "\n",
        "    def sample(self, batch_size):\n",
        "        ind = np.random.randint(0, len(self.storage), size=batch_size)\n",
        "        x, y, u, r, d = [], [], [], [], []\n",
        "\n",
        "        for i in ind: \n",
        "            X, Y, U, R, D = self.storage[i]\n",
        "            x.append(np.array(X, copy=False))\n",
        "            y.append(np.array(Y, copy=False))\n",
        "            u.append(np.array(U, copy=False))\n",
        "            r.append(np.array(R, copy=False))\n",
        "            d.append(np.array(D, copy=False))\n",
        "\n",
        "        return np.array(x), np.array(y), np.array(u), np.array(r).reshape(-1,1), np.array(d).reshape(-1,1)"
      ],
      "metadata": {
        "id": "5_mBsxnvLmJA"
      },
      "execution_count": null,
      "outputs": []
    },
    {
      "cell_type": "markdown",
      "source": [
        "# Ornstein Ulhenbeck (OU) noise"
      ],
      "metadata": {
        "id": "3_ZAwaPHS_HT"
      }
    },
    {
      "cell_type": "code",
      "source": [
        "class OUNoise:\n",
        "    \"\"\"Ornstein-Uhlenbeck process.\"\"\"\n",
        "\n",
        "    def __init__(self, size, mu=0., theta=0.15, sigma=0.2):\n",
        "        \"\"\"Initialize parameters and noise process.\"\"\"\n",
        "        self.mu = mu * np.ones(size)\n",
        "        self.theta = theta\n",
        "        self.sigma = sigma\n",
        "        self.reset()\n",
        "\n",
        "    def reset(self):\n",
        "        \"\"\"Reset the internal state (= noise) to mean (mu).\"\"\"\n",
        "        self.state = copy.copy(self.mu)\n",
        "\n",
        "    def sample(self):\n",
        "        \"\"\"Update internal state and return it as a noise sample.\"\"\"\n",
        "        x = self.state\n",
        "        dx = self.theta * (self.mu - x) + self.sigma * np.array([np.random.randn() for i in range(len(x))])\n",
        "        self.state = x + dx\n",
        "        return self.state"
      ],
      "metadata": {
        "id": "Rq2ZDKaPpwhz"
      },
      "execution_count": null,
      "outputs": []
    },
    {
      "cell_type": "markdown",
      "source": [
        "# Actor Critic Networks"
      ],
      "metadata": {
        "id": "zORBv4BdTQsN"
      }
    },
    {
      "cell_type": "code",
      "source": [
        "class ActorNet(nn.Module):\n",
        "    def __init__(self, state_size, action_size, hidden_size, action_max):\n",
        "        super(ActorNet, self).__init__()\n",
        "        self.dense_layer_1 = nn.Linear(state_size, hidden_size)\n",
        "        self.dense_layer_2 = nn.Linear(hidden_size, hidden_size)\n",
        "        self.output = nn.Linear(hidden_size, action_size)\n",
        "        self.action_max = action_max\n",
        "    \n",
        "    def forward(self, x):\n",
        "        x = torch.clamp(x,-1.1,1.1)\n",
        "        x = F.relu(self.dense_layer_1(x))\n",
        "        x = F.relu(self.dense_layer_2(x))\n",
        "        return torch.tanh(self.output(x)) * self.action_max\n",
        "    \n",
        "class CriticNet(nn.Module):\n",
        "    def __init__(self, state_size, action_size, hidden_size):\n",
        "        super(CriticNet, self).__init__()\n",
        "        self.dense_layer_1 = nn.Linear(state_size+action_size, hidden_size)\n",
        "        self.dense_layer_2 = nn.Linear(hidden_size, hidden_size)\n",
        "        self.output = nn.Linear(hidden_size, 1)\n",
        "    \n",
        "    def forward(self, x, a):\n",
        "        x = torch.clamp(x,-1.1,1.1)\n",
        "        x = F.relu(self.dense_layer_1(torch.cat((x,a),dim=1)))\n",
        "        x = F.relu(self.dense_layer_2(x))\n",
        "        return self.output(x)"
      ],
      "metadata": {
        "id": "3YloH-gwMQah"
      },
      "execution_count": null,
      "outputs": []
    },
    {
      "cell_type": "markdown",
      "source": [
        "# Agent"
      ],
      "metadata": {
        "id": "9K7ELeN9TKa8"
      }
    },
    {
      "cell_type": "code",
      "source": [
        "class DDPGAgent():\n",
        "    def __init__(self, state_size, action_size, hidden_size, actor_lr, critic_lr, discount,\n",
        "                 min_action, max_action, exploration_noise):\n",
        "        self.action_size = action_size\n",
        "        self.actor = ActorNet(state_size, action_size, hidden_size, max_action).to(device)\n",
        "        self.actor_target = ActorNet(state_size, action_size, hidden_size, max_action).to(device)\n",
        "        self.critic = CriticNet(state_size, action_size, hidden_size).to(device)\n",
        "        self.critic_target = CriticNet(state_size, action_size, hidden_size).to(device)\n",
        "        self.actor_target.load_state_dict(self.actor.state_dict())\n",
        "        self.critic_target.load_state_dict(self.critic.state_dict())\n",
        "        \n",
        "        self.actor_optimizer = optim.Adam(self.actor.parameters(), lr=actor_lr)\n",
        "        self.critic_optimizer = optim.Adam(self.critic.parameters(), lr=critic_lr)\n",
        "        self.discount = discount\n",
        "        self.min_action = min_action\n",
        "        self.max_action = max_action\n",
        "        self.exploration_noise = exploration_noise\n",
        "        \n",
        "    def select_action(self, state):\n",
        "        #get action probs then randomly sample from the probabilities\n",
        "        with torch.no_grad():\n",
        "            input_state = torch.FloatTensor(state).to(device)\n",
        "            action = self.actor(input_state)\n",
        "            #detach and turn to numpy to use with np.random.choice()\n",
        "            action = action.detach().cpu().numpy()\n",
        "            #in DDPG add noise for exploration\n",
        "            #action = (action + np.random.normal(0., self.exploration_noise, size=self.action_size)).clip(self.min_action, self.max_action)   \n",
        "            self.ou_noise = OUNoise(action_size)\n",
        "            action += self.ou_noise.sample()\n",
        "            action.clip(self.min_action, self.max_action)  \n",
        "        return action\n",
        "\n",
        "    \n",
        "    def train(self, replay_buffer, batch_size):\n",
        "        # sample a batch from the replay buffer\n",
        "        x0, x1, a, r, d = replay_buffer.sample(batch_size)\n",
        "        # turn batches into tensors and use GPU if available\n",
        "        state_batch = torch.FloatTensor(x0).to(device)\n",
        "        next_state_batch = torch.FloatTensor(x1).to(device)\n",
        "        action_batch = torch.FloatTensor(a).to(device)\n",
        "        reward_batch = torch.FloatTensor(r).to(device)\n",
        "        flipped_done_batch = torch.FloatTensor(d).to(device) #already flipped done when adding to replay buffer\n",
        "\n",
        "        # get target net target values\n",
        "        with torch.no_grad():\n",
        "            target_action = self.actor_target(next_state_batch).view(batch_size,-1)\n",
        "            target_v = reward_batch + flipped_done_batch*self.discount*self.critic_target(next_state_batch, \n",
        "                                                                           target_action).view(batch_size,-1)\n",
        "        # get train net values for updating the critic network    \n",
        "        critic_v = self.critic(state_batch, action_batch).view(batch_size,-1)\n",
        "        \n",
        "        # train critic\n",
        "        critic_loss = F.smooth_l1_loss(critic_v, target_v)\n",
        "        self.critic_optimizer.zero_grad()\n",
        "        critic_loss.backward()\n",
        "        self.critic_optimizer.step() \n",
        "        \n",
        "        # train actor\n",
        "        train_action = self.actor(state_batch)\n",
        "        actor_loss = -torch.mean(self.critic(state_batch,train_action))\n",
        "        self.actor_optimizer.zero_grad()\n",
        "        actor_loss.backward()\n",
        "        self.actor_optimizer.step() \n",
        "        \n",
        "        return actor_loss.detach().cpu().numpy(), critic_loss.detach().cpu().numpy()\n",
        "        \n",
        "        \n",
        "    def update_target_network_soft(self, num_iter, update_every, update_tau=0.001):\n",
        "        # soft target network update: update target networks with mixture of train and target\n",
        "        if num_iter % update_every == 0:\n",
        "            for target_var, var in zip(self.critic_target.parameters(), self.critic.parameters()):\n",
        "                target_var.data.copy_((1.-update_tau) * target_var.data + (update_tau) * var.data)\n",
        "            for target_var, var in zip(self.actor_target.parameters(), self.actor.parameters()):\n",
        "                target_var.data.copy_((1.-update_tau) * target_var.data + (update_tau) * var.data)\n"
      ],
      "metadata": {
        "id": "1svDPVdcLmLf"
      },
      "execution_count": null,
      "outputs": []
    },
    {
      "cell_type": "markdown",
      "source": [
        "# Hyperparameter"
      ],
      "metadata": {
        "id": "iRDGURSeNEt9"
      }
    },
    {
      "cell_type": "code",
      "source": [
        "# set seed\n",
        "seed = 30\n",
        "env.reset(seed=seed)# new \n",
        "np.random.seed(seed)\n",
        "torch.manual_seed(seed)\n",
        "if torch.cuda.is_available():\n",
        "    torch.cuda.manual_seed(seed)\n",
        "    torch.cuda.manual_seed_all(seed)\n",
        "    \n",
        "# create replay buffer\n",
        "replay_size = 50000 # size of replay buffer\n",
        "replay_buffer = ReplayBuffer(max_size=replay_size)    \n",
        "\n",
        "# target update hyperparameters\n",
        "start_training_after = 10001 # start training NN after this many timesteps\n",
        "update_target_every = 5 # update target network every this steps\n",
        "tau = 0.001\n",
        "\n",
        "episodes = 1000    \n",
        "discount = 0.99\n",
        "batch_size = 32\n",
        "exploration_noise = 0.1 #NOISE\n",
        "hidden_size = 64\n",
        "actor_lr = 0.0005\n",
        "critic_lr = 0.0005\n",
        "reward_scale = 0.01"
      ],
      "metadata": {
        "id": "fBWf0XVlLmN3"
      },
      "execution_count": null,
      "outputs": []
    },
    {
      "cell_type": "code",
      "source": [
        "env = gym.make('MountainCarContinuous-v0') #('LunarLanderContinuous-v2')\n",
        "action_size = env.action_space.shape[0]\n",
        "state_size = env.observation_space.shape[0]\n",
        "min_action = env.action_space.low[0]\n",
        "max_action = env.action_space.high[0]"
      ],
      "metadata": {
        "id": "8gstbK2gLmRO"
      },
      "execution_count": null,
      "outputs": []
    },
    {
      "cell_type": "code",
      "source": [
        "agent = DDPGAgent(state_size=state_size, action_size=action_size, hidden_size=hidden_size, \n",
        "                  actor_lr=actor_lr, critic_lr=critic_lr, discount=discount, min_action=min_action,\n",
        "                  max_action=max_action, exploration_noise=exploration_noise)"
      ],
      "metadata": {
        "id": "DDJcq8xXNU8L"
      },
      "execution_count": null,
      "outputs": []
    },
    {
      "cell_type": "markdown",
      "source": [
        "# Training & Outputs"
      ],
      "metadata": {
        "id": "aRRufUtWTYGq"
      }
    },
    {
      "cell_type": "code",
      "source": [
        "stats_rewards_list = [] # store stats for plotting in this\n",
        "stats_every = 10 # print stats every this many episodes\n",
        "total_reward = 0\n",
        "timesteps = 0\n",
        "episode_length = 0\n",
        "stats_actor_loss, stats_critic_loss = [], []\n",
        "\n",
        "for ep in range(episodes):\n",
        "    state = env.reset()\n",
        "\n",
        "    # stopping condition for training if agent reaches the amount of reward\n",
        "    if len(stats_rewards_list) > stats_every and np.mean(stats_rewards_list[-stats_every:],axis=0)[1] > 190:\n",
        "        print(\"Stopping at episode {} with average rewards of {} in last {} episodes\".\n",
        "            format(ep, np.mean(stats_rewards_list[-stats_every:],axis=0)[1], stats_every))\n",
        "        break  \n",
        "\n",
        "    # train in each episode until episode is done\n",
        "    while True:\n",
        "        timesteps += 1\n",
        "        #env.render()\n",
        "        # select an action from the agent's policy\n",
        "        action = agent.select_action(state)\n",
        "        \n",
        "        # enter action into the env\n",
        "        next_state, reward, done, _ = env.step(action)\n",
        "        total_reward += reward\n",
        "        episode_length += 1\n",
        "        # end episode early\n",
        "        if total_reward < -250:\n",
        "            done = 1\n",
        "        \n",
        "        # add experience to replay buffer\n",
        "        replay_buffer.add((state, next_state, action, reward*reward_scale, 1-float(done)))\n",
        "        \n",
        "        # train the agent\n",
        "        if timesteps >= start_training_after:\n",
        "            actor_loss, critic_loss = agent.train(replay_buffer, batch_size)\n",
        "            stats_actor_loss.append(actor_loss) \n",
        "            stats_critic_loss.append(critic_loss) \n",
        "            agent.update_target_network_soft(timesteps, update_target_every)\n",
        "            \n",
        "        if done:\n",
        "            stats_rewards_list.append((ep, total_reward, episode_length))\n",
        "            total_reward = 0\n",
        "            episode_length = 0  \n",
        "            if timesteps >= start_training_after and ep % stats_every == 0:\n",
        "                print('Episode: {}'.format(ep),\n",
        "                    'Timestep: {}'.format(timesteps),\n",
        "                    'Total reward: {:.1f}'.format(np.mean(stats_rewards_list[-stats_every:],axis=0)[1]),\n",
        "                    'Episode length: {:.1f}'.format(np.mean(stats_rewards_list[-stats_every:],axis=0)[2]),\n",
        "                    'Actor Loss: {:.4f}'.format(np.mean(stats_actor_loss)), \n",
        "                    'Critic Loss: {:.4f}'.format(np.mean(stats_critic_loss)))\n",
        "                stats_actor_loss, stats_critic_loss = [], []\n",
        "            break\n",
        "        \n",
        "        state = next_state"
      ],
      "metadata": {
        "colab": {
          "base_uri": "https://localhost:8080/"
        },
        "id": "YWoiwEPqNeQ3",
        "outputId": "d924832b-5eec-44d8-989d-c65004880790"
      },
      "execution_count": null,
      "outputs": [
        {
          "output_type": "stream",
          "name": "stdout",
          "text": [
            "Episode: 10 Timestep: 10989 Total reward: -4.3 Episode length: 999.0 Actor Loss: 0.0531 Critic Loss: 0.0000\n",
            "Episode: 20 Timestep: 20979 Total reward: -10.7 Episode length: 999.0 Actor Loss: 0.0546 Critic Loss: 0.0000\n",
            "Episode: 30 Timestep: 30969 Total reward: -38.0 Episode length: 999.0 Actor Loss: 0.0496 Critic Loss: 0.0000\n",
            "Episode: 40 Timestep: 40959 Total reward: -33.0 Episode length: 999.0 Actor Loss: 0.0431 Critic Loss: 0.0000\n",
            "Episode: 50 Timestep: 50949 Total reward: -24.5 Episode length: 999.0 Actor Loss: 0.0368 Critic Loss: 0.0000\n",
            "Episode: 60 Timestep: 60939 Total reward: -13.7 Episode length: 999.0 Actor Loss: 0.0331 Critic Loss: 0.0000\n",
            "Episode: 70 Timestep: 70929 Total reward: -21.5 Episode length: 999.0 Actor Loss: 0.0324 Critic Loss: 0.0000\n",
            "Episode: 80 Timestep: 80919 Total reward: -16.9 Episode length: 999.0 Actor Loss: 0.0325 Critic Loss: 0.0000\n",
            "Episode: 90 Timestep: 90302 Total reward: 14.4 Episode length: 938.3 Actor Loss: 0.0333 Critic Loss: 0.0000\n",
            "Episode: 100 Timestep: 100292 Total reward: -19.3 Episode length: 999.0 Actor Loss: 0.0352 Critic Loss: 0.0000\n",
            "Episode: 110 Timestep: 110282 Total reward: -27.1 Episode length: 999.0 Actor Loss: 0.0364 Critic Loss: 0.0000\n",
            "Episode: 120 Timestep: 120272 Total reward: -13.4 Episode length: 999.0 Actor Loss: 0.0367 Critic Loss: 0.0000\n",
            "Episode: 130 Timestep: 130262 Total reward: -4.0 Episode length: 999.0 Actor Loss: 0.0357 Critic Loss: 0.0000\n",
            "Episode: 140 Timestep: 140252 Total reward: -23.3 Episode length: 999.0 Actor Loss: 0.0352 Critic Loss: 0.0000\n",
            "Episode: 150 Timestep: 149993 Total reward: -19.4 Episode length: 974.1 Actor Loss: 0.0353 Critic Loss: 0.0000\n",
            "Episode: 160 Timestep: 159983 Total reward: -4.5 Episode length: 999.0 Actor Loss: 0.0342 Critic Loss: 0.0000\n",
            "Episode: 170 Timestep: 169967 Total reward: 3.9 Episode length: 998.4 Actor Loss: 0.0334 Critic Loss: 0.0000\n",
            "Episode: 180 Timestep: 179448 Total reward: 13.5 Episode length: 948.1 Actor Loss: 0.0318 Critic Loss: 0.0000\n",
            "Episode: 190 Timestep: 187913 Total reward: 43.6 Episode length: 846.5 Actor Loss: 0.0300 Critic Loss: 0.0000\n",
            "Episode: 200 Timestep: 196168 Total reward: 61.8 Episode length: 825.5 Actor Loss: 0.0273 Critic Loss: 0.0000\n",
            "Episode: 210 Timestep: 203380 Total reward: 61.1 Episode length: 721.2 Actor Loss: 0.0246 Critic Loss: 0.0000\n",
            "Episode: 220 Timestep: 212359 Total reward: 32.9 Episode length: 897.9 Actor Loss: 0.0212 Critic Loss: 0.0000\n",
            "Episode: 230 Timestep: 221216 Total reward: 50.3 Episode length: 885.7 Actor Loss: 0.0173 Critic Loss: 0.0000\n",
            "Episode: 240 Timestep: 227675 Total reward: 58.9 Episode length: 645.9 Actor Loss: 0.0147 Critic Loss: 0.0000\n",
            "Episode: 250 Timestep: 231769 Total reward: 89.1 Episode length: 409.4 Actor Loss: 0.0115 Critic Loss: 0.0000\n",
            "Episode: 260 Timestep: 234745 Total reward: 88.7 Episode length: 297.6 Actor Loss: 0.0062 Critic Loss: 0.0000\n",
            "Episode: 270 Timestep: 237427 Total reward: 89.3 Episode length: 268.2 Actor Loss: 0.0031 Critic Loss: 0.0000\n",
            "Episode: 280 Timestep: 240481 Total reward: 88.5 Episode length: 305.4 Actor Loss: -0.0003 Critic Loss: 0.0000\n",
            "Episode: 290 Timestep: 243338 Total reward: 89.1 Episode length: 285.7 Actor Loss: -0.0050 Critic Loss: 0.0000\n",
            "Episode: 300 Timestep: 246297 Total reward: 87.9 Episode length: 295.9 Actor Loss: -0.0069 Critic Loss: 0.0000\n",
            "Episode: 310 Timestep: 248905 Total reward: 90.1 Episode length: 260.8 Actor Loss: -0.0121 Critic Loss: 0.0000\n",
            "Episode: 320 Timestep: 255117 Total reward: 64.4 Episode length: 621.2 Actor Loss: -0.0153 Critic Loss: 0.0000\n",
            "Episode: 330 Timestep: 261125 Total reward: 45.3 Episode length: 600.8 Actor Loss: -0.0182 Critic Loss: 0.0000\n",
            "Episode: 340 Timestep: 266941 Total reward: 54.5 Episode length: 581.6 Actor Loss: -0.0206 Critic Loss: 0.0000\n",
            "Episode: 350 Timestep: 272079 Total reward: 63.8 Episode length: 513.8 Actor Loss: -0.0239 Critic Loss: 0.0000\n",
            "Episode: 360 Timestep: 276035 Total reward: 86.2 Episode length: 395.6 Actor Loss: -0.0284 Critic Loss: 0.0000\n",
            "Episode: 370 Timestep: 281236 Total reward: 69.8 Episode length: 520.1 Actor Loss: -0.0331 Critic Loss: 0.0000\n",
            "Episode: 380 Timestep: 287936 Total reward: 82.5 Episode length: 670.0 Actor Loss: -0.0283 Critic Loss: 0.0000\n",
            "Episode: 390 Timestep: 293433 Total reward: 92.6 Episode length: 549.7 Actor Loss: -0.0232 Critic Loss: 0.0000\n",
            "Episode: 400 Timestep: 297717 Total reward: 91.5 Episode length: 428.4 Actor Loss: -0.0218 Critic Loss: 0.0000\n",
            "Episode: 410 Timestep: 301678 Total reward: 91.5 Episode length: 396.1 Actor Loss: -0.0223 Critic Loss: 0.0000\n",
            "Episode: 420 Timestep: 306244 Total reward: 91.8 Episode length: 456.6 Actor Loss: -0.0245 Critic Loss: 0.0000\n",
            "Episode: 430 Timestep: 309885 Total reward: 90.8 Episode length: 364.1 Actor Loss: -0.0313 Critic Loss: 0.0000\n",
            "Episode: 440 Timestep: 312610 Total reward: 92.0 Episode length: 272.5 Actor Loss: -0.0386 Critic Loss: 0.0000\n",
            "Episode: 450 Timestep: 315084 Total reward: 92.9 Episode length: 247.4 Actor Loss: -0.0424 Critic Loss: 0.0000\n",
            "Episode: 460 Timestep: 317416 Total reward: 93.2 Episode length: 233.2 Actor Loss: -0.0474 Critic Loss: 0.0000\n",
            "Episode: 470 Timestep: 319409 Total reward: 92.0 Episode length: 199.3 Actor Loss: -0.0541 Critic Loss: 0.0000\n",
            "Episode: 480 Timestep: 322442 Total reward: 91.0 Episode length: 303.3 Actor Loss: -0.0580 Critic Loss: 0.0000\n",
            "Episode: 490 Timestep: 325143 Total reward: 89.4 Episode length: 270.1 Actor Loss: -0.0621 Critic Loss: 0.0000\n",
            "Episode: 500 Timestep: 328202 Total reward: 89.5 Episode length: 305.9 Actor Loss: -0.0647 Critic Loss: 0.0000\n",
            "Episode: 510 Timestep: 331252 Total reward: 89.0 Episode length: 305.0 Actor Loss: -0.0717 Critic Loss: 0.0000\n",
            "Episode: 520 Timestep: 333258 Total reward: 86.6 Episode length: 200.6 Actor Loss: -0.0769 Critic Loss: 0.0000\n",
            "Episode: 530 Timestep: 335108 Total reward: 88.8 Episode length: 185.0 Actor Loss: -0.0828 Critic Loss: 0.0000\n",
            "Episode: 540 Timestep: 337182 Total reward: 91.8 Episode length: 207.4 Actor Loss: -0.0915 Critic Loss: 0.0000\n",
            "Episode: 550 Timestep: 339877 Total reward: 90.0 Episode length: 269.5 Actor Loss: -0.0965 Critic Loss: 0.0001\n",
            "Episode: 560 Timestep: 341848 Total reward: 91.7 Episode length: 197.1 Actor Loss: -0.1042 Critic Loss: 0.0001\n",
            "Episode: 570 Timestep: 345280 Total reward: 89.7 Episode length: 343.2 Actor Loss: -0.1076 Critic Loss: 0.0001\n",
            "Episode: 580 Timestep: 349063 Total reward: 81.1 Episode length: 378.3 Actor Loss: -0.1106 Critic Loss: 0.0001\n",
            "Episode: 590 Timestep: 352645 Total reward: 90.9 Episode length: 358.2 Actor Loss: -0.1136 Critic Loss: 0.0001\n",
            "Episode: 600 Timestep: 354517 Total reward: 91.9 Episode length: 187.2 Actor Loss: -0.1156 Critic Loss: 0.0001\n",
            "Episode: 610 Timestep: 357267 Total reward: 90.8 Episode length: 275.0 Actor Loss: -0.1238 Critic Loss: 0.0001\n",
            "Episode: 620 Timestep: 360866 Total reward: 90.6 Episode length: 359.9 Actor Loss: -0.1257 Critic Loss: 0.0001\n",
            "Episode: 630 Timestep: 363747 Total reward: 91.2 Episode length: 288.1 Actor Loss: -0.1263 Critic Loss: 0.0001\n",
            "Episode: 640 Timestep: 366589 Total reward: 91.0 Episode length: 284.2 Actor Loss: -0.1260 Critic Loss: 0.0001\n",
            "Episode: 650 Timestep: 368672 Total reward: 92.2 Episode length: 208.3 Actor Loss: -0.1253 Critic Loss: 0.0001\n",
            "Episode: 660 Timestep: 370475 Total reward: 92.5 Episode length: 180.3 Actor Loss: -0.1271 Critic Loss: 0.0001\n",
            "Episode: 670 Timestep: 372051 Total reward: 92.3 Episode length: 157.6 Actor Loss: -0.1321 Critic Loss: 0.0001\n",
            "Episode: 680 Timestep: 373708 Total reward: 92.1 Episode length: 165.7 Actor Loss: -0.1374 Critic Loss: 0.0001\n",
            "Episode: 690 Timestep: 376376 Total reward: 83.0 Episode length: 266.8 Actor Loss: -0.1366 Critic Loss: 0.0001\n",
            "Episode: 700 Timestep: 377704 Total reward: 92.7 Episode length: 132.8 Actor Loss: -0.1379 Critic Loss: 0.0001\n",
            "Episode: 710 Timestep: 381600 Total reward: 60.5 Episode length: 389.6 Actor Loss: -0.1433 Critic Loss: 0.0001\n",
            "Episode: 720 Timestep: 382774 Total reward: 91.1 Episode length: 117.4 Actor Loss: -0.1447 Critic Loss: 0.0001\n",
            "Episode: 730 Timestep: 383918 Total reward: 91.5 Episode length: 114.4 Actor Loss: -0.1492 Critic Loss: 0.0001\n",
            "Episode: 740 Timestep: 384778 Total reward: 93.1 Episode length: 86.0 Actor Loss: -0.1528 Critic Loss: 0.0001\n",
            "Episode: 750 Timestep: 385591 Total reward: 93.1 Episode length: 81.3 Actor Loss: -0.1610 Critic Loss: 0.0001\n",
            "Episode: 760 Timestep: 386362 Total reward: 93.1 Episode length: 77.1 Actor Loss: -0.1617 Critic Loss: 0.0001\n",
            "Episode: 770 Timestep: 387300 Total reward: 91.7 Episode length: 93.8 Actor Loss: -0.1680 Critic Loss: 0.0001\n",
            "Episode: 780 Timestep: 388105 Total reward: 93.0 Episode length: 80.5 Actor Loss: -0.1703 Critic Loss: 0.0001\n",
            "Episode: 790 Timestep: 388883 Total reward: 93.0 Episode length: 77.8 Actor Loss: -0.1767 Critic Loss: 0.0001\n",
            "Episode: 800 Timestep: 389840 Total reward: 91.7 Episode length: 95.7 Actor Loss: -0.1857 Critic Loss: 0.0001\n",
            "Episode: 810 Timestep: 390605 Total reward: 93.5 Episode length: 76.5 Actor Loss: -0.1940 Critic Loss: 0.0001\n",
            "Episode: 820 Timestep: 391549 Total reward: 91.9 Episode length: 94.4 Actor Loss: -0.1949 Critic Loss: 0.0001\n",
            "Episode: 830 Timestep: 392412 Total reward: 92.2 Episode length: 86.3 Actor Loss: -0.2001 Critic Loss: 0.0001\n",
            "Episode: 840 Timestep: 393221 Total reward: 92.9 Episode length: 80.9 Actor Loss: -0.2044 Critic Loss: 0.0001\n",
            "Episode: 850 Timestep: 394013 Total reward: 92.7 Episode length: 79.2 Actor Loss: -0.2112 Critic Loss: 0.0001\n",
            "Episode: 860 Timestep: 394907 Total reward: 92.0 Episode length: 89.4 Actor Loss: -0.2195 Critic Loss: 0.0001\n",
            "Episode: 870 Timestep: 395710 Total reward: 92.9 Episode length: 80.3 Actor Loss: -0.2238 Critic Loss: 0.0001\n",
            "Episode: 880 Timestep: 396684 Total reward: 91.5 Episode length: 97.4 Actor Loss: -0.2367 Critic Loss: 0.0001\n",
            "Episode: 890 Timestep: 397693 Total reward: 91.3 Episode length: 100.9 Actor Loss: -0.2405 Critic Loss: 0.0001\n",
            "Episode: 900 Timestep: 398626 Total reward: 92.6 Episode length: 93.3 Actor Loss: -0.2488 Critic Loss: 0.0001\n",
            "Episode: 910 Timestep: 399559 Total reward: 93.6 Episode length: 93.3 Actor Loss: -0.2596 Critic Loss: 0.0001\n",
            "Episode: 920 Timestep: 400525 Total reward: 91.9 Episode length: 96.6 Actor Loss: -0.2677 Critic Loss: 0.0001\n",
            "Episode: 930 Timestep: 401466 Total reward: 92.9 Episode length: 94.1 Actor Loss: -0.2730 Critic Loss: 0.0001\n",
            "Episode: 940 Timestep: 402423 Total reward: 92.6 Episode length: 95.7 Actor Loss: -0.2796 Critic Loss: 0.0001\n",
            "Episode: 950 Timestep: 403406 Total reward: 92.9 Episode length: 98.3 Actor Loss: -0.2849 Critic Loss: 0.0001\n",
            "Episode: 960 Timestep: 404373 Total reward: 92.5 Episode length: 96.7 Actor Loss: -0.2924 Critic Loss: 0.0001\n",
            "Episode: 970 Timestep: 405251 Total reward: 93.7 Episode length: 87.8 Actor Loss: -0.3008 Critic Loss: 0.0001\n",
            "Episode: 980 Timestep: 406173 Total reward: 92.9 Episode length: 92.2 Actor Loss: -0.3031 Critic Loss: 0.0001\n",
            "Episode: 990 Timestep: 407026 Total reward: 93.7 Episode length: 85.3 Actor Loss: -0.3114 Critic Loss: 0.0001\n"
          ]
        }
      ]
    },
    {
      "cell_type": "code",
      "source": [
        "# plot stats\n",
        "def get_running_stat(stat, stat_len):\n",
        "    cum_sum = np.cumsum(np.insert(stat, 0, 0)) \n",
        "    return (cum_sum[stat_len:] - cum_sum[:-stat_len]) / stat_len\n",
        "\n",
        "episode, r, l = np.array(stats_rewards_list).T\n",
        "cum_r = get_running_stat(r, 10)\n",
        "cum_l = get_running_stat(l, 10)\n",
        "\n",
        "# plot rewards\n",
        "plt.plot(episode[-len(cum_r):], cum_r)\n",
        "plt.plot(episode, r, alpha=0.5)\n",
        "plt.xlabel('Episode')\n",
        "plt.ylabel('Episode Reward')"
      ],
      "metadata": {
        "colab": {
          "base_uri": "https://localhost:8080/",
          "height": 297
        },
        "id": "DiLU41N0NlBt",
        "outputId": "7cd99f41-80e2-437a-eda3-0e4f3d35b59d"
      },
      "execution_count": null,
      "outputs": [
        {
          "output_type": "execute_result",
          "data": {
            "text/plain": [
              "Text(0, 0.5, 'Episode Reward')"
            ]
          },
          "metadata": {},
          "execution_count": 25
        },
        {
          "output_type": "display_data",
          "data": {
            "text/plain": [
              "<Figure size 432x288 with 1 Axes>"
            ],
            "image/png": "[encoded data removed]"
          },
          "metadata": {
            "needs_background": "light"
          }
        }
      ]
    }
  ]
}