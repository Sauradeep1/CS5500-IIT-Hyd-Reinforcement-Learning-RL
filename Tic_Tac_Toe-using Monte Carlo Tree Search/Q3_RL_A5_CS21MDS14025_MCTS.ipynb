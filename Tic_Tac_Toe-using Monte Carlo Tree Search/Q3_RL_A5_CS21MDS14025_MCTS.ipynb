{
  "nbformat": 4,
  "nbformat_minor": 0,
  "metadata": {
    "colab": {
      "provenance": []
    },
    "kernelspec": {
      "name": "python3",
      "display_name": "Python 3"
    },
    "language_info": {
      "name": "python"
    }
  },
  "cells": [
    {
      "cell_type": "code",
      "source": [
        "import random\n",
        "import itertools\n",
        "import numpy as np\n",
        "import math"
      ],
      "metadata": {
        "id": "ygfRf6x9q_iP"
      },
      "execution_count": 1,
      "outputs": []
    },
    {
      "cell_type": "markdown",
      "source": [
        "# Helper Functions & Classes"
      ],
      "metadata": {
        "id": "vjHuXAGGpEiZ"
      }
    },
    {
      "cell_type": "markdown",
      "source": [
        "# Matrix Transforms - Flip updown , left right ; Rotate 90 degrees; Reverse Transforms -- Helps us in finding \"Equivalent\" Board configurations"
      ],
      "metadata": {
        "id": "ULlbXdTEiXH-"
      }
    },
    {
      "cell_type": "code",
      "source": [
        "\n",
        "class MatrixTransform:\n",
        "    def __init__(self, *list_of_operations):\n",
        "        self.list_of_operations = list_of_operations\n",
        "\n",
        "    def transform(self, target_matrix):\n",
        "        # applies the list of operations from a given list on the target matrix\n",
        "        for op in self.list_of_operations:\n",
        "            target_matrix = op.transform(target_matrix)\n",
        "        return target_matrix\n",
        "\n",
        "    def reverse_transform(self, target_matrix):\n",
        "        # If a target has been exposed to a list of transforms, this method applies the reverse transforms in the opposite order\n",
        "        for op in list_reverse(self.list_of_operations):\n",
        "            target_matrix = op.reverse_transform(target_matrix)\n",
        "        return target_matrix\n",
        "\n",
        "\n",
        "def list_reverse(items):\n",
        "    return items[::-1]\n",
        "class Identity:\n",
        "    @staticmethod\n",
        "    def transform(two_dim_matrix):\n",
        "        return two_dim_matrix # keep the matrix as it is \n",
        "\n",
        "    @staticmethod\n",
        "    def reverse_transform(two_dim_matrix):\n",
        "        return two_dim_matrix # for Reversing --> keep the matrix as it is as no transform was applied\n",
        "class Flip:\n",
        "    def __init__(self, op):\n",
        "        self.op = op # this öp could be either np.flipud (Flip Up Down) or np.fliplr ( Flip Left Right)\n",
        "\n",
        "    def transform(self, two_dim_matrix):\n",
        "        return self.op(two_dim_matrix)\n",
        "\n",
        "    def reverse_transform(self, transformed_2d_matrix):\n",
        "        # whether it's up/down or left/right reverse, doing it 2X takes the matrix to the original form i.e. nullfies it\n",
        "        return self.transform(transformed_2d_matrix)\n",
        "\n",
        "class Rotate90_degrees:\n",
        "    def __init__(self, num_of_90_degree_rotations):\n",
        "        # num_of_90_degree_rotations--> how many times to rotate by 90 degrees\n",
        "        self.num_of_90_degree_rotations = num_of_90_degree_rotations\n",
        "        self.op = np.rot90\n",
        "\n",
        "    def transform(self, two_dim_matrix):\n",
        "        return self.op(two_dim_matrix, self.num_of_90_degree_rotations) # Apply np.rot90() to the target matrix num_of_90_degree_rotations times \n",
        "\n",
        "    def reverse_transform(self, transformed_2d_matrix):\n",
        "        # get back the original matrix by rotating the matrix by the same amount BUT in the opposite direction\n",
        "        return self.op(transformed_2d_matrix, -self.num_of_90_degree_rotations)\n",
        "\n"
      ],
      "metadata": {
        "id": "WWZHUkT0WbZD"
      },
      "execution_count": 2,
      "outputs": []
    },
    {
      "cell_type": "markdown",
      "source": [],
      "metadata": {
        "id": "fLu2fU5xiUow"
      }
    },
    {
      "cell_type": "markdown",
      "source": [
        "# Setting up the Board environment"
      ],
      "metadata": {
        "id": "bVNByY05ikTA"
      }
    },
    {
      "cell_type": "markdown",
      "source": [
        "# Defining the Class for Tic Tac Toe Board\n",
        "\n",
        "---\n",
        "\n"
      ],
      "metadata": {
        "id": "T0Zz-SGnYRQK"
      }
    },
    {
      "cell_type": "code",
      "source": [
        "\n",
        "class TicTacToeBoard:\n",
        "    def __init__(self, board=None, illegal_move=None):\n",
        "        if board is None:\n",
        "            self.board = np.copy(new_empty_board) # if does not exist, create empty board\n",
        "        else:\n",
        "            self.board = board\n",
        "\n",
        "        self.illegal_move = illegal_move\n",
        "        self.first_move_by = CELL_X # by default, we assume Agent X makes the first move\n",
        "        self.board_2d = self.board.reshape(BOARD_DIMENSIONS) \n",
        "\n",
        "    def get_game_result(self):\n",
        "        \"\"\"Returns if particular game was won by X , or O, or Draw or Stil Going ON\"\"\"\n",
        "        if self.illegal_move is not None:\n",
        "            return COUNT_O_WINS if self.give_turns_to_alternate_players() == CELL_X else COUNT_X_WINS\n",
        "\n",
        "        rows_cols_and_diagonals = get_rows_cols_and_diagonals(self.board_2d)\n",
        "\n",
        "        sums = list(map(sum, rows_cols_and_diagonals))\n",
        "        max_value = max(sums)\n",
        "        min_value = min(sums)\n",
        "\n",
        "        if max_value == BOARD_SIZE: # if there has been n \"X\"\"(s) i.e. 1(s) in a line ( Row/col/diagonal) in an n x n Board\n",
        "            return COUNT_X_WINS\n",
        "\n",
        "        if min_value == -BOARD_SIZE: # if there has been n 0(s) ie.\"Ö\"(S)in a line ( Row/col/diagonal)  in an n x n Board\n",
        "            return COUNT_O_WINS\n",
        "\n",
        "        if CELL_EMPTY not in self.board_2d:\n",
        "            return COUNT_DRAW\n",
        "\n",
        "        return GAME_NOT_OVER\n",
        "\n",
        "    def is_gameover(self):\n",
        "        return self.get_game_result() != GAME_NOT_OVER\n",
        "\n",
        "    def is_in_illegal_state(self):\n",
        "        return self.illegal_move is not None\n",
        "\n",
        "    def play_single_move(self, move_index):\n",
        "        # Execute a particular move, given it is not illegal. Play a Single move & return the resultant board configuration\n",
        "        board_copy = np.copy(self.board)\n",
        "\n",
        "        if move_index not in self.get_valid_move_indexes():\n",
        "            return TicTacToeBoard(board_copy, illegal_move=move_index)\n",
        "\n",
        "        board_copy[move_index] = self.give_turns_to_alternate_players()# check this function to find which players plays next\n",
        "        return TicTacToeBoard(board_copy)\n",
        "\n",
        "    def give_turns_to_alternate_players(self):\n",
        "        # Based who made the first move, decide which player has the next move\n",
        "        non_zero = np.count_nonzero(self.board)\n",
        "        if self.first_move_by == CELL_X : # if even spots are empty, it's the turns for X,; else for O\n",
        "          return CELL_X if is_even(non_zero) else CELL_O\n",
        "        else : \n",
        "          return CELL_O if is_even(non_zero) else CELL_X\n",
        "    def get_illegal_move_indexes(self):\n",
        "        return ([i for i in range(self.board.size)# the cells inside the tic tac toe board that aren't empty\n",
        "                if self.board[i] != CELL_EMPTY]) \n",
        "\n",
        "    def get_random_valid_move_index(self):\n",
        "        return random.choice(self.get_valid_move_indexes())# Randomly choose any of the empty cells inside the board\n",
        "\n",
        "\n",
        "    def get_valid_move_indexes(self):\n",
        "        return ([i for i in range(self.board.size)\n",
        "                 if self.board[i] == CELL_EMPTY]) # any of the empty cells inside the board\n",
        "\n",
        "    def print_board(self):# We can call this to print the current board positions in a human interpretable way\n",
        "        print(self.get_current_board_config_as_string())\n",
        "\n",
        "    def get_current_board_config_as_string(self):# used in print_board function\n",
        "        \"\"\"Returns the current board configuration, new line after every row\"\"\"\n",
        "        rows, cols = self.board_2d.shape\n",
        "        current_board_config_as_string = \"-------\\n\"\n",
        "        for row in range(rows):\n",
        "            for col in range(cols):\n",
        "                move = get_symbol_of_cell(self.board_2d[row, col])\n",
        "                if col == 0: # 0-th column\n",
        "                    current_board_config_as_string += f\"|{move}|\"\n",
        "                elif col == 1: # 1st column ( index starting at 0)\n",
        "                    current_board_config_as_string += f\"{move}|\"\n",
        "                else:\n",
        "                    current_board_config_as_string += f\"{move}|\\n\"\n",
        "        current_board_config_as_string += \"-------\\n\"\n",
        "\n",
        "        return current_board_config_as_string\n",
        "\n"
      ],
      "metadata": {
        "id": "WY0ToUB-YJGj"
      },
      "execution_count": 3,
      "outputs": []
    },
    {
      "cell_type": "markdown",
      "source": [
        "###  Helper functions & Hyperparameters for Tic Tac Toe board"
      ],
      "metadata": {
        "id": "vx94B5Ey8wfs"
      }
    },
    {
      "cell_type": "code",
      "source": [
        "LIST_OF_TRANSFORMATIONS = [Identity(),\n",
        "                   MatrixTransform(Rotate90_degrees(1), Flip(np.flipud)), # rotate 90 degrees followed by Up Down flip\n",
        "                   MatrixTransform(Rotate90_degrees(1), Flip(np.fliplr)),\n",
        "                    Rotate90_degrees(1), Rotate90_degrees(2), Rotate90_degrees(3),\n",
        "                   Flip(np.flipud), Flip(np.fliplr),]\n",
        "\n",
        "BOARD_SIZE = 3 # 3 by 3 tic tac toe board\n",
        "BOARD_DIMENSIONS = (BOARD_SIZE, BOARD_SIZE)\n",
        "\n",
        "CELL_X = 1 # Let's denote/score the cells occupied/marked by Player X as 1\n",
        "CELL_O = -1# Let's denote/score the cells occupied/marked by Player O as -1\n",
        "CELL_EMPTY = 0 # before either player has marked a cell, it is denoted by 0\n",
        "\n",
        "COUNT_X_WINS = 1\n",
        "COUNT_O_WINS = -1\n",
        "COUNT_DRAW = 0\n",
        "GAME_NOT_OVER = 2\n",
        "\n",
        "new_empty_board = np.array([CELL_EMPTY] * BOARD_SIZE ** 2)\n",
        "\n",
        "\n",
        "def play_game_till_end(x_strategy, o_strategy, board = TicTacToeBoard()):\n",
        "    # Play the Game for 1 Round -untill the end of episode\n",
        "    # Earlier board object creation used to be inside\n",
        "    player_strategies = itertools.cycle([x_strategy, o_strategy])\n",
        "    # takes an input & returns an iterator with return type being yield-- ie. local variables are not destroyed\n",
        "\n",
        "    while not board.is_gameover():\n",
        "        play = next(player_strategies)# keep playing till the end of the game\n",
        "        board = play(board)\n",
        "\n",
        "    return board\n",
        "\n",
        "\n",
        "def play_games_n_return_stats(total_num_of_games, x_strategy, o_strategy, play_single_game= play_game_till_end ):\n",
        "    \"\"\" This is the function we will call to test our trained agent against an Opponent Agent.\n",
        "    It  plays game for n episodes /simulations & returns the win /loss percentage\"\"\"\n",
        "    historical_win_records = { COUNT_X_WINS: 0, COUNT_O_WINS: 0, COUNT_DRAW: 0} # INITIALISE all counts to 0 \n",
        "\n",
        "    for _ in range(total_num_of_games):\n",
        "        end_of_game = (play_single_game(x_strategy, o_strategy))\n",
        "        result = end_of_game.get_game_result()\n",
        "        historical_win_records[result] += 1\n",
        "\n",
        "    x_wins_percent = historical_win_records[COUNT_X_WINS] / total_num_of_games * 100\n",
        "    o_wins_percent = historical_win_records[COUNT_O_WINS] / total_num_of_games * 100\n",
        "    draw_percent = historical_win_records[COUNT_DRAW] / total_num_of_games * 100\n",
        "\n",
        "    print(f\"Agent x wins: {x_wins_percent:.2f} % times out of {total_num_of_games} matches played\")\n",
        "    print(f\"Agent o wins: {o_wins_percent:.2f} % times \")\n",
        "    print(f\"draw happens : {draw_percent:.2f} % times \")\n",
        "\n",
        "\n",
        "def play_random_move(board):\n",
        "    move = board.get_random_valid_move_index() # randomly choose any vaid move ie. any of the empty cells inside the board\n",
        "    return board.play_single_move(move)\n",
        "\n",
        "\n",
        "def is_even(value):\n",
        "    return value % 2 == 0\n",
        "\n",
        "\n",
        "def is_empty(values):\n",
        "    return values is None or len(values) == 0"
      ],
      "metadata": {
        "id": "SP3CYHik8hTe"
      },
      "execution_count": 4,
      "outputs": []
    },
    {
      "cell_type": "markdown",
      "source": [
        "# Storing a particular Board config & their outcomes in Cache"
      ],
      "metadata": {
        "id": "9n61oTyWVrkm"
      }
    },
    {
      "cell_type": "code",
      "source": [
        "class BoardConfigCache:\n",
        "    # Maintain a memory/history of what board positions had what final outcome/result. Reuse if already in Cache\n",
        "    def __init__(self):\n",
        "        self.cache = {}\n",
        "\n",
        "    def store_configuration_in_cache(self, board, outcome): # Store configuration & Outcome in Cache\n",
        "        self.cache[board.board_2d.tobytes()] = outcome\n",
        "\n",
        "    def get_results_for_configuration_from_cache(self, board): # Query the Cache for Same/ Equivalent Configurations\n",
        "        board_2d = board.board_2d\n",
        "\n",
        "        orientations = get_symmetrical_board_orientations(board_2d) # equivalent configurations\n",
        "\n",
        "        for b, t in orientations:\n",
        "            result = self.cache.get(b.tobytes())\n",
        "            if result is not None: # if no equivalent board positions stored, then store current result\n",
        "                return (result, t), True\n",
        "\n",
        "        return None, False\n",
        "\n",
        "    def reset(self):\n",
        "        self.cache = {} # clear all cache\n",
        "\n",
        "\n",
        "def get_symmetrical_board_orientations(board_2d):\n",
        "    # helps us get \"ëquivalent\" states obtained via flipping & rotating\n",
        "    return [(transform.transform(board_2d), transform) for transform in LIST_OF_TRANSFORMATIONS]\n",
        "\n",
        "\n",
        "def get_rows_cols_and_diagonals(board_2d):\n",
        "    rows_and_diagonal = get_rows_and_diagonal(board_2d)\n",
        "    cols_and_antidiagonal = get_rows_and_diagonal(np.rot90(board_2d))# get the rows & diagonals after rotation of 90 degrees\n",
        "    return rows_and_diagonal + cols_and_antidiagonal\n",
        "\n",
        "\n",
        "def get_rows_and_diagonal(board_2d):\n",
        "    num_rows = board_2d.shape[0]\n",
        "    return ([row for row in board_2d[range(num_rows), :]]\n",
        "            + [board_2d.diagonal()])\n",
        "\n",
        "\n",
        "def get_symbol_of_cell(current_cell):\n",
        "    \"\"\"Check if a particular cell is marked with X or O or empty\"\"\"\n",
        "    if current_cell == CELL_X:\n",
        "        return 'X'\n",
        "    if current_cell == CELL_O:\n",
        "        return 'O'\n",
        "    return '-'\n",
        "\n",
        "\n",
        "def is_draw(board):\n",
        "    return board.get_game_result() == COUNT_DRAW"
      ],
      "metadata": {
        "id": "cmRdJrXJ8aYT"
      },
      "execution_count": 5,
      "outputs": []
    },
    {
      "cell_type": "markdown",
      "source": [
        "# Monte Carlo Tree Search"
      ],
      "metadata": {
        "id": "39xh96-eMv2j"
      }
    },
    {
      "cell_type": "code",
      "source": [
        "\n",
        "\n",
        "nodecache = BoardConfigCache()\n",
        "\n",
        "\n",
        "class TreeNode:\n",
        "    def __init__(self):\n",
        "        self.parents = BoardConfigCache()\n",
        "        self.visits = 0\n",
        "        self.wins = 0\n",
        "        self.losses = 0\n",
        "        self.draws = 0\n",
        "\n",
        "    def add_parent_node(self, node_cache, parent_board):\n",
        "        result, found = self.parents.get_results_for_configuration_from_cache(parent_board) # Query in cache\n",
        "        if found is False: # not found\n",
        "            parent_node = find_or_create_node(node_cache, parent_board) \n",
        "            self.parents.store_configuration_in_cache(parent_board, parent_node) # store in cache\n",
        "\n",
        "    def get_total_visits_for_parent_nodes(self):\n",
        "        return sum([parent_node.visits for parent_node\n",
        "                    in self.parents.cache.values()])\n",
        "\n",
        "    def value(self):\n",
        "        if self.visits == 0:\n",
        "            return 0\n",
        "\n",
        "        success_percentage = (self.wins + self.draws) / self.visits\n",
        "        return success_percentage # Use win percentage as Value\n",
        "\n",
        "\n",
        "\n",
        "\n",
        "def play_mcts_agent_1move(board, node_cache=nodecache):\n",
        "    move_index_node_pairs = get_move_index_node_pairs(board, node_cache)\n",
        "    move_index_to_play = max(move_index_node_pairs,\n",
        "                             key=lambda pair: pair[1].value())[0]\n",
        "    return board.play_single_move(move_index_to_play)\n",
        "\n",
        "\n",
        "def get_move_index_node_pairs(board, node_cache):\n",
        "    boards = [board.play_single_move(mi) for mi in board.get_valid_move_indexes()]\n",
        "    nodes = [find_or_create_node(node_cache, b) for b in boards]\n",
        "\n",
        "    return zip(board.get_valid_move_indexes(), nodes)\n",
        "\n",
        "\n",
        "def train_mcts_agent_with_game_playouts(node_cache=nodecache, board = TicTacToeBoard(),\n",
        "                              num_playouts=4000, display_progress=True):\n",
        "    ## THIS IS THE FUNCTION WE NEED TO CALL TO TRAIN THE AGENT\n",
        "    for game in range(num_playouts):\n",
        "        perform_game_playout(node_cache, board)\n",
        "        if display_progress is True and (game+1) % (num_playouts / 10) == 0:\n",
        "            print(f\"{game+1}/{num_playouts} playouts...\")\n",
        "\n",
        "\n",
        "def perform_game_playout(node_cache, board):\n",
        "    game_history = [board]\n",
        "\n",
        "    while not board.is_gameover():# till the particular episode ends \n",
        "        move_index = choose_move(node_cache, board) #select action\n",
        "        board = board.play_single_move(move_index) # make the move\n",
        "        game_history.append(board) # save the board object in history\n",
        "\n",
        "    backpropagate(node_cache, board, game_history)\n",
        "\n",
        "\n",
        "def choose_move(node_cache, parent_board):\n",
        "    move_value_pairs = calculate_values(node_cache, parent_board)\n",
        "    return max(move_value_pairs, key=lambda pair: pair[1])[0] # Use the best moves as per UCB1 \n",
        "\n",
        "\n",
        "def calculate_values(node_cache, parent_board):\n",
        "    child_boards = [parent_board.play_single_move(mi) for mi\n",
        "                    in parent_board.get_valid_move_indexes()]# play all the valid moves to get the child board positions\n",
        "    values = [calculate_value(node_cache, parent_board, cb) for cb\n",
        "              in child_boards] # calculate the UCB1 values for each such child board positions\n",
        "    return zip(parent_board.get_valid_move_indexes(), values)\n",
        "\n",
        "\n",
        "def calculate_value(node_cache, parent_board, board):\n",
        "    # Calculate effective Value of a Node usinh Upper Confidence Bound ( Optimism in the face of Uncertainty)\n",
        "    node = find_or_create_node(node_cache, board)\n",
        "    node.add_parent_node(node_cache, parent_board)\n",
        "    if node.visits == 0:\n",
        "        return math.inf\n",
        "\n",
        "    parent_node_visits = node.get_total_visits_for_parent_nodes()\n",
        "\n",
        "    assert node.visits <= parent_node_visits, \\\n",
        "        \"child node visits should be a subset of visits to the parent node \"\n",
        "\n",
        "    exploration_term = (math.sqrt(2.0)\n",
        "                        * math.sqrt(math.log(parent_node_visits) / node.visits))\n",
        "\n",
        "    value = node.value() + exploration_term # Upper Confidence Bound Implementation \n",
        "\n",
        "    return value\n",
        "\n",
        "\n",
        "def backpropagate(node_cache, final_board_position, game_history):\n",
        "    for board in game_history:\n",
        "        node = find_node(node_cache, board)\n",
        "        node.visits += 1\n",
        "        if is_win(board.give_turns_to_alternate_players(), final_board_position):\n",
        "            node.wins += 1 # increment the Win count if the player won\n",
        "        elif is_loss(board.give_turns_to_alternate_players(), final_board_position):\n",
        "            node.losses += 1\n",
        "        elif is_draw(final_board_position):\n",
        "            node.draws += 1\n",
        "        else:\n",
        "            raise ValueError(\"Illegal game state\")\n",
        "\n",
        "\n",
        "def find_node(node_cache, board):\n",
        "    result, found = node_cache.get_results_for_configuration_from_cache(board) # Query in Cache\n",
        "    assert found is True, \"node must exist\"\n",
        "    node, _ = result\n",
        "    return node\n",
        "\n",
        "\n",
        "def find_or_create_node(node_cache, board):\n",
        "    result, found = node_cache.get_results_for_configuration_from_cache(board)# Query in Cache\n",
        "    if found is False:\n",
        "        node = TreeNode()\n",
        "        node_cache.store_configuration_in_cache(board, node) # store in Cache if not found \n",
        "        return node\n",
        "\n",
        "    node, _ = result\n",
        "    return node\n",
        "\n",
        "\n",
        "def is_win(player, board): #return True if player won\n",
        "    result = board.get_game_result()\n",
        "    return ((player == CELL_X and result == COUNT_O_WINS)\n",
        "            or (player == CELL_O and result == COUNT_X_WINS))\n",
        "def if_given_player_won(given_player, board): \n",
        "    # call this function with a given board position to check for a given player won\n",
        "    result = board.get_game_result()\n",
        "    if ((given_player == CELL_O and result == COUNT_O_WINS)\n",
        "            or (given_player == CELL_X and result == COUNT_X_WINS)):\n",
        "      print('Player {} won '.format(get_symbol_of_cell(given_player)))\n",
        "    elif (given_player == CELL_X and result == COUNT_O_WINS) or (given_player == CELL_O and result == COUNT_X_WINS):\n",
        "      print('Player {} lost '.format(get_symbol_of_cell(given_player)))\n",
        "    elif board.get_game_result() == COUNT_DRAW :\n",
        "      print('It was a DRAW! ')\n",
        "    else : \n",
        "      print('Game ongoing')\n",
        "\n",
        "\n",
        "def is_loss(player, board):#return True if player lost\n",
        "    result = board.get_game_result()\n",
        "    return ((player == CELL_X and result == COUNT_X_WINS)\n",
        "            or (player == CELL_O and result == COUNT_O_WINS))"
      ],
      "metadata": {
        "id": "kNUZuMbLWmYj"
      },
      "execution_count": 6,
      "outputs": []
    },
    {
      "cell_type": "markdown",
      "source": [
        "# Training the Agent X and playing it against an Opponent"
      ],
      "metadata": {
        "id": "U--zrexiWWeq"
      }
    },
    {
      "cell_type": "code",
      "source": [
        "print(\"Training Monte Carlo Tree Search Agent ...\")\n",
        "print(\"Let us simulate for 4000 playouts for training. This can be changed by changing the Value Assignment for num_of_training_playouts in next line \")\n",
        "num_of_training_playouts = 4000\n",
        "#train_mcts_agent_with_game_playouts () #perform_training_playouts()\n",
        "train_mcts_agent_with_game_playouts(node_cache=nodecache, board = TicTacToeBoard(),num_playouts=num_of_training_playouts, display_progress=True)"
      ],
      "metadata": {
        "colab": {
          "base_uri": "https://localhost:8080/"
        },
        "id": "3Bn7LkVz6pq0",
        "outputId": "8ceb8e1d-7569-40bb-c8b0-30cc11ee1594"
      },
      "execution_count": 7,
      "outputs": [
        {
          "output_type": "stream",
          "name": "stdout",
          "text": [
            "Training Monte Carlo Tree Search Agent ...\n",
            "Let us simulate for 4000 playouts for training. This can be changed by changing the Value Assignment for num_of_training_playouts in next line \n",
            "400/4000 playouts...\n",
            "800/4000 playouts...\n",
            "1200/4000 playouts...\n",
            "1600/4000 playouts...\n",
            "2000/4000 playouts...\n",
            "2400/4000 playouts...\n",
            "2800/4000 playouts...\n",
            "3200/4000 playouts...\n",
            "3600/4000 playouts...\n",
            "4000/4000 playouts...\n"
          ]
        }
      ]
    },
    {
      "cell_type": "code",
      "source": [
        "print(\"\")\n",
        "print(\"Playing random vs Monte Carlo Tree Search Agent:\")\n",
        "print(\"-----------In the Next function arguments provided, the first Agent plays X, second one O------------\")\n",
        "play_games_n_return_stats(1000, play_random_move, play_mcts_agent_1move)\n",
        "print(\"\")"
      ],
      "metadata": {
        "colab": {
          "base_uri": "https://localhost:8080/"
        },
        "id": "gTTiJOkp6xIa",
        "outputId": "4841667c-c24b-4f4b-d8d7-d8660f7ff05d"
      },
      "execution_count": 8,
      "outputs": [
        {
          "output_type": "stream",
          "name": "stdout",
          "text": [
            "\n",
            "Playing random vs Monte Carlo Tree Search Agent:\n",
            "-----------In the Next function arguments provided, the first Agent plays X, second one O------------\n",
            "Agent x wins: 0.00 % times out of 1000 matches played\n",
            "Agent o wins: 62.10 % times \n",
            "draw happens : 37.90 % times \n",
            "\n"
          ]
        }
      ]
    },
    {
      "cell_type": "markdown",
      "source": [
        "#Q3 b - MCTS given 3 particular board positions\n",
        "\n",
        "---\n",
        "\n",
        "\n",
        "\n",
        "---\n",
        "\n",
        "\n",
        "\n",
        "---\n",
        "\n"
      ],
      "metadata": {
        "id": "rT_YTNF6NrR1"
      }
    },
    {
      "cell_type": "markdown",
      "source": [
        "## Agent X is One step away from Winning - Two X(s) in first row\n",
        "\n",
        "\n",
        "---\n",
        "\n",
        "\n",
        "\n"
      ],
      "metadata": {
        "id": "rWhejHV1PhSR"
      }
    },
    {
      "cell_type": "code",
      "source": [
        "one_step_from_winning_board = TicTacToeBoard()\n",
        "one_step_from_winning_board.board = np.array([1 ,1 ,0, 0,  -1,0,  0, 0, -1])\n",
        "print(one_step_from_winning_board.board)\n",
        "cell_symbols = [get_symbol_of_cell(cell) for cell in one_step_from_winning_board.board]\n",
        "print(cell_symbols)\n",
        "resultant_board =play_mcts_agent_1move(one_step_from_winning_board, node_cache=nodecache)\n",
        "print('After playing the MCTS agent')\n",
        "resultant_board.print_board()\n",
        "if_given_player_won(1,resultant_board )\n",
        "if_given_player_won(-1,resultant_board )"
      ],
      "metadata": {
        "colab": {
          "base_uri": "https://localhost:8080/"
        },
        "id": "5-bmyIrfGnjn",
        "outputId": "4dc7e9a6-5854-4daf-89ec-e3a42a2b1ad4"
      },
      "execution_count": 9,
      "outputs": [
        {
          "output_type": "stream",
          "name": "stdout",
          "text": [
            "[ 1  1  0  0 -1  0  0  0 -1]\n",
            "['X', 'X', '-', '-', 'O', '-', '-', '-', 'O']\n",
            "After playing the MCTS agent\n",
            "-------\n",
            "|X|X|X|\n",
            "|-|O|-|\n",
            "|-|-|O|\n",
            "-------\n",
            "\n",
            "Player X won \n",
            "Player O lost \n"
          ]
        }
      ]
    },
    {
      "cell_type": "markdown",
      "source": [
        "# Agent X is One Step Away from Losing ( Two Os in the first row)\n",
        "\n",
        "---\n",
        "\n"
      ],
      "metadata": {
        "id": "pTWaL7KAQHWc"
      }
    },
    {
      "cell_type": "markdown",
      "source": [
        "### What if the MCTS Agent takes just one step"
      ],
      "metadata": {
        "id": "Q2-hXuj6SZdM"
      }
    },
    {
      "cell_type": "code",
      "source": [
        "one_step_from_losing_board = TicTacToeBoard()\n",
        "one_step_from_losing_board.board = np.array([-1 ,-1 ,0, 0,  1,0,  0, 0, 1])\n",
        "print(one_step_from_losing_board.board)\n",
        "cell_symbols = [get_symbol_of_cell(cell) for cell in one_step_from_losing_board.board]\n",
        "print(cell_symbols)\n",
        "resultant_board =play_mcts_agent_1move(one_step_from_losing_board, node_cache=nodecache)\n",
        "print('After playing the MCTS agent')\n",
        "resultant_board.print_board()\n",
        "if_given_player_won(1,resultant_board )\n",
        "if_given_player_won(-1,resultant_board )"
      ],
      "metadata": {
        "colab": {
          "base_uri": "https://localhost:8080/"
        },
        "id": "uArD06yfN631",
        "outputId": "7a036051-3e84-413e-8924-ede6ed33f8d5"
      },
      "execution_count": 10,
      "outputs": [
        {
          "output_type": "stream",
          "name": "stdout",
          "text": [
            "[-1 -1  0  0  1  0  0  0  1]\n",
            "['O', 'O', '-', '-', 'X', '-', '-', '-', 'X']\n",
            "After playing the MCTS agent\n",
            "-------\n",
            "|O|O|X|\n",
            "|-|X|-|\n",
            "|-|-|X|\n",
            "-------\n",
            "\n",
            "Game ongoing\n",
            "Game ongoing\n"
          ]
        }
      ]
    },
    {
      "cell_type": "markdown",
      "source": [
        "### What if the MCTS Agent takes the next step & the Game continues till the end"
      ],
      "metadata": {
        "id": "pWNVp81cSiJx"
      }
    },
    {
      "cell_type": "code",
      "source": [
        "one_step_from_losing_board = TicTacToeBoard()\n",
        "one_step_from_losing_board.board = np.array([-1 ,-1 ,0, 0,  1,0,  0, 0, 1])\n",
        "print(one_step_from_losing_board.board)\n",
        "cell_symbols = [get_symbol_of_cell(cell) for cell in one_step_from_losing_board.board]\n",
        "print(cell_symbols)\n",
        "# X - MCTS Agent, O- Random Agent\n",
        "resultant_board =play_game_till_end(play_mcts_agent_1move, play_random_move,one_step_from_losing_board ) \n",
        "print('After playing the MCTS agent')\n",
        "resultant_board.print_board()\n",
        "if_given_player_won(1,resultant_board )\n",
        "if_given_player_won(-1,resultant_board )"
      ],
      "metadata": {
        "colab": {
          "base_uri": "https://localhost:8080/"
        },
        "id": "u_cJP-tgSVGj",
        "outputId": "14168da4-5385-403f-c835-a2d160cd8775"
      },
      "execution_count": 11,
      "outputs": [
        {
          "output_type": "stream",
          "name": "stdout",
          "text": [
            "[-1 -1  0  0  1  0  0  0  1]\n",
            "['O', 'O', '-', '-', 'X', '-', '-', '-', 'X']\n",
            "After playing the MCTS agent\n",
            "-------\n",
            "|O|O|X|\n",
            "|X|X|X|\n",
            "|O|O|X|\n",
            "-------\n",
            "\n",
            "Player X won \n",
            "Player O lost \n"
          ]
        }
      ]
    },
    {
      "cell_type": "markdown",
      "source": [
        "# Opponent Made the First Move & has the central postion \n",
        "\n",
        "---\n",
        "\n"
      ],
      "metadata": {
        "id": "L7m2O08cTNH9"
      }
    },
    {
      "cell_type": "markdown",
      "source": [
        "# The Next step by Agent"
      ],
      "metadata": {
        "id": "fSxjbKB3TsiW"
      }
    },
    {
      "cell_type": "code",
      "source": [
        "my_board = TicTacToeBoard()\n",
        "my_board.board = np.array([0 ,0 ,0, 0,  -1,0,  0, 0, 0])\n",
        "print(my_board.board)\n",
        "#my_board.give_turns_to_alternate_players(first_move_by = CELL_O )\n",
        "my_board.first_move_by = CELL_O\n",
        "cell_symbols = [get_symbol_of_cell(cell) for cell in my_board.board]\n",
        "print(cell_symbols)\n",
        "resultant_board =play_mcts_agent_1move(my_board, node_cache=nodecache)\n",
        "print('After playing the MCTS agent')\n",
        "resultant_board.print_board()\n",
        "if_given_player_won(1,resultant_board )\n",
        "if_given_player_won(-1,resultant_board )\n",
        "print('first_move_by -->', get_symbol_of_cell(my_board.first_move_by))"
      ],
      "metadata": {
        "colab": {
          "base_uri": "https://localhost:8080/"
        },
        "id": "JoBU9gvNTMGF",
        "outputId": "93c67fc5-a501-4f2c-a721-1f2c8fe29ada"
      },
      "execution_count": 12,
      "outputs": [
        {
          "output_type": "stream",
          "name": "stdout",
          "text": [
            "[ 0  0  0  0 -1  0  0  0  0]\n",
            "['-', '-', '-', '-', 'O', '-', '-', '-', '-']\n",
            "After playing the MCTS agent\n",
            "-------\n",
            "|-|X|-|\n",
            "|-|O|-|\n",
            "|-|-|-|\n",
            "-------\n",
            "\n",
            "Game ongoing\n",
            "Game ongoing\n",
            "first_move_by --> O\n"
          ]
        }
      ]
    },
    {
      "cell_type": "markdown",
      "source": [
        "### Opponent Agent O's first move in the Centre. What happens if we go All the way till the end ?"
      ],
      "metadata": {
        "id": "UDr3MuQATo2d"
      }
    },
    {
      "cell_type": "code",
      "source": [
        "my_board = TicTacToeBoard()\n",
        "my_board.board = np.array([0 ,0 ,0, 0,  -1,0,  0, 0, 0])\n",
        "print(my_board.board)\n",
        "my_board.first_move_by = CELL_O\n",
        "cell_symbols = [get_symbol_of_cell(cell) for cell in my_board.board]\n",
        "print(cell_symbols)\n",
        "resultant_board =play_game_till_end(play_mcts_agent_1move, play_random_move,my_board )\n",
        "print('After playing the MCTS agent')\n",
        "resultant_board.print_board()\n",
        "if_given_player_won(1,resultant_board )\n",
        "if_given_player_won(-1,resultant_board )\n",
        "print('first_move_by --> Agent', get_symbol_of_cell(my_board.first_move_by))"
      ],
      "metadata": {
        "colab": {
          "base_uri": "https://localhost:8080/"
        },
        "id": "OQsi5C2rTnp6",
        "outputId": "b8331679-2a64-4549-8a36-7c18c1bb8b7b"
      },
      "execution_count": 13,
      "outputs": [
        {
          "output_type": "stream",
          "name": "stdout",
          "text": [
            "[ 0  0  0  0 -1  0  0  0  0]\n",
            "['-', '-', '-', '-', 'O', '-', '-', '-', '-']\n",
            "After playing the MCTS agent\n",
            "-------\n",
            "|X|X|O|\n",
            "|O|O|X|\n",
            "|X|O|X|\n",
            "-------\n",
            "\n",
            "It was a DRAW! \n",
            "It was a DRAW! \n",
            "first_move_by --> O\n"
          ]
        }
      ]
    },
    {
      "cell_type": "markdown",
      "source": [
        "#Q3c Playing agaist **Random Agent** ( Agent O)\n",
        "\n",
        "---\n",
        "\n"
      ],
      "metadata": {
        "id": "92P28O5kj013"
      }
    },
    {
      "cell_type": "code",
      "source": [
        "print(\"Playing Monte Carlo Tree Search Agent vs random:\")\n",
        "print(\"-----------In the Next function arguments provided, the first Agent plays X, second one O------------\")\n",
        "play_games_n_return_stats(1000, play_mcts_agent_1move, play_random_move)\n",
        "print(\"\")"
      ],
      "metadata": {
        "colab": {
          "base_uri": "https://localhost:8080/"
        },
        "id": "F4yxp7Bagwfu",
        "outputId": "83563578-cd8f-4e96-fd18-b5a5250fb345"
      },
      "execution_count": 14,
      "outputs": [
        {
          "output_type": "stream",
          "name": "stdout",
          "text": [
            "Playing Monte Carlo Tree Search Agent vs random:\n",
            "-----------In the Next function arguments provided, the first Agent plays X, second one O------------\n",
            "Agent x wins: 81.30 % times out of 1000 matches played\n",
            "Agent o wins: 0.00 % times \n",
            "draw happens : 18.70 % times \n",
            "\n"
          ]
        }
      ]
    },
    {
      "cell_type": "markdown",
      "source": [
        "# Q3d - Playing Against **Itself**\n",
        "\n",
        "---\n",
        "\n"
      ],
      "metadata": {
        "id": "5pSeXTvKjulv"
      }
    },
    {
      "cell_type": "code",
      "source": [
        "print(\"Playing Monte Carlo Tree Search Agent vs Monte Carlo Tree Search Agent:\")\n",
        "print(\"-----------In the Next function arguments provided, the first Agent plays X, second one O------------\")\n",
        "play_games_n_return_stats(1000, play_mcts_agent_1move, play_mcts_agent_1move)\n",
        "print(\"\")"
      ],
      "metadata": {
        "colab": {
          "base_uri": "https://localhost:8080/"
        },
        "id": "kpUwb9ZTg6qN",
        "outputId": "4faf6dab-581b-4b44-f251-9207968d215b"
      },
      "execution_count": 15,
      "outputs": [
        {
          "output_type": "stream",
          "name": "stdout",
          "text": [
            "Playing Monte Carlo Tree Search Agent vs Monte Carlo Tree Search Agent:\n",
            "-----------In the Next function arguments provided, the first Agent plays X, second one O------------\n",
            "Agent x wins: 0.00 % times out of 1000 matches played\n",
            "Agent o wins: 0.00 % times \n",
            "draw happens : 100.00 % times \n",
            "\n"
          ]
        }
      ]
    }
  ]
}