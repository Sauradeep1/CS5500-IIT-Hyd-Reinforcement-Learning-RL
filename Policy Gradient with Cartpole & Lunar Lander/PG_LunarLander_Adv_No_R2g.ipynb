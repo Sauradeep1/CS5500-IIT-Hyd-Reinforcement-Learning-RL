{
  "nbformat": 4,
  "nbformat_minor": 0,
  "metadata": {
    "colab": {
      "provenance": [],
      "collapsed_sections": []
    },
    "kernelspec": {
      "name": "python3",
      "display_name": "Python 3"
    },
    "language_info": {
      "name": "python"
    },
    "accelerator": "GPU",
    "gpuClass": "standard"
  },
  "cells": [
    {
      "cell_type": "code",
      "execution_count": null,
      "metadata": {
        "id": "5R8pqM6eSOqZ"
      },
      "outputs": [],
      "source": [
        "import torch\n",
        "import torch.optim as optim\n",
        "import torch.nn as nn\n",
        "import torch.nn.functional as F\n",
        "import matplotlib.pyplot as plt\n",
        "import gym\n",
        "import numpy as np"
      ]
    },
    {
      "cell_type": "code",
      "source": [
        "# check and use GPU if available if not use CPU\n",
        "device = torch.device(\"cuda\" if torch.cuda.is_available() else \"cpu\")"
      ],
      "metadata": {
        "id": "1SMGYxmRSZha"
      },
      "execution_count": null,
      "outputs": []
    },
    {
      "cell_type": "code",
      "source": [
        "!pip install gym[box2d]"
      ],
      "metadata": {
        "colab": {
          "base_uri": "https://localhost:8080/"
        },
        "id": "tf_UUkD1SriA",
        "outputId": "273f1d43-7f3d-459a-84c5-5b54b600cb38"
      },
      "execution_count": null,
      "outputs": [
        {
          "output_type": "stream",
          "name": "stdout",
          "text": [
            "Looking in indexes: https://pypi.org/simple, https://us-python.pkg.dev/colab-wheels/public/simple/\n",
            "Requirement already satisfied: gym[box2d] in /usr/local/lib/python3.7/dist-packages (0.25.2)\n",
            "Requirement already satisfied: numpy>=1.18.0 in /usr/local/lib/python3.7/dist-packages (from gym[box2d]) (1.21.6)\n",
            "Requirement already satisfied: cloudpickle>=1.2.0 in /usr/local/lib/python3.7/dist-packages (from gym[box2d]) (1.5.0)\n",
            "Requirement already satisfied: gym-notices>=0.0.4 in /usr/local/lib/python3.7/dist-packages (from gym[box2d]) (0.0.8)\n",
            "Requirement already satisfied: importlib-metadata>=4.8.0 in /usr/local/lib/python3.7/dist-packages (from gym[box2d]) (4.13.0)\n",
            "Collecting pygame==2.1.0\n",
            "  Downloading pygame-2.1.0-cp37-cp37m-manylinux_2_17_x86_64.manylinux2014_x86_64.whl (18.3 MB)\n",
            "\u001b[K     |████████████████████████████████| 18.3 MB 29 kB/s \n",
            "\u001b[?25hCollecting swig==4.*\n",
            "  Downloading swig-4.1.0-py2.py3-none-manylinux_2_5_x86_64.manylinux1_x86_64.whl (1.8 MB)\n",
            "\u001b[K     |████████████████████████████████| 1.8 MB 47.2 MB/s \n",
            "\u001b[?25hCollecting box2d-py==2.3.5\n",
            "  Downloading box2d_py-2.3.5-cp37-cp37m-manylinux1_x86_64.whl (2.1 MB)\n",
            "\u001b[K     |████████████████████████████████| 2.1 MB 44.6 MB/s \n",
            "\u001b[?25hRequirement already satisfied: zipp>=0.5 in /usr/local/lib/python3.7/dist-packages (from importlib-metadata>=4.8.0->gym[box2d]) (3.10.0)\n",
            "Requirement already satisfied: typing-extensions>=3.6.4 in /usr/local/lib/python3.7/dist-packages (from importlib-metadata>=4.8.0->gym[box2d]) (4.1.1)\n",
            "Installing collected packages: swig, pygame, box2d-py\n",
            "Successfully installed box2d-py-2.3.5 pygame-2.1.0 swig-4.1.0\n"
          ]
        }
      ]
    },
    {
      "cell_type": "markdown",
      "source": [
        "# USER INPUTs regarding environment name, reward-to-go functionality (true or false), advantage normalization functionality (true or false), number of iterations, batch size for PG etc"
      ],
      "metadata": {
        "id": "9DeFyF015EJP"
      }
    },
    {
      "cell_type": "code",
      "source": [
        "\n",
        "def get_inputs(option_1, option_2, message):\n",
        "  \"\"\" as per the user input selects either Option 1 or 2 .\n",
        "  In case of wrong input, automatically calls itself with same parameters again \"\"\"\n",
        "  print(message)\n",
        "  variable = input()\n",
        "  try :\n",
        "    try :\n",
        "      variable = int(variable.strip())# if input like -->1\n",
        "    except :\n",
        "      variable = float(variable.strip())# if input like -->1.0\n",
        "    finally :\n",
        "      if variable ==1 :\n",
        "        variable = option_1\n",
        "        print('You have selected {}'.format(variable))\n",
        "        \n",
        "      elif variable ==2:\n",
        "        variable = option_2\n",
        "        print('You have selected {}'.format(variable))\n",
        "      else :\n",
        "        print(\"You have entered a wrong number. Please enter either 1 or 2\")\n",
        "        get_inputs(variable, option_1, option_2)\n",
        "    \n",
        "  except : \n",
        "    print('You entered an invalid input. Please Enter Either 1 or 2.Please Retry')\n",
        "    get_inputs(variable, option_1, option_2)\n",
        "  return variable\n",
        "message = 'For Cartpole Enter 1 , for Lunar Lander Enter 2 '\n",
        "environment = get_inputs( 'CartPole-v0', 'LunarLander-v2', message)"
      ],
      "metadata": {
        "colab": {
          "base_uri": "https://localhost:8080/"
        },
        "id": "faHFrsOM4_la",
        "outputId": "8373232e-d469-4955-c708-5270e69c23ca"
      },
      "execution_count": null,
      "outputs": [
        {
          "output_type": "stream",
          "name": "stdout",
          "text": [
            "For Cartpole Enter 1 , for Lunar Lander Enter 2 \n",
            "2\n",
            "You have selected LunarLander-v2\n"
          ]
        }
      ]
    },
    {
      "cell_type": "code",
      "source": [
        "message = 'If you want to do Advantage Normalization Press 1 , Else Press 2 '\n",
        "adv_norm = get_inputs( 'adv_norm', 'None', message)\n",
        "\n",
        "message = 'If you want to do Reward to Go functionality Press 1 , Else Press 2 '\n",
        "r2go = get_inputs( 'r2go', 'None', message)"
      ],
      "metadata": {
        "colab": {
          "base_uri": "https://localhost:8080/"
        },
        "id": "-uAfas2JoAG3",
        "outputId": "3954d72c-0207-4456-9c15-2dc5c130a7c7"
      },
      "execution_count": null,
      "outputs": [
        {
          "output_type": "stream",
          "name": "stdout",
          "text": [
            "If you want to do Advantage Normalization Press 1 , Else Press 2 \n",
            "2\n",
            "You have selected None\n",
            "If you want to do Reward to Go functionality Press 1 , Else Press 2 \n",
            "1\n",
            "You have selected r2go\n"
          ]
        }
      ]
    },
    {
      "cell_type": "code",
      "source": [
        "num_iterations = input('Enter the number of episodes /Iterations in digits e.g. 5000--->')\n",
        "num_iterations = int(num_iterations.strip())\n",
        "print('num_iterations You Selected is -->  {}'.format(num_iterations))"
      ],
      "metadata": {
        "colab": {
          "base_uri": "https://localhost:8080/"
        },
        "id": "iyWfCApdl-xW",
        "outputId": "1a86b333-f9e9-42fd-f2e3-ca8baa6bc192"
      },
      "execution_count": null,
      "outputs": [
        {
          "output_type": "stream",
          "name": "stdout",
          "text": [
            "Enter the number of episodes /Iterations in digits e.g. 5000--->2000\n",
            "num_iterations You Selected is -->  2000\n"
          ]
        }
      ]
    },
    {
      "cell_type": "code",
      "source": [
        "env = gym.make(environment)\n",
        "print(environment)\n",
        "env.reset()\n",
        "#action_size = env.action_space.n\n",
        "#state_size = env.observation_space.shape[0]\n",
        "print('Action Space-->',env.action_space)\n",
        "print('Observation Space-->',env.observation_space)\n",
        "print('reward range-->',env.reward_range)\n",
        "print('Meta data --> ',env.metadata)\n",
        "print('Specifications -->',env.spec)\n",
        "# set seed\n",
        "prev_screen = env.render(mode='rgb_array')\n",
        "plt.imshow(prev_screen)\n",
        "try :\n",
        "  for i in range(200):\n",
        "      env.render()\n",
        "      action = env.action_space.sample()\n",
        "      obs, reward, done, info = env.step(action)\n",
        "      if done:\n",
        "          env.reset()\n",
        "except :\n",
        "  pass\n",
        "        \n",
        "env.close()"
      ],
      "metadata": {
        "colab": {
          "base_uri": "https://localhost:8080/",
          "height": 619
        },
        "id": "Gwnex4KcSZj5",
        "outputId": "5800a376-4aac-42c8-d54a-a8ba5ef0d566"
      },
      "execution_count": null,
      "outputs": [
        {
          "output_type": "stream",
          "name": "stdout",
          "text": [
            "LunarLander-v2\n",
            "Action Space--> Discrete(4)\n",
            "Observation Space--> Box([-1.5       -1.5       -5.        -5.        -3.1415927 -5.\n",
            " -0.        -0.       ], [1.5       1.5       5.        5.        3.1415927 5.        1.\n",
            " 1.       ], (8,), float32)\n",
            "reward range--> (-inf, inf)\n",
            "Meta data -->  {'render_modes': ['human', 'rgb_array', 'single_rgb_array'], 'render_fps': 50}\n",
            "Specifications --> EnvSpec(id='LunarLander-v2', entry_point='gym.envs.box2d.lunar_lander:LunarLander', reward_threshold=200, nondeterministic=False, max_episode_steps=1000, order_enforce=True, autoreset=False, disable_env_checker=False, new_step_api=False, kwargs={}, namespace=None, name='LunarLander', version=2)\n"
          ]
        },
        {
          "output_type": "stream",
          "name": "stderr",
          "text": [
            "/usr/local/lib/python3.7/dist-packages/gym/core.py:318: DeprecationWarning: \u001b[33mWARN: Initializing wrapper in old step API which returns one bool instead of two. It is recommended to set `new_step_api=True` to use new step API. This will be the default behaviour in future.\u001b[0m\n",
            "  \"Initializing wrapper in old step API which returns one bool instead of two. It is recommended to set `new_step_api=True` to use new step API. This will be the default behaviour in future.\"\n",
            "/usr/local/lib/python3.7/dist-packages/gym/wrappers/step_api_compatibility.py:40: DeprecationWarning: \u001b[33mWARN: Initializing environment in old step API which returns one bool instead of two. It is recommended to set `new_step_api=True` to use new step API. This will be the default behaviour in future.\u001b[0m\n",
            "  \"Initializing environment in old step API which returns one bool instead of two. It is recommended to set `new_step_api=True` to use new step API. This will be the default behaviour in future.\"\n",
            "/usr/local/lib/python3.7/dist-packages/gym/core.py:44: DeprecationWarning: \u001b[33mWARN: The argument mode in render method is deprecated; use render_mode during environment initialization instead.\n",
            "See here for more information: https://www.gymlibrary.ml/content/api/\u001b[0m\n",
            "  \"The argument mode in render method is deprecated; \"\n",
            "/usr/local/lib/python3.7/dist-packages/gym/core.py:50: DeprecationWarning: \u001b[33mWARN: You are calling render method, but you didn't specified the argument render_mode at environment initialization. To maintain backward compatibility, the environment will render in human mode.\n",
            "If you want to render in human mode, initialize the environment in this way: gym.make('EnvName', render_mode='human') and don't call the render method.\n",
            "See here for more information: https://www.gymlibrary.ml/content/api/\u001b[0m\n",
            "  \"You are calling render method, \"\n"
          ]
        },
        {
          "output_type": "display_data",
          "data": {
            "text/plain": [
              "<Figure size 432x288 with 1 Axes>"
            ],
            "image/png": "[encoded data removed]"
          },
          "metadata": {
            "needs_background": "light"
          }
        }
      ]
    },
    {
      "cell_type": "code",
      "source": [
        "class ActorNet(nn.Module):\n",
        "    def __init__(self, state_size, action_size, hidden_size):\n",
        "        super(ActorNet, self).__init__()\n",
        "        self.dense_layer_1 = nn.Linear(state_size, hidden_size)\n",
        "        self.dense_layer_2 = nn.Linear(hidden_size, hidden_size)\n",
        "        self.output = nn.Linear(hidden_size, action_size)\n",
        "    \n",
        "    def forward(self, x):\n",
        "        x = torch.clamp(x,-1.1,1.1)\n",
        "        x = F.relu(self.dense_layer_1(x))\n",
        "        x = F.relu(self.dense_layer_2(x))\n",
        "        return F.softmax(self.output(x),dim=-1) #-1 to take softmax of last dimension\n",
        "    \n",
        "class ValueFunctionNet(nn.Module):\n",
        "    def __init__(self, state_size, hidden_size):\n",
        "        super(ValueFunctionNet, self).__init__()\n",
        "        self.dense_layer_1 = nn.Linear(state_size, hidden_size)\n",
        "        self.dense_layer_2 = nn.Linear(hidden_size, hidden_size)\n",
        "        self.output = nn.Linear(hidden_size, 1)\n",
        "    \n",
        "    def forward(self, x):\n",
        "        x = torch.clamp(x,-1.1,1.1)\n",
        "        x = F.relu(self.dense_layer_1(x))\n",
        "        x = F.relu(self.dense_layer_2(x))\n",
        "        return self.output(x)"
      ],
      "metadata": {
        "id": "kpI4VzLaS9Ce"
      },
      "execution_count": null,
      "outputs": []
    },
    {
      "cell_type": "code",
      "source": [
        "class PGAgent():\n",
        "    def __init__(self, state_size, action_size, hidden_size, actor_lr, vf_lr, discount ):\n",
        "        self.action_size = action_size\n",
        "        self.actor_net = ActorNet(state_size, action_size, hidden_size).to(device)\n",
        "        self.vf_net = ValueFunctionNet(state_size, hidden_size).to(device)\n",
        "        self.actor_optimizer = optim.Adam(self.actor_net.parameters(), lr=actor_lr)\n",
        "        self.vf_optimizer = optim.Adam(self.vf_net.parameters(), lr=vf_lr)\n",
        "        self.discount = discount\n",
        "        \n",
        "    def select_action(self, state):\n",
        "        #get action probs then randomly sample from the probabilities\n",
        "        with torch.no_grad():\n",
        "            input_state = torch.FloatTensor(state).to(device)\n",
        "            action_probs = self.actor_net(input_state)\n",
        "            #detach and turn to numpy to use with np.random.choice()\n",
        "            action_probs = action_probs.detach().cpu().numpy()\n",
        "            action = np.random.choice(np.arange(self.action_size), p=action_probs)\n",
        "        return action\n",
        "\n",
        "    def train(self, state_list, action_list, reward_list):\n",
        "        \n",
        "        #turn rewards into return\n",
        "        trajectory_len = len(reward_list)\n",
        "        return_array = np.zeros((trajectory_len,))\n",
        "        g_return = 0.\n",
        "        if r2go == 'r2go':\n",
        "          for i in range(trajectory_len-1,-1,-1):\n",
        "              g_return = reward_list[i] + self.discount*g_return\n",
        "              \n",
        "              return_array[i] = g_return\n",
        "        elif r2go == 'None' :\n",
        "          for i in range(trajectory_len):\n",
        "            return_array = reward_list[i] + self.discount*g_return\n",
        "\n",
        "            \n",
        "        # create tensors\n",
        "        state_t = torch.FloatTensor(state_list).to(device)\n",
        "        action_t = torch.LongTensor(action_list).to(device).view(-1,1)\n",
        "        return_t = torch.FloatTensor(return_array).to(device).view(-1,1)\n",
        "        \n",
        "        # get value function estimates\n",
        "        vf_t = self.vf_net(state_t).to(device)\n",
        "        with torch.no_grad():\n",
        "            advantage_t = return_t - vf_t\n",
        "            if adv_norm == 'adv_norm':\n",
        "              advantage_t = (advantage_t - np.mean(advantage_t)) / (np.std(advantage_t) + 1e-10) #Advantage normalization\n",
        "        \n",
        "        # calculate actor loss\n",
        "        selected_action_prob = self.actor_net(state_t).gather(1, action_t)\n",
        "        # REINFORCE loss:\n",
        "        #actor_loss = torch.mean(-torch.log(selected_action_prob) * return_t)\n",
        "        # REINFORCE Baseline loss:\n",
        "        actor_loss = torch.mean(-torch.log(selected_action_prob) * advantage_t)\n",
        "        self.actor_optimizer.zero_grad()\n",
        "        actor_loss.backward()\n",
        "        self.actor_optimizer.step() \n",
        "\n",
        "        # calculate vf loss\n",
        "        loss_fn = nn.MSELoss()\n",
        "        vf_loss = loss_fn(vf_t, return_t)\n",
        "        self.vf_optimizer.zero_grad()\n",
        "        vf_loss.backward()\n",
        "        self.vf_optimizer.step() \n",
        "        \n",
        "        return actor_loss.detach().cpu().numpy(), vf_loss.detach().cpu().numpy()"
      ],
      "metadata": {
        "id": "ui9-7K0NSZmW"
      },
      "execution_count": null,
      "outputs": []
    },
    {
      "cell_type": "code",
      "source": [
        "action_size = env.action_space.n\n",
        "state_size = env.observation_space.shape[0]\n",
        "\n",
        "# set seed\n",
        "seed = 31\n",
        "env.seed(seed)\n",
        "np.random.seed(seed)\n",
        "torch.manual_seed(seed)\n",
        "if torch.cuda.is_available():\n",
        "    torch.cuda.manual_seed(seed)\n",
        "    torch.cuda.manual_seed_all(seed)\n",
        "\n",
        "# hyperparameters\n",
        "episodes = num_iterations#5000 # run agent for this many episodes # USER INPUT \n",
        "hidden_size = 256 # number of units in NN hidden layers\n",
        "actor_lr = 0.002 # learning rate for actor\n",
        "value_function_lr = 0.002 # learning rate for value function\n",
        "discount = 0.99 # discount factor gamma value\n",
        "reward_scale = 0.01 #scale reward by this amount\n",
        "\n",
        "# create agent\n",
        "agent = PGAgent(state_size, action_size, hidden_size, actor_lr, value_function_lr, discount)"
      ],
      "metadata": {
        "colab": {
          "base_uri": "https://localhost:8080/"
        },
        "id": "XSsITXy1TE_s",
        "outputId": "fc4f84b5-a075-4fe2-b5d7-8b976398e597"
      },
      "execution_count": null,
      "outputs": [
        {
          "output_type": "stream",
          "name": "stderr",
          "text": [
            "/usr/local/lib/python3.7/dist-packages/gym/core.py:257: DeprecationWarning: \u001b[33mWARN: Function `env.seed(seed)` is marked as deprecated and will be removed in the future. Please use `env.reset(seed=seed)` instead.\u001b[0m\n",
            "  \"Function `env.seed(seed)` is marked as deprecated and will be removed in the future. \"\n"
          ]
        }
      ]
    },
    {
      "cell_type": "code",
      "source": [
        "stats_rewards_list = [] # store stats for plotting in this\n",
        "stats_every = 10 # print stats every this many episodes\n",
        "total_reward = 0\n",
        "timesteps = 0\n",
        "episode_length = 0\n",
        "stats_actor_loss, stats_vf_loss = 0., 0.\n",
        "\n",
        "for ep in range(episodes):\n",
        "    state = env.reset()\n",
        "    state_list, action_list, reward_list = [], [], []\n",
        "    \n",
        "    # stopping condition for training if agent reaches the amount of reward\n",
        "    if len(stats_rewards_list) > stats_every and np.mean(stats_rewards_list[-stats_every:],axis=0)[1] > 190:\n",
        "        print(\"Stopping at episode {} with average rewards of {} in last {} episodes\".\n",
        "            format(ep, np.mean(stats_rewards_list[-stats_every:],axis=0)[1], stats_every))\n",
        "        break  \n",
        "\n",
        "    # train in each episode until episode is done\n",
        "    while True:\n",
        "        timesteps += 1\n",
        "        #env.render()\n",
        "        # select an action from the agent's policy\n",
        "        action = agent.select_action(state)\n",
        "        \n",
        "        # enter action into the env\n",
        "        next_state, reward, done, _ = env.step(action)\n",
        "        total_reward += reward\n",
        "        episode_length += 1\n",
        "        # store agent's trajectory\n",
        "        state_list.append(state)\n",
        "        action_list.append(action)\n",
        "        reward_list.append(reward*reward_scale)\n",
        "        \n",
        "        # end episode early\n",
        "        if total_reward < -250:\n",
        "            done = 1\n",
        "        \n",
        "        if done:\n",
        "            actor_loss, vf_loss = agent.train(state_list, action_list, reward_list)\n",
        "            stats_rewards_list.append((ep, total_reward, episode_length))\n",
        "            stats_actor_loss += actor_loss\n",
        "            stats_vf_loss += vf_loss\n",
        "            total_reward = 0\n",
        "            episode_length = 0  \n",
        "            if ep % stats_every == 0:\n",
        "                print('Episode: {}'.format(ep),\n",
        "                    'Timestep: {}'.format(timesteps),\n",
        "                    'Total reward: {:.1f}'.format(np.mean(stats_rewards_list[-stats_every:],axis=0)[1]),\n",
        "                    'Episode length: {:.1f}'.format(np.mean(stats_rewards_list[-stats_every:],axis=0)[2]),\n",
        "                    'Actor Loss: {:.4f}'.format(stats_actor_loss/stats_every), \n",
        "                    'VF Loss: {:.4f}'.format(stats_vf_loss/stats_every))\n",
        "                stats_actor_loss, stats_vf_loss = 0., 0.\n",
        "            break\n",
        "        \n",
        "        state = next_state"
      ],
      "metadata": {
        "colab": {
          "base_uri": "https://localhost:8080/"
        },
        "id": "aUrlxSs3SZou",
        "outputId": "cad30c26-94d3-4cc3-b509-16a1d5cbc779"
      },
      "execution_count": null,
      "outputs": [
        {
          "output_type": "stream",
          "name": "stderr",
          "text": [
            "/usr/local/lib/python3.7/dist-packages/ipykernel_launcher.py:37: UserWarning: Creating a tensor from a list of numpy.ndarrays is extremely slow. Please consider converting the list to a single numpy.ndarray with numpy.array() before converting to a tensor. (Triggered internally at  ../torch/csrc/utils/tensor_new.cpp:201.)\n"
          ]
        },
        {
          "output_type": "stream",
          "name": "stdout",
          "text": [
            "Episode: 0 Timestep: 63 Total reward: -112.4 Episode length: 63.0 Actor Loss: -0.0900 VF Loss: 0.0445\n",
            "Episode: 10 Timestep: 1152 Total reward: -256.0 Episode length: 108.9 Actor Loss: -0.0436 VF Loss: 0.3049\n",
            "Episode: 20 Timestep: 1834 Total reward: -239.2 Episode length: 68.2 Actor Loss: -0.1324 VF Loss: 0.1701\n",
            "Episode: 30 Timestep: 2464 Total reward: -275.0 Episode length: 63.0 Actor Loss: 0.0707 VF Loss: 0.2839\n",
            "Episode: 40 Timestep: 3081 Total reward: -273.6 Episode length: 61.7 Actor Loss: -0.1857 VF Loss: 0.2049\n",
            "Episode: 50 Timestep: 3756 Total reward: -263.0 Episode length: 67.5 Actor Loss: 0.0008 VF Loss: 0.1966\n",
            "Episode: 60 Timestep: 4462 Total reward: -232.7 Episode length: 70.6 Actor Loss: 0.1565 VF Loss: 0.1908\n",
            "Episode: 70 Timestep: 5196 Total reward: -185.6 Episode length: 73.4 Actor Loss: 0.0150 VF Loss: 0.3636\n",
            "Episode: 80 Timestep: 5968 Total reward: -114.2 Episode length: 77.2 Actor Loss: 0.0099 VF Loss: 0.3255\n",
            "Episode: 90 Timestep: 6732 Total reward: -150.2 Episode length: 76.4 Actor Loss: -0.2234 VF Loss: 0.1988\n",
            "Episode: 100 Timestep: 7454 Total reward: -154.6 Episode length: 72.2 Actor Loss: 0.1162 VF Loss: 0.1912\n",
            "Episode: 110 Timestep: 8136 Total reward: -119.3 Episode length: 68.2 Actor Loss: -0.0219 VF Loss: 0.2131\n",
            "Episode: 120 Timestep: 8920 Total reward: -131.1 Episode length: 78.4 Actor Loss: -0.1757 VF Loss: 0.0574\n",
            "Episode: 130 Timestep: 9684 Total reward: -161.6 Episode length: 76.4 Actor Loss: -0.0706 VF Loss: 0.1143\n",
            "Episode: 140 Timestep: 10421 Total reward: -118.3 Episode length: 73.7 Actor Loss: 0.2719 VF Loss: 0.2922\n",
            "Episode: 150 Timestep: 11162 Total reward: -133.7 Episode length: 74.1 Actor Loss: -0.1690 VF Loss: 0.0807\n",
            "Episode: 160 Timestep: 11938 Total reward: -148.0 Episode length: 77.6 Actor Loss: -0.1625 VF Loss: 0.0704\n",
            "Episode: 170 Timestep: 12671 Total reward: -147.3 Episode length: 73.3 Actor Loss: 0.1496 VF Loss: 0.0763\n",
            "Episode: 180 Timestep: 13334 Total reward: -128.1 Episode length: 66.3 Actor Loss: -0.0022 VF Loss: 0.0260\n",
            "Episode: 190 Timestep: 14077 Total reward: -124.8 Episode length: 74.3 Actor Loss: -0.0224 VF Loss: 0.0260\n",
            "Episode: 200 Timestep: 14811 Total reward: -132.3 Episode length: 73.4 Actor Loss: -0.0602 VF Loss: 0.0339\n",
            "Episode: 210 Timestep: 15479 Total reward: -114.6 Episode length: 66.8 Actor Loss: 0.0711 VF Loss: 0.0242\n",
            "Episode: 220 Timestep: 16279 Total reward: -110.2 Episode length: 80.0 Actor Loss: -0.0237 VF Loss: 0.0275\n",
            "Episode: 230 Timestep: 17028 Total reward: -115.1 Episode length: 74.9 Actor Loss: -0.0649 VF Loss: 0.0242\n",
            "Episode: 240 Timestep: 17745 Total reward: -116.3 Episode length: 71.7 Actor Loss: 0.0110 VF Loss: 0.0149\n",
            "Episode: 250 Timestep: 18481 Total reward: -107.5 Episode length: 73.6 Actor Loss: 0.0626 VF Loss: 0.0192\n",
            "Episode: 260 Timestep: 19285 Total reward: -103.5 Episode length: 80.4 Actor Loss: 0.0199 VF Loss: 0.0191\n",
            "Episode: 270 Timestep: 20041 Total reward: -84.2 Episode length: 75.6 Actor Loss: 0.0630 VF Loss: 0.0147\n",
            "Episode: 280 Timestep: 21113 Total reward: -80.8 Episode length: 107.2 Actor Loss: 0.0393 VF Loss: 0.0343\n",
            "Episode: 290 Timestep: 23284 Total reward: -72.4 Episode length: 217.1 Actor Loss: 0.0400 VF Loss: 0.1461\n",
            "Episode: 300 Timestep: 25339 Total reward: -13.9 Episode length: 205.5 Actor Loss: 0.2107 VF Loss: 0.1484\n",
            "Episode: 310 Timestep: 28757 Total reward: -67.6 Episode length: 341.8 Actor Loss: -0.0217 VF Loss: 0.3431\n",
            "Episode: 320 Timestep: 30171 Total reward: -54.3 Episode length: 141.4 Actor Loss: -0.1170 VF Loss: 0.1413\n",
            "Episode: 330 Timestep: 31279 Total reward: -2.8 Episode length: 110.8 Actor Loss: 0.1937 VF Loss: 0.0654\n",
            "Episode: 340 Timestep: 34369 Total reward: 5.7 Episode length: 309.0 Actor Loss: 0.1670 VF Loss: 0.0923\n",
            "Episode: 350 Timestep: 39411 Total reward: 28.9 Episode length: 504.2 Actor Loss: 0.1200 VF Loss: 0.0941\n",
            "Episode: 360 Timestep: 45399 Total reward: -35.0 Episode length: 598.8 Actor Loss: -0.1145 VF Loss: 0.1283\n",
            "Episode: 370 Timestep: 53755 Total reward: -86.8 Episode length: 835.6 Actor Loss: 0.0024 VF Loss: 0.1058\n",
            "Episode: 380 Timestep: 58751 Total reward: -24.2 Episode length: 499.6 Actor Loss: 0.0733 VF Loss: 0.1165\n",
            "Episode: 390 Timestep: 59987 Total reward: 14.7 Episode length: 123.6 Actor Loss: 0.0050 VF Loss: 0.0311\n",
            "Episode: 400 Timestep: 64842 Total reward: 15.7 Episode length: 485.5 Actor Loss: 0.1903 VF Loss: 0.1919\n",
            "Episode: 410 Timestep: 72319 Total reward: 30.6 Episode length: 747.7 Actor Loss: -0.0240 VF Loss: 0.0582\n",
            "Episode: 420 Timestep: 81405 Total reward: -13.1 Episode length: 908.6 Actor Loss: -0.1235 VF Loss: 0.0608\n",
            "Episode: 430 Timestep: 90793 Total reward: -13.3 Episode length: 938.8 Actor Loss: -0.0526 VF Loss: 0.0346\n",
            "Episode: 440 Timestep: 99510 Total reward: 19.6 Episode length: 871.7 Actor Loss: -0.0213 VF Loss: 0.0571\n",
            "Episode: 450 Timestep: 109510 Total reward: -1.1 Episode length: 1000.0 Actor Loss: -0.0066 VF Loss: 0.0177\n",
            "Episode: 460 Timestep: 119420 Total reward: -47.4 Episode length: 991.0 Actor Loss: -0.0336 VF Loss: 0.0301\n",
            "Episode: 470 Timestep: 129056 Total reward: -25.6 Episode length: 963.6 Actor Loss: 0.0338 VF Loss: 0.0706\n",
            "Episode: 480 Timestep: 138176 Total reward: -13.1 Episode length: 912.0 Actor Loss: 0.0647 VF Loss: 0.0727\n",
            "Episode: 490 Timestep: 145559 Total reward: 4.5 Episode length: 738.3 Actor Loss: -0.0363 VF Loss: 0.0859\n",
            "Episode: 500 Timestep: 155559 Total reward: 35.9 Episode length: 1000.0 Actor Loss: 0.0973 VF Loss: 0.0253\n",
            "Episode: 510 Timestep: 162499 Total reward: 69.1 Episode length: 694.0 Actor Loss: 0.0363 VF Loss: 0.1327\n",
            "Episode: 520 Timestep: 166453 Total reward: 126.3 Episode length: 395.4 Actor Loss: 0.0123 VF Loss: 0.1661\n",
            "Episode: 530 Timestep: 171554 Total reward: 156.3 Episode length: 510.1 Actor Loss: -0.0015 VF Loss: 0.0989\n",
            "Episode: 540 Timestep: 178589 Total reward: 33.0 Episode length: 703.5 Actor Loss: -0.1793 VF Loss: 0.1281\n",
            "Episode: 550 Timestep: 185191 Total reward: 25.8 Episode length: 660.2 Actor Loss: -0.1050 VF Loss: 0.0982\n",
            "Episode: 560 Timestep: 194818 Total reward: -55.5 Episode length: 962.7 Actor Loss: -0.1572 VF Loss: 0.0540\n",
            "Episode: 570 Timestep: 204818 Total reward: 17.7 Episode length: 1000.0 Actor Loss: 0.0349 VF Loss: 0.0239\n",
            "Episode: 580 Timestep: 214110 Total reward: 87.5 Episode length: 929.2 Actor Loss: 0.1165 VF Loss: 0.0441\n",
            "Episode: 590 Timestep: 223361 Total reward: 114.5 Episode length: 925.1 Actor Loss: 0.1225 VF Loss: 0.0557\n",
            "Episode: 600 Timestep: 231863 Total reward: 105.1 Episode length: 850.2 Actor Loss: 0.0672 VF Loss: 0.0531\n",
            "Episode: 610 Timestep: 241090 Total reward: 110.9 Episode length: 922.7 Actor Loss: -0.0085 VF Loss: 0.0458\n",
            "Episode: 620 Timestep: 248449 Total reward: 54.2 Episode length: 735.9 Actor Loss: -0.1198 VF Loss: 0.0718\n",
            "Episode: 630 Timestep: 257189 Total reward: -100.9 Episode length: 874.0 Actor Loss: -0.2104 VF Loss: 0.0805\n",
            "Episode: 640 Timestep: 266097 Total reward: -201.9 Episode length: 890.8 Actor Loss: -0.1592 VF Loss: 0.0510\n",
            "Episode: 650 Timestep: 276097 Total reward: -54.1 Episode length: 1000.0 Actor Loss: 0.0619 VF Loss: 0.0210\n",
            "Episode: 660 Timestep: 286097 Total reward: -25.4 Episode length: 1000.0 Actor Loss: 0.0652 VF Loss: 0.0293\n",
            "Episode: 670 Timestep: 296097 Total reward: -1.1 Episode length: 1000.0 Actor Loss: 0.0568 VF Loss: 0.0368\n",
            "Episode: 680 Timestep: 306097 Total reward: 2.1 Episode length: 1000.0 Actor Loss: 0.0551 VF Loss: 0.0278\n",
            "Episode: 690 Timestep: 315249 Total reward: 97.9 Episode length: 915.2 Actor Loss: 0.1518 VF Loss: 0.0986\n",
            "Episode: 700 Timestep: 322018 Total reward: 141.4 Episode length: 676.9 Actor Loss: 0.1622 VF Loss: 0.1556\n",
            "Episode: 710 Timestep: 328029 Total reward: 76.9 Episode length: 601.1 Actor Loss: 0.0556 VF Loss: 0.1431\n",
            "Episode: 720 Timestep: 337231 Total reward: 113.6 Episode length: 920.2 Actor Loss: 0.0616 VF Loss: 0.0666\n",
            "Episode: 730 Timestep: 344077 Total reward: 108.8 Episode length: 684.6 Actor Loss: 0.0598 VF Loss: 0.1766\n",
            "Episode: 740 Timestep: 352330 Total reward: 111.5 Episode length: 825.3 Actor Loss: 0.0735 VF Loss: 0.0853\n",
            "Episode: 750 Timestep: 354604 Total reward: 47.2 Episode length: 227.4 Actor Loss: -0.0386 VF Loss: 0.2134\n",
            "Episode: 760 Timestep: 361311 Total reward: 156.5 Episode length: 670.7 Actor Loss: 0.1338 VF Loss: 0.1452\n",
            "Episode: 770 Timestep: 367775 Total reward: 49.7 Episode length: 646.4 Actor Loss: -0.0699 VF Loss: 0.3194\n",
            "Stopping at episode 779 with average rewards of 190.9218347853053 in last 10 episodes\n"
          ]
        }
      ]
    },
    {
      "cell_type": "code",
      "source": [
        "# plot stats\n",
        "def get_running_stat(stat, stat_len):\n",
        "    cum_sum = np.cumsum(np.insert(stat, 0, 0)) \n",
        "    return (cum_sum[stat_len:] - cum_sum[:-stat_len]) / stat_len\n",
        "\n",
        "episode, r, l = np.array(stats_rewards_list).T\n",
        "cum_r = get_running_stat(r, 10)\n",
        "cum_l = get_running_stat(l, 10)\n",
        "\n",
        "# plot rewards\n",
        "plt.plot(episode[-len(cum_r):], cum_r)\n",
        "plt.plot(episode, r, alpha=0.5)\n",
        "plt.xlabel('Episode')\n",
        "plt.ylabel('Episode Reward')"
      ],
      "metadata": {
        "colab": {
          "base_uri": "https://localhost:8080/",
          "height": 296
        },
        "id": "GBufgWfKSZrR",
        "outputId": "54bc71a6-cf59-45d5-b60b-2eca0729838b"
      },
      "execution_count": null,
      "outputs": [
        {
          "output_type": "execute_result",
          "data": {
            "text/plain": [
              "Text(0, 0.5, 'Episode Reward')"
            ]
          },
          "metadata": {},
          "execution_count": 12
        },
        {
          "output_type": "display_data",
          "data": {
            "text/plain": [
              "<Figure size 432x288 with 1 Axes>"
            ],
            "image/png": "[encoded data removed]"
          },
          "metadata": {
            "needs_background": "light"
          }
        }
      ]
    },
    {
      "cell_type": "code",
      "source": [
        "# plot episode lengths\n",
        "plt.plot(episode[-len(cum_l):], cum_l)\n",
        "plt.plot(episode, l, alpha=0.5)\n",
        "plt.xlabel('Episode')\n",
        "plt.ylabel('Episode Length')"
      ],
      "metadata": {
        "colab": {
          "base_uri": "https://localhost:8080/",
          "height": 296
        },
        "id": "9mwkIcytSZt6",
        "outputId": "647c04f4-d987-4508-88df-f172e6737f6c"
      },
      "execution_count": null,
      "outputs": [
        {
          "output_type": "execute_result",
          "data": {
            "text/plain": [
              "Text(0, 0.5, 'Episode Length')"
            ]
          },
          "metadata": {},
          "execution_count": 13
        },
        {
          "output_type": "display_data",
          "data": {
            "text/plain": [
              "<Figure size 432x288 with 1 Axes>"
            ],
            "image/png": "[encoded data removed]"
          },
          "metadata": {
            "needs_background": "light"
          }
        }
      ]
    },
    {
      "cell_type": "code",
      "source": [],
      "metadata": {
        "id": "3V_ArAU3SZxV"
      },
      "execution_count": null,
      "outputs": []
    }
  ]
}