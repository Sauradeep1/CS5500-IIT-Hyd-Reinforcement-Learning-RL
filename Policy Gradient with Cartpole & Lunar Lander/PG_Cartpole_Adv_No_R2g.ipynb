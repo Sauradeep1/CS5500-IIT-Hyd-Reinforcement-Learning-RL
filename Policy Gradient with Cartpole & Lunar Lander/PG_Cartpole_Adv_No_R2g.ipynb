{
  "nbformat": 4,
  "nbformat_minor": 0,
  "metadata": {
    "colab": {
      "provenance": [],
      "collapsed_sections": []
    },
    "kernelspec": {
      "name": "python3",
      "display_name": "Python 3"
    },
    "language_info": {
      "name": "python"
    },
    "accelerator": "GPU",
    "gpuClass": "standard"
  },
  "cells": [
    {
      "cell_type": "code",
      "execution_count": 1,
      "metadata": {
        "id": "5R8pqM6eSOqZ"
      },
      "outputs": [],
      "source": [
        "import torch\n",
        "import torch.optim as optim\n",
        "import torch.nn as nn\n",
        "import torch.nn.functional as F\n",
        "import matplotlib.pyplot as plt\n",
        "import gym\n",
        "import numpy as np"
      ]
    },
    {
      "cell_type": "code",
      "source": [
        "# check and use GPU if available if not use CPU\n",
        "device = torch.device(\"cuda\" if torch.cuda.is_available() else \"cpu\")"
      ],
      "metadata": {
        "id": "1SMGYxmRSZha"
      },
      "execution_count": 2,
      "outputs": []
    },
    {
      "cell_type": "code",
      "source": [
        "!pip install gym[box2d]"
      ],
      "metadata": {
        "colab": {
          "base_uri": "https://localhost:8080/"
        },
        "id": "tf_UUkD1SriA",
        "outputId": "b5bfe08c-1cd1-4eb0-89b1-16b91865bde2"
      },
      "execution_count": 3,
      "outputs": [
        {
          "output_type": "stream",
          "name": "stdout",
          "text": [
            "Looking in indexes: https://pypi.org/simple, https://us-python.pkg.dev/colab-wheels/public/simple/\n",
            "Requirement already satisfied: gym[box2d] in /usr/local/lib/python3.7/dist-packages (0.25.2)\n",
            "Requirement already satisfied: numpy>=1.18.0 in /usr/local/lib/python3.7/dist-packages (from gym[box2d]) (1.21.6)\n",
            "Requirement already satisfied: gym-notices>=0.0.4 in /usr/local/lib/python3.7/dist-packages (from gym[box2d]) (0.0.8)\n",
            "Requirement already satisfied: cloudpickle>=1.2.0 in /usr/local/lib/python3.7/dist-packages (from gym[box2d]) (1.5.0)\n",
            "Requirement already satisfied: importlib-metadata>=4.8.0 in /usr/local/lib/python3.7/dist-packages (from gym[box2d]) (4.13.0)\n",
            "Collecting swig==4.*\n",
            "  Downloading swig-4.1.0-py2.py3-none-manylinux_2_5_x86_64.manylinux1_x86_64.whl (1.8 MB)\n",
            "\u001b[K     |████████████████████████████████| 1.8 MB 21.4 MB/s \n",
            "\u001b[?25hCollecting pygame==2.1.0\n",
            "  Downloading pygame-2.1.0-cp37-cp37m-manylinux_2_17_x86_64.manylinux2014_x86_64.whl (18.3 MB)\n",
            "\u001b[K     |████████████████████████████████| 18.3 MB 1.4 MB/s \n",
            "\u001b[?25hCollecting box2d-py==2.3.5\n",
            "  Downloading box2d_py-2.3.5-cp37-cp37m-manylinux1_x86_64.whl (2.1 MB)\n",
            "\u001b[K     |████████████████████████████████| 2.1 MB 45.0 MB/s \n",
            "\u001b[?25hRequirement already satisfied: typing-extensions>=3.6.4 in /usr/local/lib/python3.7/dist-packages (from importlib-metadata>=4.8.0->gym[box2d]) (4.1.1)\n",
            "Requirement already satisfied: zipp>=0.5 in /usr/local/lib/python3.7/dist-packages (from importlib-metadata>=4.8.0->gym[box2d]) (3.10.0)\n",
            "Installing collected packages: swig, pygame, box2d-py\n",
            "Successfully installed box2d-py-2.3.5 pygame-2.1.0 swig-4.1.0\n"
          ]
        }
      ]
    },
    {
      "cell_type": "markdown",
      "source": [
        "# USER INPUTs regarding environment name, reward-to-go functionality (true or false), advantage normalization functionality (true or false), number of iterations, batch size for PG etc"
      ],
      "metadata": {
        "id": "9DeFyF015EJP"
      }
    },
    {
      "cell_type": "code",
      "source": [
        "\n",
        "def get_inputs(option_1, option_2, message):\n",
        "  \"\"\" as per the user input selects either Option 1 or 2 .\n",
        "  In case of wrong input, automatically calls itself with same parameters again \"\"\"\n",
        "  print(message)\n",
        "  variable = input()\n",
        "  try :\n",
        "    try :\n",
        "      variable = int(variable.strip())# if input like -->1\n",
        "    except :\n",
        "      variable = float(variable.strip())# if input like -->1.0\n",
        "    finally :\n",
        "      if variable ==1 :\n",
        "        variable = option_1\n",
        "        print('You have selected {}'.format(variable))\n",
        "        \n",
        "      elif variable ==2:\n",
        "        variable = option_2\n",
        "        print('You have selected {}'.format(variable))\n",
        "      else :\n",
        "        print(\"You have entered a wrong number. Please enter either 1 or 2\")\n",
        "        get_inputs(variable, option_1, option_2)\n",
        "    \n",
        "  except : \n",
        "    print('You entered an invalid input. Please Enter Either 1 or 2.Please Retry')\n",
        "    get_inputs(variable, option_1, option_2)\n",
        "  return variable\n",
        "message = 'For Cartpole Enter 1 , for Lunar Lander Enter 2 '\n",
        "environment = get_inputs( 'CartPole-v0', 'LunarLander-v2', message)"
      ],
      "metadata": {
        "colab": {
          "base_uri": "https://localhost:8080/"
        },
        "id": "faHFrsOM4_la",
        "outputId": "4147c20d-79c4-4c8d-ae51-4a8efce39786"
      },
      "execution_count": 4,
      "outputs": [
        {
          "output_type": "stream",
          "name": "stdout",
          "text": [
            "For Cartpole Enter 1 , for Lunar Lander Enter 2 \n",
            "1\n",
            "You have selected CartPole-v0\n"
          ]
        }
      ]
    },
    {
      "cell_type": "code",
      "source": [
        "message = 'If you want to do Advantage Normalization Press 1 , Else Press 2 '\n",
        "adv_norm = get_inputs( 'adv_norm', 'None', message)\n",
        "\n",
        "message = 'If you want to do Reward to Go functionality Press 1 , Else Press 2 '\n",
        "r2go = get_inputs( 'r2go', 'None', message)"
      ],
      "metadata": {
        "colab": {
          "base_uri": "https://localhost:8080/"
        },
        "id": "-uAfas2JoAG3",
        "outputId": "514da0dc-7c8d-4a14-f4ff-6f7f131381fc"
      },
      "execution_count": 5,
      "outputs": [
        {
          "output_type": "stream",
          "name": "stdout",
          "text": [
            "If you want to do Advantage Normalization Press 1 , Else Press 2 \n",
            "2\n",
            "You have selected None\n",
            "If you want to do Reward to Go functionality Press 1 , Else Press 2 \n",
            "1\n",
            "You have selected r2go\n"
          ]
        }
      ]
    },
    {
      "cell_type": "code",
      "source": [
        "num_iterations = input('Enter the number of episodes /Iterations in digits e.g. 5000--->')\n",
        "num_iterations = int(num_iterations.strip())\n",
        "print('num_iterations You Selected is -->  {}'.format(num_iterations))"
      ],
      "metadata": {
        "colab": {
          "base_uri": "https://localhost:8080/"
        },
        "id": "iyWfCApdl-xW",
        "outputId": "1122fc31-306e-4cfd-d221-55ceb7d62139"
      },
      "execution_count": 6,
      "outputs": [
        {
          "output_type": "stream",
          "name": "stdout",
          "text": [
            "Enter the number of episodes /Iterations in digits e.g. 5000--->2000\n",
            "num_iterations You Selected is -->  2000\n"
          ]
        }
      ]
    },
    {
      "cell_type": "code",
      "source": [
        "env = gym.make(environment)\n",
        "print(environment)\n",
        "env.reset()\n",
        "#action_size = env.action_space.n\n",
        "#state_size = env.observation_space.shape[0]\n",
        "print('Action Space-->',env.action_space)\n",
        "print('Observation Space-->',env.observation_space)\n",
        "print('reward range-->',env.reward_range)\n",
        "print('Meta data --> ',env.metadata)\n",
        "print('Specifications -->',env.spec)\n",
        "# set seed\n",
        "prev_screen = env.render(mode='rgb_array')\n",
        "plt.imshow(prev_screen)\n",
        "try :\n",
        "  for i in range(200):\n",
        "      env.render()\n",
        "      action = env.action_space.sample()\n",
        "      obs, reward, done, info = env.step(action)\n",
        "      if done:\n",
        "          env.reset()\n",
        "except :\n",
        "  pass\n",
        "        \n",
        "env.close()"
      ],
      "metadata": {
        "colab": {
          "base_uri": "https://localhost:8080/",
          "height": 619
        },
        "id": "Gwnex4KcSZj5",
        "outputId": "06f5ea85-acfd-49a7-de37-42f69cde4221"
      },
      "execution_count": 7,
      "outputs": [
        {
          "output_type": "stream",
          "name": "stdout",
          "text": [
            "CartPole-v0\n",
            "Action Space--> Discrete(2)\n",
            "Observation Space--> Box([-4.8000002e+00 -3.4028235e+38 -4.1887903e-01 -3.4028235e+38], [4.8000002e+00 3.4028235e+38 4.1887903e-01 3.4028235e+38], (4,), float32)\n",
            "reward range--> (-inf, inf)\n",
            "Meta data -->  {'render_modes': ['human', 'rgb_array', 'single_rgb_array'], 'render_fps': 50}\n",
            "Specifications --> EnvSpec(id='CartPole-v0', entry_point='gym.envs.classic_control.cartpole:CartPoleEnv', reward_threshold=195.0, nondeterministic=False, max_episode_steps=200, order_enforce=True, autoreset=False, disable_env_checker=False, new_step_api=False, kwargs={}, namespace=None, name='CartPole', version=0)\n"
          ]
        },
        {
          "output_type": "stream",
          "name": "stderr",
          "text": [
            "/usr/local/lib/python3.7/dist-packages/gym/envs/registration.py:594: UserWarning: \u001b[33mWARN: The environment CartPole-v0 is out of date. You should consider upgrading to version `v1`.\u001b[0m\n",
            "  f\"The environment {id} is out of date. You should consider \"\n",
            "/usr/local/lib/python3.7/dist-packages/gym/core.py:318: DeprecationWarning: \u001b[33mWARN: Initializing wrapper in old step API which returns one bool instead of two. It is recommended to set `new_step_api=True` to use new step API. This will be the default behaviour in future.\u001b[0m\n",
            "  \"Initializing wrapper in old step API which returns one bool instead of two. It is recommended to set `new_step_api=True` to use new step API. This will be the default behaviour in future.\"\n",
            "/usr/local/lib/python3.7/dist-packages/gym/wrappers/step_api_compatibility.py:40: DeprecationWarning: \u001b[33mWARN: Initializing environment in old step API which returns one bool instead of two. It is recommended to set `new_step_api=True` to use new step API. This will be the default behaviour in future.\u001b[0m\n",
            "  \"Initializing environment in old step API which returns one bool instead of two. It is recommended to set `new_step_api=True` to use new step API. This will be the default behaviour in future.\"\n",
            "/usr/local/lib/python3.7/dist-packages/gym/core.py:44: DeprecationWarning: \u001b[33mWARN: The argument mode in render method is deprecated; use render_mode during environment initialization instead.\n",
            "See here for more information: https://www.gymlibrary.ml/content/api/\u001b[0m\n",
            "  \"The argument mode in render method is deprecated; \"\n",
            "/usr/local/lib/python3.7/dist-packages/gym/core.py:50: DeprecationWarning: \u001b[33mWARN: You are calling render method, but you didn't specified the argument render_mode at environment initialization. To maintain backward compatibility, the environment will render in human mode.\n",
            "If you want to render in human mode, initialize the environment in this way: gym.make('EnvName', render_mode='human') and don't call the render method.\n",
            "See here for more information: https://www.gymlibrary.ml/content/api/\u001b[0m\n",
            "  \"You are calling render method, \"\n"
          ]
        },
        {
          "output_type": "display_data",
          "data": {
            "text/plain": [
              "<Figure size 432x288 with 1 Axes>"
            ],
            "image/png": "[encoded data removed]"
          },
          "metadata": {
            "needs_background": "light"
          }
        }
      ]
    },
    {
      "cell_type": "code",
      "source": [
        "class ActorNet(nn.Module):\n",
        "    def __init__(self, state_size, action_size, hidden_size):\n",
        "        super(ActorNet, self).__init__()\n",
        "        self.dense_layer_1 = nn.Linear(state_size, hidden_size)\n",
        "        self.dense_layer_2 = nn.Linear(hidden_size, hidden_size)\n",
        "        self.output = nn.Linear(hidden_size, action_size)\n",
        "    \n",
        "    def forward(self, x):\n",
        "        x = torch.clamp(x,-1.1,1.1)\n",
        "        x = F.relu(self.dense_layer_1(x))\n",
        "        x = F.relu(self.dense_layer_2(x))\n",
        "        return F.softmax(self.output(x),dim=-1) #-1 to take softmax of last dimension\n",
        "    \n",
        "class ValueFunctionNet(nn.Module):\n",
        "    def __init__(self, state_size, hidden_size):\n",
        "        super(ValueFunctionNet, self).__init__()\n",
        "        self.dense_layer_1 = nn.Linear(state_size, hidden_size)\n",
        "        self.dense_layer_2 = nn.Linear(hidden_size, hidden_size)\n",
        "        self.output = nn.Linear(hidden_size, 1)\n",
        "    \n",
        "    def forward(self, x):\n",
        "        x = torch.clamp(x,-1.1,1.1)\n",
        "        x = F.relu(self.dense_layer_1(x))\n",
        "        x = F.relu(self.dense_layer_2(x))\n",
        "        return self.output(x)"
      ],
      "metadata": {
        "id": "kpI4VzLaS9Ce"
      },
      "execution_count": 8,
      "outputs": []
    },
    {
      "cell_type": "code",
      "source": [
        "class PGAgent():\n",
        "    def __init__(self, state_size, action_size, hidden_size, actor_lr, vf_lr, discount ):\n",
        "        self.action_size = action_size\n",
        "        self.actor_net = ActorNet(state_size, action_size, hidden_size).to(device)\n",
        "        self.vf_net = ValueFunctionNet(state_size, hidden_size).to(device)\n",
        "        self.actor_optimizer = optim.Adam(self.actor_net.parameters(), lr=actor_lr)\n",
        "        self.vf_optimizer = optim.Adam(self.vf_net.parameters(), lr=vf_lr)\n",
        "        self.discount = discount\n",
        "        \n",
        "    def select_action(self, state):\n",
        "        #get action probs then randomly sample from the probabilities\n",
        "        with torch.no_grad():\n",
        "            input_state = torch.FloatTensor(state).to(device)\n",
        "            action_probs = self.actor_net(input_state)\n",
        "            #detach and turn to numpy to use with np.random.choice()\n",
        "            action_probs = action_probs.detach().cpu().numpy()\n",
        "            action = np.random.choice(np.arange(self.action_size), p=action_probs)\n",
        "        return action\n",
        "\n",
        "    def train(self, state_list, action_list, reward_list):\n",
        "        \n",
        "        #turn rewards into return\n",
        "        trajectory_len = len(reward_list)\n",
        "        return_array = np.zeros((trajectory_len,))\n",
        "        g_return = 0.\n",
        "        if r2go == 'r2go':\n",
        "          for i in range(trajectory_len-1,-1,-1):\n",
        "              g_return = reward_list[i] + self.discount*g_return\n",
        "              \n",
        "              return_array[i] = g_return\n",
        "        elif r2go == 'None' :\n",
        "          for i in range(trajectory_len):\n",
        "            return_array = reward_list[i] + self.discount*g_return\n",
        "\n",
        "            \n",
        "        # create tensors\n",
        "        state_t = torch.FloatTensor(state_list).to(device)\n",
        "        action_t = torch.LongTensor(action_list).to(device).view(-1,1)\n",
        "        return_t = torch.FloatTensor(return_array).to(device).view(-1,1)\n",
        "        \n",
        "        # get value function estimates\n",
        "        vf_t = self.vf_net(state_t).to(device)\n",
        "        with torch.no_grad():\n",
        "            advantage_t = return_t - vf_t\n",
        "            if adv_norm == 'adv_norm':\n",
        "              advantage_t = (advantage_t - np.mean(advantage_t)) / (np.std(advantage_t) + 1e-10) #Advantage normalization\n",
        "        \n",
        "        # calculate actor loss\n",
        "        selected_action_prob = self.actor_net(state_t).gather(1, action_t)\n",
        "        # REINFORCE loss:\n",
        "        #actor_loss = torch.mean(-torch.log(selected_action_prob) * return_t)\n",
        "        # REINFORCE Baseline loss:\n",
        "        actor_loss = torch.mean(-torch.log(selected_action_prob) * advantage_t)\n",
        "        self.actor_optimizer.zero_grad()\n",
        "        actor_loss.backward()\n",
        "        self.actor_optimizer.step() \n",
        "\n",
        "        # calculate vf loss\n",
        "        loss_fn = nn.MSELoss()\n",
        "        vf_loss = loss_fn(vf_t, return_t)\n",
        "        self.vf_optimizer.zero_grad()\n",
        "        vf_loss.backward()\n",
        "        self.vf_optimizer.step() \n",
        "        \n",
        "        return actor_loss.detach().cpu().numpy(), vf_loss.detach().cpu().numpy()"
      ],
      "metadata": {
        "id": "ui9-7K0NSZmW"
      },
      "execution_count": 9,
      "outputs": []
    },
    {
      "cell_type": "code",
      "source": [
        "action_size = env.action_space.n\n",
        "state_size = env.observation_space.shape[0]\n",
        "\n",
        "# set seed\n",
        "seed = 31\n",
        "env.seed(seed)\n",
        "np.random.seed(seed)\n",
        "torch.manual_seed(seed)\n",
        "if torch.cuda.is_available():\n",
        "    torch.cuda.manual_seed(seed)\n",
        "    torch.cuda.manual_seed_all(seed)\n",
        "\n",
        "# hyperparameters\n",
        "episodes = num_iterations#5000 # run agent for this many episodes # USER INPUT \n",
        "hidden_size = 256 # number of units in NN hidden layers\n",
        "actor_lr = 0.002 # learning rate for actor\n",
        "value_function_lr = 0.002 # learning rate for value function\n",
        "discount = 0.99 # discount factor gamma value\n",
        "reward_scale = 0.01 #scale reward by this amount\n",
        "\n",
        "# create agent\n",
        "agent = PGAgent(state_size, action_size, hidden_size, actor_lr, value_function_lr, discount)"
      ],
      "metadata": {
        "colab": {
          "base_uri": "https://localhost:8080/"
        },
        "id": "XSsITXy1TE_s",
        "outputId": "7365238e-3a38-4404-ff22-f5ded5e4b40d"
      },
      "execution_count": 10,
      "outputs": [
        {
          "output_type": "stream",
          "name": "stderr",
          "text": [
            "/usr/local/lib/python3.7/dist-packages/gym/core.py:257: DeprecationWarning: \u001b[33mWARN: Function `env.seed(seed)` is marked as deprecated and will be removed in the future. Please use `env.reset(seed=seed)` instead.\u001b[0m\n",
            "  \"Function `env.seed(seed)` is marked as deprecated and will be removed in the future. \"\n"
          ]
        }
      ]
    },
    {
      "cell_type": "code",
      "source": [
        "stats_rewards_list = [] # store stats for plotting in this\n",
        "stats_every = 10 # print stats every this many episodes\n",
        "total_reward = 0\n",
        "timesteps = 0\n",
        "episode_length = 0\n",
        "stats_actor_loss, stats_vf_loss = 0., 0.\n",
        "\n",
        "for ep in range(episodes):\n",
        "    state = env.reset()\n",
        "    state_list, action_list, reward_list = [], [], []\n",
        "    \n",
        "    # stopping condition for training if agent reaches the amount of reward\n",
        "    if len(stats_rewards_list) > stats_every and np.mean(stats_rewards_list[-stats_every:],axis=0)[1] > 190:\n",
        "        print(\"Stopping at episode {} with average rewards of {} in last {} episodes\".\n",
        "            format(ep, np.mean(stats_rewards_list[-stats_every:],axis=0)[1], stats_every))\n",
        "        break  \n",
        "\n",
        "    # train in each episode until episode is done\n",
        "    while True:\n",
        "        timesteps += 1\n",
        "        #env.render()\n",
        "        # select an action from the agent's policy\n",
        "        action = agent.select_action(state)\n",
        "        \n",
        "        # enter action into the env\n",
        "        next_state, reward, done, _ = env.step(action)\n",
        "        total_reward += reward\n",
        "        episode_length += 1\n",
        "        # store agent's trajectory\n",
        "        state_list.append(state)\n",
        "        action_list.append(action)\n",
        "        reward_list.append(reward*reward_scale)\n",
        "        \n",
        "        # end episode early\n",
        "        if total_reward < -250:\n",
        "            done = 1\n",
        "        \n",
        "        if done:\n",
        "            actor_loss, vf_loss = agent.train(state_list, action_list, reward_list)\n",
        "            stats_rewards_list.append((ep, total_reward, episode_length))\n",
        "            stats_actor_loss += actor_loss\n",
        "            stats_vf_loss += vf_loss\n",
        "            total_reward = 0\n",
        "            episode_length = 0  \n",
        "            if ep % stats_every == 0:\n",
        "                print('Episode: {}'.format(ep),\n",
        "                    'Timestep: {}'.format(timesteps),\n",
        "                    'Total reward: {:.1f}'.format(np.mean(stats_rewards_list[-stats_every:],axis=0)[1]),\n",
        "                    'Episode length: {:.1f}'.format(np.mean(stats_rewards_list[-stats_every:],axis=0)[2]),\n",
        "                    'Actor Loss: {:.4f}'.format(stats_actor_loss/stats_every), \n",
        "                    'VF Loss: {:.4f}'.format(stats_vf_loss/stats_every))\n",
        "                stats_actor_loss, stats_vf_loss = 0., 0.\n",
        "            break\n",
        "        \n",
        "        state = next_state"
      ],
      "metadata": {
        "colab": {
          "base_uri": "https://localhost:8080/"
        },
        "id": "aUrlxSs3SZou",
        "outputId": "5bac62fd-fd43-46a3-977f-6cb0bf92b3d9"
      },
      "execution_count": 11,
      "outputs": [
        {
          "output_type": "stream",
          "name": "stderr",
          "text": [
            "/usr/local/lib/python3.7/dist-packages/ipykernel_launcher.py:37: UserWarning: Creating a tensor from a list of numpy.ndarrays is extremely slow. Please consider converting the list to a single numpy.ndarray with numpy.array() before converting to a tensor. (Triggered internally at  ../torch/csrc/utils/tensor_new.cpp:201.)\n"
          ]
        },
        {
          "output_type": "stream",
          "name": "stdout",
          "text": [
            "Episode: 0 Timestep: 21 Total reward: 21.0 Episode length: 21.0 Actor Loss: 0.0189 VF Loss: 0.0075\n",
            "Episode: 10 Timestep: 180 Total reward: 15.9 Episode length: 15.9 Actor Loss: -0.0177 VF Loss: 0.0149\n",
            "Episode: 20 Timestep: 349 Total reward: 16.9 Episode length: 16.9 Actor Loss: 0.0166 VF Loss: 0.0041\n",
            "Episode: 30 Timestep: 502 Total reward: 15.3 Episode length: 15.3 Actor Loss: -0.0051 VF Loss: 0.0016\n",
            "Episode: 40 Timestep: 657 Total reward: 15.5 Episode length: 15.5 Actor Loss: -0.0037 VF Loss: 0.0012\n",
            "Episode: 50 Timestep: 962 Total reward: 30.5 Episode length: 30.5 Actor Loss: -0.0015 VF Loss: 0.0091\n",
            "Episode: 60 Timestep: 1507 Total reward: 54.5 Episode length: 54.5 Actor Loss: 0.0138 VF Loss: 0.0279\n",
            "Episode: 70 Timestep: 2043 Total reward: 53.6 Episode length: 53.6 Actor Loss: 0.0040 VF Loss: 0.0279\n",
            "Episode: 80 Timestep: 3046 Total reward: 100.3 Episode length: 100.3 Actor Loss: 0.0147 VF Loss: 0.0369\n",
            "Episode: 90 Timestep: 4684 Total reward: 163.8 Episode length: 163.8 Actor Loss: -0.0142 VF Loss: 0.0338\n",
            "Episode: 100 Timestep: 6410 Total reward: 172.6 Episode length: 172.6 Actor Loss: -0.0111 VF Loss: 0.0606\n",
            "Episode: 110 Timestep: 8038 Total reward: 162.8 Episode length: 162.8 Actor Loss: 0.0035 VF Loss: 0.0325\n",
            "Episode: 120 Timestep: 9858 Total reward: 182.0 Episode length: 182.0 Actor Loss: -0.0058 VF Loss: 0.0359\n",
            "Stopping at episode 128 with average rewards of 191.7 in last 10 episodes\n"
          ]
        }
      ]
    },
    {
      "cell_type": "code",
      "source": [
        "# plot stats\n",
        "def get_running_stat(stat, stat_len):\n",
        "    cum_sum = np.cumsum(np.insert(stat, 0, 0)) \n",
        "    return (cum_sum[stat_len:] - cum_sum[:-stat_len]) / stat_len\n",
        "\n",
        "episode, r, l = np.array(stats_rewards_list).T\n",
        "cum_r = get_running_stat(r, 10)\n",
        "cum_l = get_running_stat(l, 10)\n",
        "\n",
        "# plot rewards\n",
        "plt.plot(episode[-len(cum_r):], cum_r)\n",
        "plt.plot(episode, r, alpha=0.5)\n",
        "plt.xlabel('Episode')\n",
        "plt.ylabel('Episode Reward')"
      ],
      "metadata": {
        "colab": {
          "base_uri": "https://localhost:8080/",
          "height": 296
        },
        "id": "GBufgWfKSZrR",
        "outputId": "4997d2cd-2482-4440-ac8d-5d67bb03e872"
      },
      "execution_count": 12,
      "outputs": [
        {
          "output_type": "execute_result",
          "data": {
            "text/plain": [
              "Text(0, 0.5, 'Episode Reward')"
            ]
          },
          "metadata": {},
          "execution_count": 12
        },
        {
          "output_type": "display_data",
          "data": {
            "text/plain": [
              "<Figure size 432x288 with 1 Axes>"
            ],
            "image/png": "[encoded data removed]"
          },
          "metadata": {
            "needs_background": "light"
          }
        }
      ]
    },
    {
      "cell_type": "code",
      "source": [
        "# plot episode lengths\n",
        "plt.plot(episode[-len(cum_l):], cum_l)\n",
        "plt.plot(episode, l, alpha=0.5)\n",
        "plt.xlabel('Episode')\n",
        "plt.ylabel('Episode Length')"
      ],
      "metadata": {
        "colab": {
          "base_uri": "https://localhost:8080/",
          "height": 296
        },
        "id": "9mwkIcytSZt6",
        "outputId": "da6088fd-89a5-42aa-bce9-ce3ad1afeaf7"
      },
      "execution_count": 13,
      "outputs": [
        {
          "output_type": "execute_result",
          "data": {
            "text/plain": [
              "Text(0, 0.5, 'Episode Length')"
            ]
          },
          "metadata": {},
          "execution_count": 13
        },
        {
          "output_type": "display_data",
          "data": {
            "text/plain": [
              "<Figure size 432x288 with 1 Axes>"
            ],
            "image/png": "[encoded data removed]"
          },
          "metadata": {
            "needs_background": "light"
          }
        }
      ]
    },
    {
      "cell_type": "code",
      "source": [],
      "metadata": {
        "id": "3V_ArAU3SZxV"
      },
      "execution_count": 13,
      "outputs": []
    }
  ]
}