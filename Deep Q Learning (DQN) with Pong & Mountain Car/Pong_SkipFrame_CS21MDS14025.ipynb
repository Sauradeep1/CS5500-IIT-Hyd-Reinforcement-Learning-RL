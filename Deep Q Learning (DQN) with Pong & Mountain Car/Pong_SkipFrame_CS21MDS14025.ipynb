{
  "cells": [
    {
      "cell_type": "code",
      "execution_count": null,
      "metadata": {
        "colab": {
          "base_uri": "https://localhost:8080/",
          "height": 1000
        },
        "id": "sUwTv1Wf30hi",
        "outputId": "c6ae34e9-4ab0-4142-df87-d550afc49ee7"
      },
      "outputs": [
        {
          "output_type": "stream",
          "name": "stdout",
          "text": [
            "Looking in indexes: https://pypi.org/simple, https://us-python.pkg.dev/colab-wheels/public/simple/\n",
            "Requirement already satisfied: gym[all] in /usr/local/lib/python3.7/dist-packages (0.25.2)\n",
            "Requirement already satisfied: importlib-metadata>=4.8.0 in /usr/local/lib/python3.7/dist-packages (from gym[all]) (4.13.0)\n",
            "Requirement already satisfied: cloudpickle>=1.2.0 in /usr/local/lib/python3.7/dist-packages (from gym[all]) (1.5.0)\n",
            "Requirement already satisfied: numpy>=1.18.0 in /usr/local/lib/python3.7/dist-packages (from gym[all]) (1.21.6)\n",
            "Requirement already satisfied: gym-notices>=0.0.4 in /usr/local/lib/python3.7/dist-packages (from gym[all]) (0.0.8)\n",
            "Collecting mujoco-py<2.2,>=2.1\n",
            "  Downloading mujoco_py-2.1.2.14-py3-none-any.whl (2.4 MB)\n",
            "\u001b[K     |████████████████████████████████| 2.4 MB 4.7 MB/s \n",
            "\u001b[?25hCollecting imageio>=2.14.1\n",
            "  Downloading imageio-2.22.2-py3-none-any.whl (3.4 MB)\n",
            "\u001b[K     |████████████████████████████████| 3.4 MB 54.9 MB/s \n",
            "\u001b[?25hCollecting swig==4.*\n",
            "  Downloading swig-4.1.0-py2.py3-none-manylinux_2_5_x86_64.manylinux1_x86_64.whl (1.8 MB)\n",
            "\u001b[K     |████████████████████████████████| 1.8 MB 53.7 MB/s \n",
            "\u001b[?25hCollecting mujoco==2.2.0\n",
            "  Downloading mujoco-2.2.0-cp37-cp37m-manylinux_2_17_x86_64.manylinux2014_x86_64.whl (3.5 MB)\n",
            "\u001b[K     |████████████████████████████████| 3.5 MB 54.0 MB/s \n",
            "\u001b[?25hRequirement already satisfied: opencv-python>=3.0 in /usr/local/lib/python3.7/dist-packages (from gym[all]) (4.6.0.66)\n",
            "Collecting pygame==2.1.0\n",
            "  Downloading pygame-2.1.0-cp37-cp37m-manylinux_2_17_x86_64.manylinux2014_x86_64.whl (18.3 MB)\n",
            "\u001b[K     |████████████████████████████████| 18.3 MB 45.0 MB/s \n",
            "\u001b[?25hRequirement already satisfied: matplotlib>=3.0 in /usr/local/lib/python3.7/dist-packages (from gym[all]) (3.2.2)\n",
            "Collecting lz4>=3.1.0\n",
            "  Downloading lz4-4.0.2-cp37-cp37m-manylinux_2_17_x86_64.manylinux2014_x86_64.whl (1.2 MB)\n",
            "\u001b[K     |████████████████████████████████| 1.2 MB 60.6 MB/s \n",
            "\u001b[?25hCollecting box2d-py==2.3.5\n",
            "  Downloading box2d_py-2.3.5-cp37-cp37m-manylinux1_x86_64.whl (2.1 MB)\n",
            "\u001b[K     |████████████████████████████████| 2.1 MB 57.1 MB/s \n",
            "\u001b[?25hCollecting pytest==7.0.1\n",
            "  Downloading pytest-7.0.1-py3-none-any.whl (296 kB)\n",
            "\u001b[K     |████████████████████████████████| 296 kB 54.5 MB/s \n",
            "\u001b[?25hCollecting ale-py~=0.7.5\n",
            "  Downloading ale_py-0.7.5-cp37-cp37m-manylinux_2_17_x86_64.manylinux2014_x86_64.whl (1.6 MB)\n",
            "\u001b[K     |████████████████████████████████| 1.6 MB 49.2 MB/s \n",
            "\u001b[?25hRequirement already satisfied: pyopengl in /usr/local/lib/python3.7/dist-packages (from mujoco==2.2.0->gym[all]) (3.1.6)\n",
            "Collecting glfw\n",
            "  Downloading glfw-2.5.5-py2.py27.py3.py30.py31.py32.py33.py34.py35.py36.py37.py38-none-manylinux2014_x86_64.whl (207 kB)\n",
            "\u001b[K     |████████████████████████████████| 207 kB 71.2 MB/s \n",
            "\u001b[?25hRequirement already satisfied: absl-py in /usr/local/lib/python3.7/dist-packages (from mujoco==2.2.0->gym[all]) (1.3.0)\n",
            "Requirement already satisfied: attrs>=19.2.0 in /usr/local/lib/python3.7/dist-packages (from pytest==7.0.1->gym[all]) (22.1.0)\n",
            "Requirement already satisfied: tomli>=1.0.0 in /usr/local/lib/python3.7/dist-packages (from pytest==7.0.1->gym[all]) (2.0.1)\n",
            "Collecting pluggy<2.0,>=0.12\n",
            "  Downloading pluggy-1.0.0-py2.py3-none-any.whl (13 kB)\n",
            "Collecting iniconfig\n",
            "  Downloading iniconfig-1.1.1-py2.py3-none-any.whl (5.0 kB)\n",
            "Requirement already satisfied: py>=1.8.2 in /usr/local/lib/python3.7/dist-packages (from pytest==7.0.1->gym[all]) (1.11.0)\n",
            "Requirement already satisfied: packaging in /usr/local/lib/python3.7/dist-packages (from pytest==7.0.1->gym[all]) (21.3)\n",
            "Requirement already satisfied: importlib-resources in /usr/local/lib/python3.7/dist-packages (from ale-py~=0.7.5->gym[all]) (5.10.0)\n",
            "Collecting pillow>=8.3.2\n",
            "  Downloading Pillow-9.2.0-cp37-cp37m-manylinux_2_17_x86_64.manylinux2014_x86_64.whl (3.1 MB)\n",
            "\u001b[K     |████████████████████████████████| 3.1 MB 53.7 MB/s \n",
            "\u001b[?25hRequirement already satisfied: zipp>=0.5 in /usr/local/lib/python3.7/dist-packages (from importlib-metadata>=4.8.0->gym[all]) (3.9.0)\n",
            "Requirement already satisfied: typing-extensions>=3.6.4 in /usr/local/lib/python3.7/dist-packages (from importlib-metadata>=4.8.0->gym[all]) (4.1.1)\n",
            "Requirement already satisfied: python-dateutil>=2.1 in /usr/local/lib/python3.7/dist-packages (from matplotlib>=3.0->gym[all]) (2.8.2)\n",
            "Requirement already satisfied: pyparsing!=2.0.4,!=2.1.2,!=2.1.6,>=2.0.1 in /usr/local/lib/python3.7/dist-packages (from matplotlib>=3.0->gym[all]) (3.0.9)\n",
            "Requirement already satisfied: cycler>=0.10 in /usr/local/lib/python3.7/dist-packages (from matplotlib>=3.0->gym[all]) (0.11.0)\n",
            "Requirement already satisfied: kiwisolver>=1.0.1 in /usr/local/lib/python3.7/dist-packages (from matplotlib>=3.0->gym[all]) (1.4.4)\n",
            "Requirement already satisfied: cffi>=1.10 in /usr/local/lib/python3.7/dist-packages (from mujoco-py<2.2,>=2.1->gym[all]) (1.15.1)\n",
            "Collecting fasteners~=0.15\n",
            "  Downloading fasteners-0.18-py3-none-any.whl (18 kB)\n",
            "Requirement already satisfied: Cython>=0.27.2 in /usr/local/lib/python3.7/dist-packages (from mujoco-py<2.2,>=2.1->gym[all]) (0.29.32)\n",
            "Requirement already satisfied: pycparser in /usr/local/lib/python3.7/dist-packages (from cffi>=1.10->mujoco-py<2.2,>=2.1->gym[all]) (2.21)\n",
            "Requirement already satisfied: six>=1.5 in /usr/local/lib/python3.7/dist-packages (from python-dateutil>=2.1->matplotlib>=3.0->gym[all]) (1.15.0)\n",
            "Installing collected packages: pillow, pluggy, iniconfig, imageio, glfw, fasteners, swig, pytest, pygame, mujoco-py, mujoco, lz4, box2d-py, ale-py\n",
            "  Attempting uninstall: pillow\n",
            "    Found existing installation: Pillow 7.1.2\n",
            "    Uninstalling Pillow-7.1.2:\n",
            "      Successfully uninstalled Pillow-7.1.2\n",
            "  Attempting uninstall: pluggy\n",
            "    Found existing installation: pluggy 0.7.1\n",
            "    Uninstalling pluggy-0.7.1:\n",
            "      Successfully uninstalled pluggy-0.7.1\n",
            "  Attempting uninstall: imageio\n",
            "    Found existing installation: imageio 2.9.0\n",
            "    Uninstalling imageio-2.9.0:\n",
            "      Successfully uninstalled imageio-2.9.0\n",
            "  Attempting uninstall: pytest\n",
            "    Found existing installation: pytest 3.6.4\n",
            "    Uninstalling pytest-3.6.4:\n",
            "      Successfully uninstalled pytest-3.6.4\n",
            "Successfully installed ale-py-0.7.5 box2d-py-2.3.5 fasteners-0.18 glfw-2.5.5 imageio-2.22.2 iniconfig-1.1.1 lz4-4.0.2 mujoco-2.2.0 mujoco-py-2.1.2.14 pillow-9.2.0 pluggy-1.0.0 pygame-2.1.0 pytest-7.0.1 swig-4.1.0\n"
          ]
        },
        {
          "output_type": "display_data",
          "data": {
            "application/vnd.colab-display-data+json": {
              "pip_warning": {
                "packages": [
                  "PIL"
                ]
              }
            }
          },
          "metadata": {}
        },
        {
          "output_type": "stream",
          "name": "stdout",
          "text": [
            "Looking in indexes: https://pypi.org/simple, https://us-python.pkg.dev/colab-wheels/public/simple/\n",
            "Requirement already satisfied: gym[accept-rom-license] in /usr/local/lib/python3.7/dist-packages (0.25.2)\n",
            "Requirement already satisfied: gym-notices>=0.0.4 in /usr/local/lib/python3.7/dist-packages (from gym[accept-rom-license]) (0.0.8)\n",
            "Requirement already satisfied: cloudpickle>=1.2.0 in /usr/local/lib/python3.7/dist-packages (from gym[accept-rom-license]) (1.5.0)\n",
            "Requirement already satisfied: numpy>=1.18.0 in /usr/local/lib/python3.7/dist-packages (from gym[accept-rom-license]) (1.21.6)\n",
            "Requirement already satisfied: importlib-metadata>=4.8.0 in /usr/local/lib/python3.7/dist-packages (from gym[accept-rom-license]) (4.13.0)\n",
            "Collecting autorom[accept-rom-license]~=0.4.2\n",
            "  Downloading AutoROM-0.4.2-py3-none-any.whl (16 kB)\n",
            "Requirement already satisfied: importlib-resources in /usr/local/lib/python3.7/dist-packages (from autorom[accept-rom-license]~=0.4.2->gym[accept-rom-license]) (5.10.0)\n",
            "Requirement already satisfied: requests in /usr/local/lib/python3.7/dist-packages (from autorom[accept-rom-license]~=0.4.2->gym[accept-rom-license]) (2.23.0)\n",
            "Requirement already satisfied: tqdm in /usr/local/lib/python3.7/dist-packages (from autorom[accept-rom-license]~=0.4.2->gym[accept-rom-license]) (4.64.1)\n",
            "Requirement already satisfied: click in /usr/local/lib/python3.7/dist-packages (from autorom[accept-rom-license]~=0.4.2->gym[accept-rom-license]) (7.1.2)\n",
            "Collecting AutoROM.accept-rom-license\n",
            "  Downloading AutoROM.accept-rom-license-0.4.2.tar.gz (9.8 kB)\n",
            "  Installing build dependencies ... \u001b[?25l\u001b[?25hdone\n",
            "  Getting requirements to build wheel ... \u001b[?25l\u001b[?25hdone\n",
            "    Preparing wheel metadata ... \u001b[?25l\u001b[?25hdone\n",
            "Requirement already satisfied: typing-extensions>=3.6.4 in /usr/local/lib/python3.7/dist-packages (from importlib-metadata>=4.8.0->gym[accept-rom-license]) (4.1.1)\n",
            "Requirement already satisfied: zipp>=0.5 in /usr/local/lib/python3.7/dist-packages (from importlib-metadata>=4.8.0->gym[accept-rom-license]) (3.9.0)\n",
            "Requirement already satisfied: chardet<4,>=3.0.2 in /usr/local/lib/python3.7/dist-packages (from requests->autorom[accept-rom-license]~=0.4.2->gym[accept-rom-license]) (3.0.4)\n",
            "Requirement already satisfied: idna<3,>=2.5 in /usr/local/lib/python3.7/dist-packages (from requests->autorom[accept-rom-license]~=0.4.2->gym[accept-rom-license]) (2.10)\n",
            "Requirement already satisfied: urllib3!=1.25.0,!=1.25.1,<1.26,>=1.21.1 in /usr/local/lib/python3.7/dist-packages (from requests->autorom[accept-rom-license]~=0.4.2->gym[accept-rom-license]) (1.24.3)\n",
            "Requirement already satisfied: certifi>=2017.4.17 in /usr/local/lib/python3.7/dist-packages (from requests->autorom[accept-rom-license]~=0.4.2->gym[accept-rom-license]) (2022.9.24)\n",
            "Building wheels for collected packages: AutoROM.accept-rom-license\n",
            "  Building wheel for AutoROM.accept-rom-license (PEP 517) ... \u001b[?25l\u001b[?25hdone\n",
            "  Created wheel for AutoROM.accept-rom-license: filename=AutoROM.accept_rom_license-0.4.2-py3-none-any.whl size=441027 sha256=48df63a05c2a4931aa6a9b4e0774bf1d048ff1f63f889e62807d6e7c91ed8481\n",
            "  Stored in directory: /root/.cache/pip/wheels/87/67/2e/6147e7912fe37f5408b80d07527dab807c1d25f5c403a9538a\n",
            "Successfully built AutoROM.accept-rom-license\n",
            "Installing collected packages: AutoROM.accept-rom-license, autorom\n",
            "Successfully installed AutoROM.accept-rom-license-0.4.2 autorom-0.4.2\n",
            "Looking in indexes: https://pypi.org/simple, https://us-python.pkg.dev/colab-wheels/public/simple/\n",
            "Requirement already satisfied: gym[classic_control] in /usr/local/lib/python3.7/dist-packages (0.25.2)\n",
            "Requirement already satisfied: importlib-metadata>=4.8.0 in /usr/local/lib/python3.7/dist-packages (from gym[classic_control]) (4.13.0)\n",
            "Requirement already satisfied: gym-notices>=0.0.4 in /usr/local/lib/python3.7/dist-packages (from gym[classic_control]) (0.0.8)\n",
            "Requirement already satisfied: cloudpickle>=1.2.0 in /usr/local/lib/python3.7/dist-packages (from gym[classic_control]) (1.5.0)\n",
            "Requirement already satisfied: numpy>=1.18.0 in /usr/local/lib/python3.7/dist-packages (from gym[classic_control]) (1.21.6)\n",
            "Requirement already satisfied: pygame==2.1.0 in /usr/local/lib/python3.7/dist-packages (from gym[classic_control]) (2.1.0)\n",
            "Requirement already satisfied: zipp>=0.5 in /usr/local/lib/python3.7/dist-packages (from importlib-metadata>=4.8.0->gym[classic_control]) (3.9.0)\n",
            "Requirement already satisfied: typing-extensions>=3.6.4 in /usr/local/lib/python3.7/dist-packages (from importlib-metadata>=4.8.0->gym[classic_control]) (4.1.1)\n"
          ]
        }
      ],
      "source": [
        "!pip install gym[all]\n",
        "!pip install gym[accept-rom-license]\n",
        "!pip install gym[classic_control]"
      ]
    },
    {
      "cell_type": "code",
      "execution_count": null,
      "metadata": {
        "id": "W2qA2PPmcJmH"
      },
      "outputs": [],
      "source": [
        "import os\n",
        "os.environ[\"SDL_VIDEODRIVER\"] = \"dummy\""
      ]
    },
    {
      "cell_type": "code",
      "execution_count": null,
      "metadata": {
        "id": "4vGcXyI4qeOh"
      },
      "outputs": [],
      "source": [
        "import torch\n",
        "import torch.optim as optim\n",
        "import torch.nn as nn\n",
        "import torch.nn.functional as F\n",
        "import matplotlib.pyplot as plt\n",
        "import gym\n",
        "import numpy as np\n",
        "\n",
        "from collections import deque\n",
        "from gym import spaces\n",
        "import cv2\n",
        "cv2.ocl.setUseOpenCL(False)"
      ]
    },
    {
      "cell_type": "code",
      "execution_count": null,
      "metadata": {
        "id": "tC-OffQM3yr2"
      },
      "outputs": [],
      "source": []
    },
    {
      "cell_type": "code",
      "execution_count": null,
      "metadata": {
        "id": "WhbqJzltq48b"
      },
      "outputs": [],
      "source": [
        "device = torch.device(\"cuda\" if torch.cuda.is_available() else \"cpu\")"
      ]
    },
    {
      "cell_type": "code",
      "execution_count": null,
      "metadata": {
        "id": "X_5zoLauq6XH"
      },
      "outputs": [],
      "source": [
        "# replay buffer from and some code based on https://github.com/sfujim/TD3\n",
        "\n",
        "# create replay buffer of tuples of (state, next_state, action, reward, done)\n",
        "class ReplayBuffer():\n",
        "    def __init__(self, max_size=1e6):\n",
        "        self.storage = []\n",
        "        self.max_size = max_size\n",
        "        self.ptr = 0\n",
        "\n",
        "    def add(self, data):\n",
        "        if len(self.storage) == self.max_size:\n",
        "            self.storage[int(self.ptr)] = data\n",
        "            self.ptr = (self.ptr + 1) % self.max_size\n",
        "        else:\n",
        "            self.storage.append(data)\n",
        "\n",
        "    def sample(self, batch_size):\n",
        "        ind = np.random.randint(0, len(self.storage), size=batch_size)\n",
        "        x, y, u, r, d = [], [], [], [], []\n",
        "\n",
        "        for i in ind: \n",
        "            X, Y, U, R, D = self.storage[i]\n",
        "            x.append(np.array(X, copy=False))\n",
        "            y.append(np.array(Y, copy=False))\n",
        "            u.append(np.array(U, copy=False))\n",
        "            r.append(np.array(R, copy=False))\n",
        "            d.append(np.array(D, copy=False))\n",
        "\n",
        "        return np.array(x), np.array(y), np.array(u).reshape(-1,1), np.array(r).reshape(-1,1), np.array(d).reshape(-1,1)"
      ]
    },
    {
      "cell_type": "markdown",
      "metadata": {
        "id": "sblfFwxmrGKx"
      },
      "source": [
        "# Environment Wrappers #"
      ]
    },
    {
      "cell_type": "code",
      "execution_count": null,
      "metadata": {
        "id": "9lBuNwYsq-bc"
      },
      "outputs": [],
      "source": [
        "# from: https://github.com/openai/baselines/baselines/common/atari_wrappers.py\n",
        "# from: https://github.com/Officium/RL-Experiments/blob/master/src/common/wrappers.py \n",
        "\n",
        "class NoopResetEnv(gym.Wrapper):\n",
        "    def __init__(self, env, noop_max=30):\n",
        "        \"\"\"Sample initial states by taking random number of no-ops on reset.\n",
        "        No-op is assumed to be action 0.\n",
        "        \"\"\"\n",
        "        gym.Wrapper.__init__(self, env)\n",
        "        self.noop_max = noop_max\n",
        "        self.override_num_noops = None\n",
        "        self.noop_action = 0\n",
        "        assert env.unwrapped.get_action_meanings()[0] == 'NOOP'\n",
        "\n",
        "    def reset(self, **kwargs):\n",
        "        \"\"\" Do no-op action for a number of steps in [1, noop_max].\"\"\"\n",
        "        self.env.reset(**kwargs)\n",
        "        if self.override_num_noops is not None:\n",
        "            noops = self.override_num_noops\n",
        "        else:\n",
        "            noops = self.unwrapped.np_random.randint(1, self.noop_max + 1)\n",
        "        assert noops > 0\n",
        "        obs = None\n",
        "        for _ in range(noops):\n",
        "            obs, _, done, _ = self.env.step(self.noop_action)\n",
        "            if done:\n",
        "                obs = self.env.reset(**kwargs)\n",
        "        return obs\n",
        "\n",
        "    def step(self, ac):\n",
        "        return self.env.step(ac)"
      ]
    },
    {
      "cell_type": "code",
      "execution_count": null,
      "metadata": {
        "id": "8KbUgdw-rFe4"
      },
      "outputs": [],
      "source": [
        "class FireResetEnv(gym.Wrapper):\n",
        "    def __init__(self, env):\n",
        "        \"\"\"Take action on reset for environments that are fixed until firing.\"\"\"\n",
        "        gym.Wrapper.__init__(self, env)\n",
        "        assert env.unwrapped.get_action_meanings()[1] == 'FIRE'\n",
        "        assert len(env.unwrapped.get_action_meanings()) >= 3\n",
        "\n",
        "    def reset(self, **kwargs):\n",
        "        self.env.reset(**kwargs)\n",
        "        obs, _, done, _ = self.env.step(1)\n",
        "        if done:\n",
        "            self.env.reset(**kwargs)\n",
        "        obs, _, done, _ = self.env.step(2)\n",
        "        if done:\n",
        "            self.env.reset(**kwargs)\n",
        "        return obs\n",
        "\n",
        "    def step(self, ac):\n",
        "        return self.env.step(ac)"
      ]
    },
    {
      "cell_type": "code",
      "execution_count": null,
      "metadata": {
        "id": "f58GhVfnrdfR"
      },
      "outputs": [],
      "source": [
        "class EpisodicLifeEnv(gym.Wrapper):\n",
        "    def __init__(self, env):\n",
        "        \"\"\"Make end-of-life == end-of-episode, but only reset on true game over.\n",
        "        Done by DeepMind for the DQN and co. since it helps value estimation.\n",
        "        \"\"\"\n",
        "        gym.Wrapper.__init__(self, env)\n",
        "        self.lives = 0\n",
        "        self.was_real_done = True\n",
        "\n",
        "    def step(self, action):\n",
        "        obs, reward, done, info = self.env.step(action)\n",
        "        self.was_real_done = done\n",
        "        # check current lives, make loss of life terminal,\n",
        "        # then update lives to handle bonus lives\n",
        "        lives = self.env.unwrapped.ale.lives()\n",
        "        if 0 < lives < self.lives:\n",
        "            # for Qbert sometimes we stay in lives == 0 condition for a few\n",
        "            # frames so it's important to keep lives > 0, so that we only reset\n",
        "            # once the environment advertises done.\n",
        "            done = True\n",
        "        self.lives = lives\n",
        "        return obs, reward, done, info\n",
        "\n",
        "    def reset(self, **kwargs):\n",
        "        \"\"\"Reset only when lives are exhausted.\n",
        "        This way all states are still reachable even though lives are episodic,\n",
        "        and the learner need not know about any of this behind-the-scenes.\n",
        "        \"\"\"\n",
        "        if self.was_real_done:\n",
        "            obs = self.env.reset(**kwargs)\n",
        "        else:\n",
        "            # no-op step to advance from terminal/lost life state\n",
        "            obs, _, _, _ = self.env.step(0)\n",
        "        self.lives = self.env.unwrapped.ale.lives()"
      ]
    },
    {
      "cell_type": "code",
      "execution_count": null,
      "metadata": {
        "id": "zlmgc3nwrdiA"
      },
      "outputs": [],
      "source": [
        "class MaxAndSkipEnv(gym.Wrapper):\n",
        "    def __init__(self, env, skip=4):\n",
        "        \"\"\"Return only every `skip`-th frame\"\"\"\n",
        "        gym.Wrapper.__init__(self, env)\n",
        "        # most recent raw observations (for max pooling across time steps)\n",
        "        shape = (2, ) + env.observation_space.shape\n",
        "        self._obs_buffer = np.zeros(shape, dtype=np.uint8)\n",
        "        self._skip = skip\n",
        "\n",
        "    def step(self, action):\n",
        "        \"\"\"Repeat action, sum reward, and max over last observations.\"\"\"\n",
        "        total_reward = 0.0\n",
        "        done = info = None\n",
        "        for i in range(self._skip):\n",
        "            obs, reward, done, info = self.env.step(action)\n",
        "            if i == self._skip - 2:\n",
        "                self._obs_buffer[0] = obs\n",
        "            if i == self._skip - 1:\n",
        "                self._obs_buffer[1] = obs\n",
        "            total_reward += reward\n",
        "            if done:\n",
        "                break\n",
        "        # Note that the observation on the done=True frame doesn't matter\n",
        "        max_frame = self._obs_buffer.max(axis=0)\n",
        "\n",
        "        return max_frame, total_reward, done, info\n",
        "\n",
        "    def reset(self, **kwargs):\n",
        "        return self.env.reset(**kwargs)"
      ]
    },
    {
      "cell_type": "code",
      "execution_count": null,
      "metadata": {
        "id": "rFVZ02lTrdkm"
      },
      "outputs": [],
      "source": [
        "class ClipRewardEnv(gym.RewardWrapper):\n",
        "    def __init__(self, env):\n",
        "        gym.RewardWrapper.__init__(self, env)\n",
        "\n",
        "    @staticmethod\n",
        "    def reward(reward):\n",
        "        \"\"\"Bin reward to {+1, 0, -1} by its sign.\"\"\"\n",
        "        return np.sign(reward)\n",
        "\n",
        "\n",
        "class WarpFrame(gym.ObservationWrapper):\n",
        "    def __init__(self, env, width=84, height=84, grayscale=True):\n",
        "        \"\"\"Warp frames to 84x84 as done in the Nature paper and later work.\"\"\"\n",
        "        gym.ObservationWrapper.__init__(self, env)\n",
        "        self.width = width\n",
        "        self.height = height\n",
        "        self.grayscale = grayscale\n",
        "        shape = (1 if self.grayscale else 3, self.height, self.width)\n",
        "        self.observation_space = spaces.Box(\n",
        "            low=0, high=255, shape=shape, dtype=np.uint8\n",
        "        )\n",
        "\n",
        "    def observation(self, frame):\n",
        "        if self.grayscale:\n",
        "            frame = cv2.cvtColor(frame, cv2.COLOR_RGB2GRAY)\n",
        "        size = (self.width, self.height)\n",
        "        frame = cv2.resize(frame, size, interpolation=cv2.INTER_AREA)\n",
        "        if self.grayscale:\n",
        "            frame = np.expand_dims(frame, -1)\n",
        "        return frame.transpose((2, 0, 1))"
      ]
    },
    {
      "cell_type": "code",
      "execution_count": null,
      "metadata": {
        "id": "Ty_N-FpYrpso"
      },
      "outputs": [],
      "source": [
        "class FrameStack(gym.Wrapper):\n",
        "    def __init__(self, env, k):\n",
        "        \"\"\"Stack k last frames.\n",
        "        Returns lazy array, which is much more memory efficient.\n",
        "        See Also `LazyFrames`\n",
        "        \"\"\"\n",
        "        gym.Wrapper.__init__(self, env)\n",
        "        self.k = k\n",
        "        self.frames = deque([], maxlen=k)\n",
        "        shp = env.observation_space.shape\n",
        "        shape = (shp[0] * k, ) + shp[1:]\n",
        "        self.observation_space = spaces.Box(\n",
        "            low=0, high=255, shape=shape, dtype=env.observation_space.dtype\n",
        "        )\n",
        "\n",
        "    def reset(self):\n",
        "        ob = self.env.reset()\n",
        "        for _ in range(self.k):\n",
        "            self.frames.append(ob)\n",
        "        return np.asarray(self._get_ob())\n",
        "\n",
        "    def step(self, action):\n",
        "        ob, reward, done, info = self.env.step(action)\n",
        "        self.frames.append(ob)\n",
        "        return np.asarray(self._get_ob()), reward, done, info\n",
        "\n",
        "    def _get_ob(self):\n",
        "        assert len(self.frames) == self.k\n",
        "        return LazyFrames(list(self.frames))\n"
      ]
    },
    {
      "cell_type": "code",
      "execution_count": null,
      "metadata": {
        "id": "nYbVBTVjrdn8"
      },
      "outputs": [],
      "source": [
        "class LazyFrames(object):\n",
        "    def __init__(self, frames):\n",
        "        \"\"\"This object ensures that common frames between the observations are\n",
        "        only stored once. It exists purely to optimize memory usage which can be\n",
        "        huge for DQN's 1M frames replay buffers.\n",
        "        This object should only be converted to numpy array before being passed\n",
        "        to the model. You'd not believe how complex the previous solution was.\n",
        "        \"\"\"\n",
        "        self._frames = frames\n",
        "        self._out = None\n",
        "\n",
        "    def _force(self):\n",
        "        if self._out is None:\n",
        "            self._out = np.concatenate(self._frames, axis=-3)\n",
        "            self._frames = None\n",
        "        return self._out\n",
        "\n",
        "    def __array__(self, dtype=None):\n",
        "        out = self._force()\n",
        "        if dtype is not None:\n",
        "            out = out.astype(dtype)\n",
        "        return out\n",
        "\n",
        "    def __len__(self):\n",
        "        return len(self._force())\n",
        "\n",
        "    def __getitem__(self, i):\n",
        "        return self._force()[i]"
      ]
    },
    {
      "cell_type": "code",
      "execution_count": null,
      "metadata": {
        "id": "CEXmS0CNrFhX"
      },
      "outputs": [],
      "source": [
        "class ScaledFloatFrame(gym.ObservationWrapper):\n",
        "    def __init__(self, env):\n",
        "        gym.ObservationWrapper.__init__(self, env)\n",
        "        self.observation_space = gym.spaces.Box(low=0, high=1, shape=env.observation_space.shape, dtype=np.float32)\n",
        "\n",
        "    def observation(self, observation):\n",
        "        # careful! This undoes the memory optimization, use\n",
        "        # with smaller replay buffers only.\n",
        "        return np.array(observation).astype(np.float32) / 255.0\n",
        "    \n",
        "    \n",
        "def wrap_deepmind(env, episode_life=True, clip_rewards=True, frame_stack=False, scale=False):\n",
        "    \"\"\"Configure environment for DeepMind-style Atari.\n",
        "    \"\"\"\n",
        "    if episode_life:\n",
        "        env = EpisodicLifeEnv(env)\n",
        "    if 'FIRE' in env.unwrapped.get_action_meanings():\n",
        "        env = FireResetEnv(env)\n",
        "    env = WarpFrame(env, width=84, height=84)\n",
        "    env = MaxAndSkipEnv(env, skip=4)\n",
        "    if scale:\n",
        "        env = ScaledFloatFrame(env)\n",
        "    if clip_rewards:\n",
        "        env = ClipRewardEnv(env)\n",
        "    if frame_stack:\n",
        "        env = FrameStack(env, 4)\n",
        "    return env"
      ]
    },
    {
      "cell_type": "markdown",
      "metadata": {
        "id": "MAdDCS1DDDjj"
      },
      "source": [
        "# Wrapper Env code ends here  #"
      ]
    },
    {
      "cell_type": "markdown",
      "metadata": {
        "id": "ACSnE1xrr6S0"
      },
      "source": [
        "# Pong #"
      ]
    },
    {
      "cell_type": "code",
      "execution_count": null,
      "metadata": {
        "colab": {
          "base_uri": "https://localhost:8080/"
        },
        "id": "KBoYn8pPrFkE",
        "outputId": "d8081b9d-3fea-4548-a150-b826873f14fb"
      },
      "outputs": [
        {
          "output_type": "stream",
          "name": "stderr",
          "text": [
            "/usr/local/lib/python3.7/dist-packages/gym/envs/registration.py:594: UserWarning: \u001b[33mWARN: The environment Pong-v0 is out of date. You should consider upgrading to version `v4`.\u001b[0m\n",
            "  f\"The environment {id} is out of date. You should consider \"\n",
            "/usr/local/lib/python3.7/dist-packages/gym/core.py:318: DeprecationWarning: \u001b[33mWARN: Initializing wrapper in old step API which returns one bool instead of two. It is recommended to set `new_step_api=True` to use new step API. This will be the default behaviour in future.\u001b[0m\n",
            "  \"Initializing wrapper in old step API which returns one bool instead of two. It is recommended to set `new_step_api=True` to use new step API. This will be the default behaviour in future.\"\n",
            "/usr/local/lib/python3.7/dist-packages/gym/wrappers/step_api_compatibility.py:40: DeprecationWarning: \u001b[33mWARN: Initializing environment in old step API which returns one bool instead of two. It is recommended to set `new_step_api=True` to use new step API. This will be the default behaviour in future.\u001b[0m\n",
            "  \"Initializing environment in old step API which returns one bool instead of two. It is recommended to set `new_step_api=True` to use new step API. This will be the default behaviour in future.\"\n",
            "/usr/local/lib/python3.7/dist-packages/gym/core.py:44: DeprecationWarning: \u001b[33mWARN: The argument mode in render method is deprecated; use render_mode during environment initialization instead.\n",
            "See here for more information: https://www.gymlibrary.ml/content/api/\u001b[0m\n",
            "  \"The argument mode in render method is deprecated; \"\n",
            "/usr/local/lib/python3.7/dist-packages/gym/utils/passive_env_checker.py:298: UserWarning: \u001b[33mWARN: No render fps was declared in the environment (env.metadata['render_fps'] is None or not defined), rendering may occur at inconsistent fps.\u001b[0m\n",
            "  \"No render fps was declared in the environment (env.metadata['render_fps'] is None or not defined), rendering may occur at inconsistent fps.\"\n",
            "/usr/local/lib/python3.7/dist-packages/gym/utils/passive_env_checker.py:228: DeprecationWarning: \u001b[33mWARN: Core environment is written in old step API which returns one bool instead of two. It is recommended to rewrite the environment with new step API. \u001b[0m\n",
            "  \"Core environment is written in old step API which returns one bool instead of two. \"\n"
          ]
        }
      ],
      "source": [
        "#create Pong env and test it a bit\n",
        "env = gym.make('PongNoFrameskip-v4')# gym.make(\"Pong-v0\")#gym.make(\"ALE/Pong-v5\") #gym.make(\"Pong-v0\")#('PongNoFrameskip-v4')\n",
        "env.reset()\n",
        "\n",
        "for i in range(3000):\n",
        "    env.render(mode = 'rgb_array')\n",
        "    action = env.action_space.sample()\n",
        "    next_state, reward, done, info = env.step(action)\n",
        "    if done:\n",
        "        env.reset()\n",
        "env.close()"
      ]
    },
    {
      "cell_type": "markdown",
      "metadata": {
        "id": "LpwyA1AsELq_"
      },
      "source": [
        "# Deep Q Network "
      ]
    },
    {
      "cell_type": "code",
      "execution_count": null,
      "metadata": {
        "id": "NWpCsR3aEQQ6"
      },
      "outputs": [],
      "source": [
        "# create Deep Q Network Class by inheriting from torch.nn.Module\n",
        "# based on Nature CNN from OpenAI baselines: https://github.com/openai/baselines/blob/1b092434fc51efcb25d6650e287f07634ada1e08/baselines/common/models.py\n",
        "            \n",
        "class DeepQNetwork(nn.Module):\n",
        "    def __init__(self, action_size, hidden_size):\n",
        "        super(DeepQNetwork, self).__init__()\n",
        "        self.conv_layer_1 = nn.Conv2d(4, 32, kernel_size=8, stride=4)\n",
        "        self.conv_layer_2 = nn.Conv2d(32, 64, kernel_size=4, stride=2)\n",
        "        self.conv_layer_3 = nn.Conv2d(64, 64, kernel_size=3, stride=1)\n",
        "        self.dense_layer = nn.Linear(7 * 7 * 64, hidden_size)\n",
        "        self.out_layer = nn.Linear(hidden_size, action_size)\n",
        "\n",
        "    def forward(self, x):\n",
        "        x = x / 255. # image data is stored as ints in 0 to 255 range. Divide to scale to 0 to 1 range\n",
        "        x = F.relu(self.conv_layer_1(x))\n",
        "        x = F.relu(self.conv_layer_2(x))\n",
        "        x = F.relu(self.conv_layer_3(x))\n",
        "        x = F.relu(self.dense_layer(x.view(x.size(0), -1)))\n",
        "        return self.out_layer(x)"
      ]
    },
    {
      "cell_type": "markdown",
      "metadata": {
        "id": "ky4xTGkLEuDi"
      },
      "source": [
        "# DQNAgent Class"
      ]
    },
    {
      "cell_type": "code",
      "execution_count": null,
      "metadata": {
        "id": "bmzCYK_fEvrb"
      },
      "outputs": [],
      "source": [
        "class DQNAgent():\n",
        "    def __init__(self, action_size, hidden_size, learning_rate ):\n",
        "        self.action_size = action_size\n",
        "        self.train_net = DeepQNetwork(action_size, hidden_size).to(device)\n",
        "        self.target_net = DeepQNetwork(action_size, hidden_size).to(device)\n",
        "        self.target_net.load_state_dict(self.train_net.state_dict())\n",
        "        self.optimizer = optim.Adam(self.train_net.parameters(), lr=learning_rate)\n",
        "\n",
        "        \n",
        "    def select_action(self, s, eps):\n",
        "        # select action according to epsilon-greedy method\n",
        "        if np.random.rand() <= eps:\n",
        "            a = env.action_space.sample()\n",
        "        else:\n",
        "            # greedy action is the largest Q value from the train network based on the input\n",
        "            with torch.no_grad():\n",
        "                input_state = torch.FloatTensor(np.array(s)).unsqueeze(0).to(device)\n",
        "                a = self.train_net(input_state).max(1)[1]#.view(1, 1)#.detach().cpu().numpy()[0]\n",
        "                a = int(a)\n",
        "        return a\n",
        "\n",
        "    \n",
        "    def train(self, replay_buffer, batch_size, discount):\n",
        "        # train the training network\n",
        "        # sample a batch from the replay buffer\n",
        "        x0, x1, a, r, d = replay_buffer.sample(batch_size)\n",
        "        # turn batches into tensors and attack to GPU if available\n",
        "        state_batch = torch.FloatTensor(x0).to(device)\n",
        "        next_state_batch = torch.FloatTensor(x1).to(device)\n",
        "        action_batch = torch.LongTensor(a).to(device)\n",
        "        reward_batch = torch.FloatTensor(r).to(device)\n",
        "        done_batch = torch.FloatTensor(1. - d).to(device)\n",
        "\n",
        "        # get train net Q values\n",
        "        train_q = self.train_net(state_batch).gather(1, action_batch)\n",
        "        \n",
        "        # get target net Q values\n",
        "        with torch.no_grad():\n",
        "            target_net_q = reward_batch + done_batch * discount * \\\n",
        "                     torch.max( self.target_net(next_state_batch).detach(), dim=1)[0].view(batch_size, -1)\n",
        "            \n",
        "        # get loss between train q values and target q values\n",
        "            # DQN implementations typically use MSE loss or Huber loss (smooth_l1_loss is similar to Huber)\n",
        "        #loss_fn = nn.MSELoss()\n",
        "        #loss = loss_fn(train_q, target_net_q) \n",
        "        loss = F.smooth_l1_loss(train_q, target_net_q)\n",
        "        \n",
        "        # optimize the parameters with the loss\n",
        "        self.optimizer.zero_grad()\n",
        "        loss.backward()\n",
        "        for param in self.train_net.parameters():\n",
        "            param.grad.data.clamp_(-1, 1)\n",
        "        self.optimizer.step()\n",
        "        # we return the loss so we can monitor loss and debug the network if necessary\n",
        "        return loss.detach().cpu().numpy()   \n",
        "    \n",
        "    \n",
        "    def update_target_network(self, num_iter, update_every):\n",
        "        # update target network every so often\n",
        "        # hard target network update: updates target network fully with train network params\n",
        "        if num_iter % update_every == 0:\n",
        "            #print(\"Updating target network parameters\")\n",
        "            self.target_net.load_state_dict(self.train_net.state_dict())    "
      ]
    },
    {
      "cell_type": "markdown",
      "metadata": {
        "id": "Ii_XFrqoG0BE"
      },
      "source": [
        "# Hyperparameters"
      ]
    },
    {
      "cell_type": "code",
      "execution_count": null,
      "metadata": {
        "id": "HwOZfDl_Ejuq"
      },
      "outputs": [],
      "source": [
        "# Initialize env and set up hyperparameters\n",
        "env = gym.make('PongNoFrameskip-v4')\n",
        "\n",
        "# wrap env\n",
        "env = wrap_deepmind(env, episode_life=True, clip_rewards=True, frame_stack=True, scale=False)\n",
        "action_size = env.action_space.n\n",
        "\n",
        "# set seed\n",
        "seed = 31\n",
        "env.seed(seed)\n",
        "np.random.seed(seed)\n",
        "torch.manual_seed(seed)\n",
        "if torch.cuda.is_available():\n",
        "    torch.cuda.manual_seed(seed)\n",
        "    torch.cuda.manual_seed_all(seed)\n",
        "\n",
        "# hyperparameters\n",
        "timesteps = 2000000 # run env for this many time steps\n",
        "hidden_size = 512   # side of hidden layer of FFNN that connects CNN to outputs\n",
        "learning_rate = 0.0001 # learning rate of optimizer\n",
        "batch_size = 32    # size of batch trained on\n",
        "start_training_after = 10001 # start training NN after this many timesteps\n",
        "discount = 0.99 # discount future states by\n",
        "\n",
        "epsilon_start = 1.0 # epsilon greedy start value\n",
        "epsilon_min = 0.01  # epsilon greedy end value\n",
        "epsilon_decay_steps = timesteps * .15 # decay epsilon over this many timesteps\n",
        "epsilon_step = (epsilon_start - epsilon_min)/(epsilon_decay_steps) # decrement epsilon by this amount every timestep\n",
        "\n",
        "update_target_every = 1000 # update target network every this steps\n",
        "\n",
        "# create replay buffer\n",
        "replay_size = 50000 # size of replay buffer\n",
        "replay_buffer = ReplayBuffer(max_size=replay_size)\n",
        "\n",
        "# create DQN Agent\n",
        "dqn_agent = DQNAgent(action_size, hidden_size, learning_rate)"
      ]
    },
    {
      "cell_type": "markdown",
      "metadata": {
        "id": "EEhNtMeiHAu4"
      },
      "source": [
        "# RL Training Loop"
      ]
    },
    {
      "cell_type": "code",
      "execution_count": null,
      "metadata": {
        "colab": {
          "base_uri": "https://localhost:8080/"
        },
        "id": "c9kCj6XGrFni",
        "outputId": "64dd95e2-8abb-42f3-ffdd-2e2e9ec9526c"
      },
      "outputs": [
        {
          "output_type": "stream",
          "name": "stdout",
          "text": [
            "Episode: 20 Timestep: 17725 Total reward: -20.0 Episode length: 920.3 Epsilon: 0.94 Loss: 89.6150\n",
            "Episode: 30 Timestep: 26859 Total reward: -20.4 Episode length: 913.4 Epsilon: 0.91 Loss: 66.7486\n",
            "Episode: 40 Timestep: 36124 Total reward: -20.2 Episode length: 926.5 Epsilon: 0.88 Loss: 32.6168\n",
            "Episode: 50 Timestep: 46172 Total reward: -19.8 Episode length: 1004.8 Epsilon: 0.85 Loss: 37.8558\n",
            "Episode: 60 Timestep: 55410 Total reward: -20.5 Episode length: 923.8 Epsilon: 0.82 Loss: 32.0080\n",
            "Episode: 70 Timestep: 65478 Total reward: -19.5 Episode length: 1006.8 Epsilon: 0.78 Loss: 35.0032\n",
            "Episode: 80 Timestep: 77752 Total reward: -18.3 Episode length: 1227.4 Epsilon: 0.74 Loss: 48.4658\n",
            "Episode: 90 Timestep: 89107 Total reward: -19.4 Episode length: 1135.5 Epsilon: 0.71 Loss: 44.1860\n",
            "Episode: 100 Timestep: 101954 Total reward: -18.1 Episode length: 1284.7 Epsilon: 0.66 Loss: 53.6568\n",
            "Episode: 110 Timestep: 114918 Total reward: -18.7 Episode length: 1296.4 Epsilon: 0.62 Loss: 53.8707\n",
            "Episode: 120 Timestep: 128046 Total reward: -18.2 Episode length: 1312.8 Epsilon: 0.58 Loss: 57.1397\n",
            "Episode: 130 Timestep: 142162 Total reward: -18.3 Episode length: 1411.6 Epsilon: 0.53 Loss: 66.3709\n",
            "Episode: 140 Timestep: 156770 Total reward: -17.9 Episode length: 1460.8 Epsilon: 0.48 Loss: 69.7467\n",
            "Episode: 150 Timestep: 172885 Total reward: -17.7 Episode length: 1611.5 Epsilon: 0.43 Loss: 82.4924\n",
            "Episode: 160 Timestep: 190124 Total reward: -16.6 Episode length: 1723.9 Epsilon: 0.37 Loss: 88.3014\n",
            "Episode: 170 Timestep: 209430 Total reward: -16.3 Episode length: 1930.6 Epsilon: 0.31 Loss: 93.6989\n",
            "Episode: 180 Timestep: 229262 Total reward: -15.8 Episode length: 1983.2 Epsilon: 0.24 Loss: 97.7968\n",
            "Episode: 190 Timestep: 250011 Total reward: -16.3 Episode length: 2074.9 Epsilon: 0.17 Loss: 93.6087\n",
            "Episode: 200 Timestep: 272907 Total reward: -15.3 Episode length: 2289.6 Epsilon: 0.10 Loss: 95.9001\n",
            "Episode: 210 Timestep: 299369 Total reward: -13.4 Episode length: 2646.2 Epsilon: 0.01 Loss: 96.4894\n",
            "Episode: 220 Timestep: 334115 Total reward: -4.3 Episode length: 3474.6 Epsilon: 0.01 Loss: 115.4193\n",
            "Episode: 230 Timestep: 369932 Total reward: 1.4 Episode length: 3581.7 Epsilon: 0.01 Loss: 106.1303\n",
            "Episode: 240 Timestep: 400902 Total reward: 7.5 Episode length: 3097.0 Epsilon: 0.01 Loss: 78.2075\n",
            "Episode: 250 Timestep: 429094 Total reward: 11.3 Episode length: 2819.2 Epsilon: 0.01 Loss: 67.8380\n",
            "Episode: 260 Timestep: 451980 Total reward: 15.1 Episode length: 2288.6 Epsilon: 0.01 Loss: 48.9952\n",
            "Episode: 270 Timestep: 470500 Total reward: 18.9 Episode length: 1852.0 Epsilon: 0.01 Loss: 28.3072\n",
            "Episode: 280 Timestep: 489078 Total reward: 18.8 Episode length: 1857.8 Epsilon: 0.01 Loss: 19.4887\n",
            "Episode: 290 Timestep: 507919 Total reward: 18.5 Episode length: 1884.1 Epsilon: 0.01 Loss: 13.5874\n",
            "Episode: 300 Timestep: 527106 Total reward: 18.5 Episode length: 1918.7 Epsilon: 0.01 Loss: 11.9454\n",
            "Stopping at episode 307 with average rewards of 19.2 in last 10 episodes\n"
          ]
        }
      ],
      "source": [
        "stats_rewards_list = [] # store stats for plotting in this\n",
        "stats_every = 10 # print stats every this many episodes\n",
        "total_reward = 0\n",
        "episode = 1\n",
        "episode_length = 0\n",
        "stats_loss = 0.\n",
        "epsilon = epsilon_start\n",
        "state = env.reset()\n",
        "\n",
        "for ts in range(timesteps):\n",
        "    #env.render()\n",
        "    # select an action from the agent's policy\n",
        "    action = dqn_agent.select_action(state, epsilon)\n",
        "    # decay epsilon\n",
        "    epsilon -= epsilon_step\n",
        "    if epsilon < epsilon_min:\n",
        "        epsilon = epsilon_min\n",
        "            \n",
        "    # enter action into the env\n",
        "    next_state, reward, done, info = env.step(action)\n",
        "    total_reward += reward\n",
        "    episode_length += 1\n",
        "    \n",
        "    # add experience to replay buffer\n",
        "    replay_buffer.add((state, next_state, action, reward, float(done)))\n",
        "    \n",
        "    if ts > start_training_after:\n",
        "        # train the agent\n",
        "        stats_loss += dqn_agent.train(replay_buffer, batch_size, discount)\n",
        "        # update the target network every (if conditions are met in update_target_network)\n",
        "        dqn_agent.update_target_network(ts, update_target_every)\n",
        "    \n",
        "    if done:\n",
        "        state = env.reset()\n",
        "        stats_rewards_list.append((episode, total_reward, episode_length))\n",
        "        episode += 1\n",
        "        total_reward = 0\n",
        "        episode_length = 0\n",
        "\n",
        "        if ts > start_training_after and episode % stats_every == 0:\n",
        "            print('Episode: {}'.format(episode),\n",
        "                'Timestep: {}'.format(ts),\n",
        "                'Total reward: {:.1f}'.format(np.mean(stats_rewards_list[-stats_every:],axis=0)[1]),\n",
        "                'Episode length: {:.1f}'.format(np.mean(stats_rewards_list[-stats_every:],axis=0)[2]),\n",
        "                'Epsilon: {:.2f}'.format(epsilon),\n",
        "                'Loss: {:.4f}'.format(stats_loss))\n",
        "            stats_loss = 0.\n",
        "        \n",
        "        # stopping condition for training if agent reaches the amount of reward\n",
        "        if len(stats_rewards_list) > stats_every and np.mean(stats_rewards_list[-stats_every:],axis=0)[1] > 19:\n",
        "            print(\"Stopping at episode {} with average rewards of {} in last {} episodes\".\n",
        "                format(episode, np.mean(stats_rewards_list[-stats_every:],axis=0)[1], stats_every))\n",
        "            break  \n",
        "    else:\n",
        "        state = next_state"
      ]
    },
    {
      "cell_type": "code",
      "source": [
        "# plot stats\n",
        "def get_running_stat(stat, stat_len):\n",
        "    cum_sum = np.cumsum(np.insert(stat, 0, 0)) \n",
        "    return (cum_sum[stat_len:] - cum_sum[:-stat_len]) / stat_len\n",
        "\n",
        "episode, r, l = np.array(stats_rewards_list).T\n",
        "cum_r = get_running_stat(r, 10)\n",
        "cum_l = get_running_stat(l, 10)\n",
        "\n",
        "# plot rewards\n",
        "plt.plot(episode[-len(cum_r):], cum_r)\n",
        "plt.plot(episode, r, alpha=0.5)\n",
        "plt.xlabel('Episode')\n",
        "plt.ylabel('Episode Reward')"
      ],
      "metadata": {
        "colab": {
          "base_uri": "https://localhost:8080/",
          "height": 296
        },
        "id": "7kXXXzJWm699",
        "outputId": "21f1c701-ec12-4201-9795-051441195f97"
      },
      "execution_count": null,
      "outputs": [
        {
          "output_type": "execute_result",
          "data": {
            "text/plain": [
              "Text(0, 0.5, 'Episode Reward')"
            ]
          },
          "metadata": {},
          "execution_count": 19
        },
        {
          "output_type": "display_data",
          "data": {
            "text/plain": [
              "<Figure size 432x288 with 1 Axes>"
            ],
            "image/png": "[encoded data removed]"
          },
          "metadata": {
            "needs_background": "light"
          }
        }
      ]
    },
    {
      "cell_type": "code",
      "source": [
        "# plot episode lengths\n",
        "plt.plot(episode[-len(cum_l):], cum_l)\n",
        "plt.plot(episode, l, alpha=0.5)\n",
        "plt.xlabel('Episode')\n",
        "plt.ylabel('Episode Length')"
      ],
      "metadata": {
        "colab": {
          "base_uri": "https://localhost:8080/",
          "height": 296
        },
        "id": "q37mxWESm8H_",
        "outputId": "020602f1-b1fd-4ea9-9ce5-6f005bf71a28"
      },
      "execution_count": null,
      "outputs": [
        {
          "output_type": "execute_result",
          "data": {
            "text/plain": [
              "Text(0, 0.5, 'Episode Length')"
            ]
          },
          "metadata": {},
          "execution_count": 20
        },
        {
          "output_type": "display_data",
          "data": {
            "text/plain": [
              "<Figure size 432x288 with 1 Axes>"
            ],
            "image/png": "[encoded data removed]"
          },
          "metadata": {
            "needs_background": "light"
          }
        }
      ]
    }
  ],
  "metadata": {
    "accelerator": "GPU",
    "colab": {
      "collapsed_sections": [],
      "provenance": []
    },
    "gpuClass": "standard",
    "kernelspec": {
      "display_name": "Python 3",
      "name": "python3"
    },
    "language_info": {
      "name": "python"
    }
  },
  "nbformat": 4,
  "nbformat_minor": 0
}